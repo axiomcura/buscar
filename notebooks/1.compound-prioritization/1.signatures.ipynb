{
 "cells": [
  {
   "cell_type": "markdown",
   "id": "293811c0",
   "metadata": {},
   "source": [
    "# Extracting Morphological Signatures\n",
    "\n",
    "In this notebook, we extract morphological signatures associated with two distinct cell states:  \n",
    "- **On-morphology features**: Features that significantly change with the cell state  \n",
    "- **Off-morphology features**: Features that do not show significant changes with the cell state\n",
    "\n",
    "We identify and categorize features as either on- or off-morphology signatures using a systematic workflow.  \n",
    "This approach is applied to three datasets: Pilot-CFReT, MitoCheck, and CPJUMP1 (CRISPR only).\n",
    "\n",
    "The analysis workflow consists of:\n",
    "1. Loading morphological profiles from negative and positive controls\n",
    "2. Comparing profiles to identify differentially affected features\n",
    "3. Categorizing features into on-morphology (significantly changed) and off-morphology (unchanged) signatures\n",
    "4. Generating consensus signatures across multiple control combinations"
   ]
  },
  {
   "cell_type": "code",
   "execution_count": 3,
   "id": "75f8e42f",
   "metadata": {},
   "outputs": [],
   "source": [
    "# Import required libraries\n",
    "import sys\n",
    "import json\n",
    "import pathlib\n",
    "import itertools\n",
    "from collections import defaultdict\n",
    "\n",
    "import tqdm\n",
    "import polars as pl\n",
    "\n",
    "# Import custom utility functions\n",
    "sys.path.append(\"../../\")\n",
    "from utils.signatures import get_signatures\n",
    "from utils.io_utils import load_profiles\n",
    "from utils.data_utils import generate_consensus_signatures, split_meta_and_features"
   ]
  },
  {
   "cell_type": "code",
   "execution_count": 4,
   "id": "2786a7e3",
   "metadata": {},
   "outputs": [],
   "source": [
    "# Analysis parameters\n",
    "seed = 0  # Random seed for reproducibility\n",
    "\n",
    "# current options are: \"ks_test\", \"permutation_test\", \"welchs_ttest\", \"mann_whitney_u\"\n",
    "method = \"ks_test\""
   ]
  },
  {
   "cell_type": "markdown",
   "id": "c3bebb22",
   "metadata": {},
   "source": [
    "## Setting Input and Output Paths\n",
    "\n",
    "Configure file paths for data loading and results storage."
   ]
  },
  {
   "cell_type": "code",
   "execution_count": 5,
   "id": "de5258a2",
   "metadata": {},
   "outputs": [],
   "source": [
    "# setting data directory paths\n",
    "data_dir = pathlib.Path(\"../0.download-data/data/\").resolve(strict=True)\n",
    "data_results_dir = pathlib.Path(\"../0.download-data/results/\").resolve(strict=True)\n",
    "\n",
    "# setting directory path were all the single-cell profiles are\n",
    "data_sc_profiles_path = (data_dir / \"sc-profiles\").resolve(strict=True)\n",
    "\n",
    "# setting all profile directory paths\n",
    "cpjump1_profiles_dir_path = (data_sc_profiles_path / \"cpjump1\").resolve(strict=True)\n",
    "cfret_profiles_dir_path = (data_sc_profiles_path / \"cfret\").resolve(strict=True)\n",
    "mitocheck_profiles_dir_path = (data_sc_profiles_path / \"mitocheck\").resolve(strict=True)\n",
    "\n",
    "# setting CPJUMP1 data paths and configs\n",
    "cpjump1_negcon_profile_path = list(\n",
    "    ((cpjump1_profiles_dir_path / \"negcon\").resolve(strict=True).glob(\"*.parquet\"))\n",
    ")\n",
    "cpjump1_poscon_profile_path = (\n",
    "    cpjump1_profiles_dir_path / \"poscon\" / \"poscon_cp_df.parquet\"\n",
    ").resolve(strict=True)\n",
    "cpjump1_shared_features_config_path = (\n",
    "    data_sc_profiles_path / \"cpjump1\" / \"feature_selected_sc_qc_features.json\"\n",
    ").resolve(strict=True)\n",
    "\n",
    "# setting Mitocheck data paths\n",
    "mitocheck_profiles_path = (\n",
    "    mitocheck_profiles_dir_path / \"mitocheck_concat_profiles.parquet\"\n",
    ").resolve(strict=True)\n",
    "mitocheck_feature_space_config = (\n",
    "    mitocheck_profiles_dir_path / \"mitocheck_feature_space_configs.json\"\n",
    ").resolve(strict=True)\n",
    "\n",
    "# setting CFReT profile path\n",
    "cfret_plate_path = (\n",
    "    cfret_profiles_dir_path / \"localhost230405150001_sc_feature_selected.parquet\"\n",
    ").resolve(strict=True)\n",
    "\n",
    "# Creating results directory structure\n",
    "results_dir = pathlib.Path(\"results\").resolve()\n",
    "results_dir.mkdir(exist_ok=True)\n",
    "\n",
    "# Creating \"signature_results\" subdirectory within the results directory\n",
    "signature_results_dir = (results_dir / \"signature_results\").resolve()\n",
    "signature_results_dir.mkdir(exist_ok=True)"
   ]
  },
  {
   "cell_type": "markdown",
   "id": "f89da5f2",
   "metadata": {},
   "source": [
    "## Loading Morphological Profiles\n",
    "\n",
    "Load the morphological profiles for negative and positive controls from the CPJUMP1 dataset."
   ]
  },
  {
   "cell_type": "markdown",
   "id": "2b84f5f1",
   "metadata": {},
   "source": [
    "### Loading CPJUMP1 CRISPR Profiles\n",
    "\n",
    "Load the negative and positive control profiles from the CPJUMP1 dataset."
   ]
  },
  {
   "cell_type": "code",
   "execution_count": 6,
   "id": "4cbfe524",
   "metadata": {},
   "outputs": [
    {
     "name": "stdout",
     "output_type": "stream",
     "text": [
      "Unique positive control types:\n",
      "['FLT3', 'AURKB', 'PAK1', 'ERBB2', 'MET', 'CLK1', 'BRD4', 'IGF1R', 'USP1', 'JAK1', 'EZH2', 'DYRK1B', 'HDAC3']\n"
     ]
    }
   ],
   "source": [
    "# Loading shared features configuration\n",
    "with open(cpjump1_shared_features_config_path, \"r\") as f:\n",
    "    feature_space = json.load(f)\n",
    "shared_features = feature_space[\"shared-features\"]\n",
    "\n",
    "# Loading the 10 randomly subsampled negative control profiles\n",
    "cpjump1_negcon_df = []\n",
    "for negcon_df_path in cpjump1_negcon_profile_path:\n",
    "    # Extract seed ID from file path\n",
    "    seed_id = negcon_df_path.stem.split(\"_\")[-1]\n",
    "\n",
    "    # Load profile data\n",
    "    loaded_negcon_df = load_profiles(negcon_df_path)\n",
    "\n",
    "    # Insert seed ID at the beginning of the dataframe\n",
    "    loaded_negcon_df = loaded_negcon_df.with_columns(\n",
    "        pl.lit(seed_id).alias(\"Metadata_seed_id\")\n",
    "    ).select([\"Metadata_seed_id\"] + loaded_negcon_df.columns)\n",
    "\n",
    "    # Append to list\n",
    "    cpjump1_negcon_df.append(loaded_negcon_df)\n",
    "\n",
    "# Concatenate all negative control dataframes\n",
    "cpjump1_negcon_df = pl.concat(cpjump1_negcon_df)\n",
    "\n",
    "# Load positive control profiles\n",
    "cpjump1_poscon_df = load_profiles(cpjump1_poscon_profile_path)\n",
    "\n",
    "# Display the unique positive control types\n",
    "print(\"Unique positive control types:\")\n",
    "print(cpjump1_poscon_df[\"Metadata_gene\"].unique().to_list())"
   ]
  },
  {
   "cell_type": "markdown",
   "id": "4a90b716",
   "metadata": {},
   "source": [
    "### Loading MitoCheck data"
   ]
  },
  {
   "cell_type": "code",
   "execution_count": 7,
   "id": "28800f72",
   "metadata": {},
   "outputs": [],
   "source": [
    "# load profiles and separate into positive and negative controls\n",
    "mitocheck_df = load_profiles(mitocheck_profiles_path)\n",
    "mitocheck_poscon_df = mitocheck_df.filter(\n",
    "    pl.col(\"Mitocheck_Phenotypic_Class\") == \"poscon\"\n",
    ")\n",
    "mitocheck_negcon_df = mitocheck_df.filter(\n",
    "    pl.col(\"Mitocheck_Phenotypic_Class\") == \"negcon\"\n",
    ")"
   ]
  },
  {
   "cell_type": "code",
   "execution_count": 8,
   "id": "d5fd1406",
   "metadata": {},
   "outputs": [
    {
     "name": "stdout",
     "output_type": "stream",
     "text": [
      "These are the positive control gene: ['KIF11', 'COPB', 'ENSG00000149503']\n",
      "Dataframe shape for poscon: (612059, 172)\n",
      "Dataframe shape for negcon: (779993, 172)\n"
     ]
    }
   ],
   "source": [
    "# loading in feature space\n",
    "with open(mitocheck_feature_space_config, \"r\") as f:\n",
    "    mitocheck_feature_space = json.load(f)\n",
    "\n",
    "# displaying the poscon genes\n",
    "print(\n",
    "    f\"These are the positive control gene: {mitocheck_poscon_df['Metadata_Gene'].unique().to_list()}\"\n",
    ")\n",
    "print(f\"Dataframe shape for poscon: {mitocheck_poscon_df.shape}\")\n",
    "print(f\"Dataframe shape for negcon: {mitocheck_negcon_df.shape}\")"
   ]
  },
  {
   "cell_type": "markdown",
   "id": "2f88a5a5",
   "metadata": {},
   "source": [
    "### Loading CFReT Dataset "
   ]
  },
  {
   "cell_type": "code",
   "execution_count": 9,
   "id": "87e9e0b7",
   "metadata": {},
   "outputs": [],
   "source": [
    "# load in CFReT data\n",
    "cfret_df = load_profiles(cfret_plate_path)\n",
    "\n",
    "# split features\n",
    "cfret_meta, cfret_feats = split_meta_and_features(cfret_df)\n",
    "\n",
    "# Filter and collect only what you need\n",
    "cfret_negcon_df = cfret_df.filter(pl.col(\"Metadata_treatment\") == \"DMSO\")\n",
    "cfret_poscon_df = cfret_df.filter(pl.col(\"Metadata_treatment\") == \"TGFRi\")"
   ]
  },
  {
   "cell_type": "markdown",
   "id": "14579001",
   "metadata": {},
   "source": [
    "## Generating On and Off Morphology Signatures"
   ]
  },
  {
   "cell_type": "markdown",
   "id": "4bd40ec0",
   "metadata": {},
   "source": [
    "### Signature Generation Process for CPJUMP CRISPR data\n",
    "\n",
    "Create on and off morphological signatures using different positive controls and randomly sampled negative control profiles. This process compares each negative control sample against each positive control to identify consistent morphological changes."
   ]
  },
  {
   "cell_type": "code",
   "execution_count": 10,
   "id": "e25151af",
   "metadata": {},
   "outputs": [
    {
     "name": "stderr",
     "output_type": "stream",
     "text": [
      "Processing combinations: 100%|██████████| 130/130 [20:40<00:00,  9.54s/it]\n"
     ]
    }
   ],
   "source": [
    "# Setting save path\n",
    "cpjump1_save_path = (\n",
    "    signature_results_dir / f\"{method}_cpjump1_negcon_poscon_signatures.json\"\n",
    ").resolve()\n",
    "\n",
    "# If the file does not exist, iterate all combinations and identify signatures\n",
    "# If the file exists, skip the whole process and just load the saved file\n",
    "if not cpjump1_save_path.exists():\n",
    "    # Creating all possible combinations between the randomly selected negative\n",
    "    # control profiles and positive controls\n",
    "    negcon_and_poscon_combinations = list(\n",
    "        itertools.product(\n",
    "            cpjump1_negcon_df[\"Metadata_seed_id\"].unique().to_list(),\n",
    "            cpjump1_poscon_df[\"Metadata_gene\"].unique().to_list(),\n",
    "        )\n",
    "    )\n",
    "\n",
    "    # Iterate through each randomly sampled negative control and positive control combination\n",
    "    cpjump1_signature_results = defaultdict(\n",
    "        lambda: None\n",
    "    )  # Used for storing comparisons and signatures\n",
    "    for negcon_seed, poscon_gene in tqdm.tqdm(\n",
    "        negcon_and_poscon_combinations, desc=\"Processing combinations\"\n",
    "    ):\n",
    "        # Select negative control profile for current seed\n",
    "        selected_negcon_df = cpjump1_negcon_df.filter(\n",
    "            pl.col(\"Metadata_seed_id\") == negcon_seed\n",
    "        )\n",
    "\n",
    "        # Select positive control profile for current gene\n",
    "        selected_poscon_df = cpjump1_poscon_df.filter(\n",
    "            pl.col(\"Metadata_gene\") == poscon_gene\n",
    "        )\n",
    "\n",
    "        # Find the morphological signatures\n",
    "        on_sig, off_sig, ambigious = get_signatures(\n",
    "            ref_profiles=selected_negcon_df,\n",
    "            exp_profiles=selected_poscon_df,\n",
    "            morph_feats=shared_features,\n",
    "            test_method=method,\n",
    "            seed=seed,\n",
    "        )\n",
    "\n",
    "        # Process signatures and store in dictionary\n",
    "        cpjump1_signature_results[f\"{negcon_seed}_negcon_{poscon_gene}_poscon\"] = {\n",
    "            \"controls\": {\"negative\": negcon_seed, \"positive\": poscon_gene},\n",
    "            \"signatures\": {\"on\": on_sig, \"off\": off_sig, \"ambiguous\": ambigious},\n",
    "            \"meta\": {\n",
    "                \"total-on-signatures\": len(on_sig),\n",
    "                \"total-off-signatures\": len(off_sig),\n",
    "            },\n",
    "        }\n",
    "\n",
    "    # Save results to file\n",
    "    with open(cpjump1_save_path, \"w\") as f:\n",
    "        json.dump(dict(cpjump1_signature_results), f, indent=4)\n",
    "\n",
    "else:\n",
    "    with open(cpjump1_save_path, \"r\") as f:\n",
    "        cpjump1_signature_results = json.load(f)"
   ]
  },
  {
   "cell_type": "markdown",
   "id": "2444dcdc",
   "metadata": {},
   "source": [
    "After generating the signatures for all combinations, the next step is to create consensus on and off morphological signatures. Due to the multiple randomly sampled negative controls present, we need to find the average morphological features affected per positive control. This consensus approach will help us analyze and compare across different positive controls to determine if we are capturing known biological effects."
   ]
  },
  {
   "cell_type": "code",
   "execution_count": 11,
   "id": "b63baecb",
   "metadata": {},
   "outputs": [],
   "source": [
    "# generate consensus signatures\n",
    "consensus_siagnatures = generate_consensus_signatures(\n",
    "    cpjump1_signature_results, features=shared_features, min_consensus_threshold=0.5\n",
    ")\n",
    "\n",
    "# save to json file\n",
    "with open(\n",
    "    (signature_results_dir / f\"{method}_cpjump1_consensus_signatures.json\").resolve(),\n",
    "    \"w\",\n",
    ") as f:\n",
    "    json.dump(consensus_siagnatures, f, indent=4)"
   ]
  },
  {
   "cell_type": "markdown",
   "id": "e176e6a8",
   "metadata": {},
   "source": [
    "### Signature Generation Process for MitoCheck data"
   ]
  },
  {
   "cell_type": "code",
   "execution_count": 12,
   "id": "b470657d",
   "metadata": {},
   "outputs": [
    {
     "name": "stderr",
     "output_type": "stream",
     "text": [
      "Processing MitoCheck genes: 100%|██████████| 3/3 [00:44<00:00, 14.83s/it]\n"
     ]
    }
   ],
   "source": [
    "# set path\n",
    "mitocheck_save_path = (\n",
    "    signature_results_dir / f\"{method}_mitocheck_signatures.json\"\n",
    ").resolve()\n",
    "\n",
    "if not mitocheck_save_path.exists():\n",
    "    mitocheck_signature_results = defaultdict(lambda: None)\n",
    "    for poscon_gene in tqdm.tqdm(\n",
    "        mitocheck_poscon_df[\"Metadata_Gene\"].unique().to_list(),\n",
    "        desc=\"Processing MitoCheck genes\",\n",
    "    ):\n",
    "        # create poscon dataframe based on positive control gene\n",
    "        selected_poscon_df = mitocheck_poscon_df.filter(\n",
    "            pl.col(\"Metadata_Gene\") == poscon_gene\n",
    "        )\n",
    "\n",
    "        # Find the morphological signatures\n",
    "        on_sig, off_sig, ambigious = get_signatures(\n",
    "            ref_profiles=mitocheck_negcon_df,\n",
    "            exp_profiles=selected_poscon_df,\n",
    "            morph_feats=mitocheck_feature_space[\"shared-morphology-features\"],\n",
    "            test_method=method,\n",
    "            seed=seed,\n",
    "        )\n",
    "\n",
    "        # Process signatures and store in dictionary\n",
    "        mitocheck_signature_results[f\"mitocheck_negcon_{poscon_gene}_poscon\"] = {\n",
    "            \"controls\": {\"negative\": \"DMSO\", \"positive\": poscon_gene},\n",
    "            \"signatures\": {\"on\": on_sig, \"off\": off_sig},\n",
    "            \"meta\": {\n",
    "                \"total-on-signatures\": len(on_sig),\n",
    "                \"total-off-signatures\": len(off_sig),\n",
    "            },\n",
    "        }\n",
    "\n",
    "    # save signatures\n",
    "    with open(mitocheck_save_path, \"w\") as f:\n",
    "        json.dump(dict(mitocheck_signature_results), f, indent=4)\n",
    "else:\n",
    "    # read from json file\n",
    "    with open(mitocheck_save_path) as f:\n",
    "        mitocheck_signature_results = json.load(f)"
   ]
  },
  {
   "cell_type": "markdown",
   "id": "f0343c35",
   "metadata": {},
   "source": [
    "### Signature Generation Process for CFReT data"
   ]
  },
  {
   "cell_type": "code",
   "execution_count": 14,
   "id": "0c719319",
   "metadata": {},
   "outputs": [],
   "source": [
    "# save path\n",
    "cfret_save_path = (signature_results_dir / f\"{method}_cfret_signatures.json\").resolve()\n",
    "\n",
    "if not cfret_save_path.exists():\n",
    "    # set up results dictionary\n",
    "    cfret_signature_results = defaultdict(lambda: None)\n",
    "\n",
    "    # Find the morphological signatures\n",
    "    on_sig, off_sig, ambiguous = get_signatures(\n",
    "        ref_profiles=cfret_negcon_df,\n",
    "        exp_profiles=cfret_poscon_df,\n",
    "        morph_feats=cfret_feats,\n",
    "        test_method=method,\n",
    "        seed=seed,\n",
    "    )\n",
    "\n",
    "    # save results\n",
    "    cfret_signature_results[\"cfret_negcon_TGFRi_poscon\"] = {\n",
    "        \"controls\": {\"negative\": \"DMSO\", \"positive\": \"TGFRi\"},\n",
    "        \"signatures\": {\"on\": on_sig, \"off\": off_sig},\n",
    "        \"meta\": {\n",
    "            \"total-on-signatures\": len(on_sig),\n",
    "            \"total-off-signatures\": len(off_sig),\n",
    "        },\n",
    "    }\n",
    "\n",
    "    # save results in json path\n",
    "    with open(cfret_save_path, \"w\") as f:\n",
    "        json.dump(dict(cfret_signature_results), f, indent=4)\n",
    "\n",
    "else:\n",
    "    with open(cfret_save_path, \"r\") as f:\n",
    "        cfret_signature_results = json.load(f)"
   ]
  }
 ],
 "metadata": {
  "kernelspec": {
   "display_name": "buscar",
   "language": "python",
   "name": "python3"
  },
  "language_info": {
   "codemirror_mode": {
    "name": "ipython",
    "version": 3
   },
   "file_extension": ".py",
   "mimetype": "text/x-python",
   "name": "python",
   "nbconvert_exporter": "python",
   "pygments_lexer": "ipython3",
   "version": "3.12.11"
  }
 },
 "nbformat": 4,
 "nbformat_minor": 5
}
