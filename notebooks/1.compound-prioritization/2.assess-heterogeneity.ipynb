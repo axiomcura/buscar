{
 "cells": [
  {
   "cell_type": "markdown",
   "id": "54aea5c2",
   "metadata": {},
   "source": [
    "# 2.assess-heterogeneity \n",
    "\n",
    "This section of the notebook uses buscar's clustering module to assess single-cell heterogeneity. We'll focus on three specific datasets: **CFReT**, **MitoCheck**, and **CPJUMP (crispir)**. The goal is to use our clustering algorithms to identify cellular heterogeneity at the single-cell level. \n",
    "\n",
    "A key advantage of using these datasets is that they include ground-truth labels. This allows us to evaluate whether our clustering algorithms are identifying biologically meaningful groups in a data-driven way, and to assess the accuracy of our approach."
   ]
  },
  {
   "cell_type": "code",
   "execution_count": 15,
   "id": "5333b9c0",
   "metadata": {},
   "outputs": [],
   "source": [
    "import sys\n",
    "import pathlib\n",
    "\n",
    "\n",
    "sys.path.append(\"../../\")\n",
    "from utils.heterogeneity import cluster_profiles\n",
    "from utils.io_utils import load_profiles"
   ]
  },
  {
   "cell_type": "markdown",
   "id": "4d459f74",
   "metadata": {},
   "source": [
    "Setting parameter grid search for the optimized clustering "
   ]
  },
  {
   "cell_type": "code",
   "execution_count": 2,
   "id": "1f1803d4",
   "metadata": {},
   "outputs": [],
   "source": [
    "cluster_search_param_grid = {\n",
    "    # Clustering resolution: how granular the clusters should be\n",
    "    \"cluster_resolution\": {\"type\": \"float\", \"low\": 0.1, \"high\": 3.0},\n",
    "    # Number of neighbors for graph construction\n",
    "    \"n_neighbors\": {\"type\": \"int\", \"low\": 5, \"high\": 50},\n",
    "    # Clustering algorithm\n",
    "    \"cluster_method\": {\"type\": \"categorical\", \"choices\": [\"leiden\", \"louvain\"]},\n",
    "    # Distance metric for neighbor computation\n",
    "    \"neighbor_distance_metric\": {\n",
    "        \"type\": \"categorical\",\n",
    "        \"choices\": [\"euclidean\", \"cosine\", \"manhattan\"],\n",
    "    },\n",
    "    # Dimensionality reduction approach\n",
    "    \"dim_reduction\": {\"type\": \"categorical\", \"choices\": [\"PCA\", \"raw\"]},\n",
    "}"
   ]
  },
  {
   "cell_type": "markdown",
   "id": "29f21fd9",
   "metadata": {},
   "source": [
    "Setting paths"
   ]
  },
  {
   "cell_type": "code",
   "execution_count": 3,
   "id": "cf6a3c28",
   "metadata": {},
   "outputs": [],
   "source": [
    "# set module and data directory paths\n",
    "download_module_path = pathlib.Path(\"../0.download-data/\").resolve(strict=True)\n",
    "sc_profiles_path = (download_module_path / \"data\" / \"sc-profiles\").resolve(strict=True)\n",
    "\n",
    "\n",
    "# setting profiles paths\n",
    "cfret_profiles_path = (\n",
    "    sc_profiles_path / \"cfret\" / \"localhost230405150001_sc_feature_selected.parquet\"\n",
    ").resolve(strict=True)\n",
    "cpjump1_trt_crispr_profiles_path = (\n",
    "    sc_profiles_path\n",
    "    / \"cpjump1\"\n",
    "    / \"trt-profiles\"\n",
    "    / \"cpjump1_crispr_trt_profiles.parquet\"\n",
    ").resolve(strict=True)\n",
    "mitocheck_trt_profiles_path = (\n",
    "    sc_profiles_path / \"mitocheck\" / \"mitocheck_concat_profiles.parquet\"\n",
    ").resolve(strict=True)\n",
    "\n",
    "# create signature output paths\n",
    "results_dir = pathlib.Path(\"./results/cluster-labels\").resolve()\n",
    "results_dir.mkdir(exist_ok=True, parents=True)"
   ]
  },
  {
   "cell_type": "markdown",
   "id": "631ea3a5",
   "metadata": {},
   "source": [
    "Loading datasets"
   ]
  },
  {
   "cell_type": "code",
   "execution_count": 4,
   "id": "74bfe56f",
   "metadata": {},
   "outputs": [],
   "source": [
    "# load all profiles\n",
    "mitocheck_trt_profile_df = load_profiles(mitocheck_trt_profiles_path)\n",
    "cfret_profile_df = load_profiles(cfret_profiles_path)\n",
    "cpjump1_trt_crispr_df = load_profiles(cpjump1_trt_crispr_profiles_path)"
   ]
  },
  {
   "cell_type": "markdown",
   "id": "e91f0ea3",
   "metadata": {},
   "source": [
    "## Clustering profiles"
   ]
  },
  {
   "cell_type": "markdown",
   "id": "6d679241",
   "metadata": {},
   "source": [
    "### Assessing heterogeneity for MitoCheck data"
   ]
  },
  {
   "cell_type": "code",
   "execution_count": 26,
   "id": "3c0fd9f3",
   "metadata": {},
   "outputs": [],
   "source": [
    "# separate metadata based on phenotypic class\n",
    "# split metadata and features\n",
    "mito_meta = [\n",
    "    \"index\",\n",
    "    \"Mitocheck_Phenotypic_Class\",\n",
    "    \"Cell_UUID\",\n",
    "    \"Metadata_cell_id\",\n",
    "    \"Location_Center_X\",\n",
    "    \"Location_Center_Y\",\n",
    "    \"Metadata_Plate\",\n",
    "    \"Metadata_Well\",\n",
    "    \"Metadata_Frame\",\n",
    "    \"Metadata_Site\",\n",
    "    \"Metadata_Plate_Map_Name\",\n",
    "    \"Metadata_DNA\",\n",
    "    \"Metadata_Gene\",\n",
    "    \"Metadata_Gene_Replicate\",\n",
    "]\n",
    "\n",
    "mito_features = mitocheck_trt_profile_df.drop(mito_meta).columns"
   ]
  },
  {
   "cell_type": "code",
   "execution_count": 28,
   "id": "d4b06373",
   "metadata": {},
   "outputs": [
    {
     "ename": "ValueError",
     "evalue": "could not convert string to float: 'trt'",
     "output_type": "error",
     "traceback": [
      "\u001b[0;31m---------------------------------------------------------------------------\u001b[0m",
      "\u001b[0;31mValueError\u001b[0m                                Traceback (most recent call last)",
      "Cell \u001b[0;32mIn[28], line 1\u001b[0m\n\u001b[0;32m----> 1\u001b[0m \u001b[43mcluster_profiles\u001b[49m\u001b[43m(\u001b[49m\n\u001b[1;32m      2\u001b[0m \u001b[43m    \u001b[49m\u001b[43mprofiles\u001b[49m\u001b[38;5;241;43m=\u001b[39;49m\u001b[43mmitocheck_trt_profile_df\u001b[49m\u001b[43m,\u001b[49m\n\u001b[1;32m      3\u001b[0m \u001b[43m    \u001b[49m\u001b[43mmeta_features\u001b[49m\u001b[38;5;241;43m=\u001b[39;49m\u001b[43mmito_meta\u001b[49m\u001b[43m,\u001b[49m\n\u001b[1;32m      4\u001b[0m \u001b[43m    \u001b[49m\u001b[43mmorph_features\u001b[49m\u001b[38;5;241;43m=\u001b[39;49m\u001b[43mmito_features\u001b[49m\u001b[43m,\u001b[49m\n\u001b[1;32m      5\u001b[0m \u001b[43m    \u001b[49m\u001b[43mtreatment_col\u001b[49m\u001b[38;5;241;43m=\u001b[39;49m\u001b[38;5;124;43m\"\u001b[39;49m\u001b[38;5;124;43mMetadata_Gene\u001b[39;49m\u001b[38;5;124;43m\"\u001b[39;49m\u001b[43m)\u001b[49m\n",
      "File \u001b[0;32m<@beartype(utils.heterogeneity.cluster_profiles) at 0x7d32ce6ca840>:314\u001b[0m, in \u001b[0;36mcluster_profiles\u001b[0;34m(__beartype_object_271574272, __beartype_get_violation, __beartype_conf, __beartype_object_273139408, __beartype_getrandbits, __beartype_object_137662112696960, __beartype_object_137662112698112, __beartype_object_137662116506400, __beartype_object_9805240, __beartype_object_137662116506688, __beartype_object_137662116633456, __beartype_object_137662116633392, __beartype_object_137662116507216, __beartype_object_137662116633840, __beartype_check_meta, __beartype_func, *args, **kwargs)\u001b[0m\n",
      "File \u001b[0;32m~/Projects/buscar/notebooks/1.compound-prioritization/../../utils/heterogeneity.py:195\u001b[0m, in \u001b[0;36mcluster_profiles\u001b[0;34m(profiles, meta_features, morph_features, treatment_col, cluster_method, cluster_resolution, dim_reduction, n_neighbors, neighbor_distance_metric, pca_variance_explained, pca_n_components_to_capture_variance, pca_svd_solver, seed)\u001b[0m\n\u001b[1;32m    191\u001b[0m     adata\u001b[38;5;241m.\u001b[39mobs[treatment_col] \u001b[38;5;241m=\u001b[39m adata\u001b[38;5;241m.\u001b[39mobs[treatment_col]\u001b[38;5;241m.\u001b[39mastype(\u001b[38;5;124m\"\u001b[39m\u001b[38;5;124mcategory\u001b[39m\u001b[38;5;124m\"\u001b[39m)\n\u001b[1;32m    193\u001b[0m \u001b[38;5;28;01mif\u001b[39;00m dim_reduction \u001b[38;5;241m==\u001b[39m \u001b[38;5;124m\"\u001b[39m\u001b[38;5;124mPCA\u001b[39m\u001b[38;5;124m\"\u001b[39m:\n\u001b[1;32m    194\u001b[0m     \u001b[38;5;66;03m# 1. Run PCA with enough components to capture variance\u001b[39;00m\n\u001b[0;32m--> 195\u001b[0m     \u001b[43msc\u001b[49m\u001b[38;5;241;43m.\u001b[39;49m\u001b[43mpp\u001b[49m\u001b[38;5;241;43m.\u001b[39;49m\u001b[43mpca\u001b[49m\u001b[43m(\u001b[49m\n\u001b[1;32m    196\u001b[0m \u001b[43m        \u001b[49m\u001b[43madata\u001b[49m\u001b[43m,\u001b[49m\n\u001b[1;32m    197\u001b[0m \u001b[43m        \u001b[49m\u001b[43mn_comps\u001b[49m\u001b[38;5;241;43m=\u001b[39;49m\u001b[43mpca_n_components_to_capture_variance\u001b[49m\u001b[43m,\u001b[49m\n\u001b[1;32m    198\u001b[0m \u001b[43m        \u001b[49m\u001b[43msvd_solver\u001b[49m\u001b[38;5;241;43m=\u001b[39;49m\u001b[43mpca_svd_solver\u001b[49m\u001b[43m,\u001b[49m\n\u001b[1;32m    199\u001b[0m \u001b[43m        \u001b[49m\u001b[43mrandom_state\u001b[49m\u001b[38;5;241;43m=\u001b[39;49m\u001b[43mseed\u001b[49m\u001b[43m,\u001b[49m\n\u001b[1;32m    200\u001b[0m \u001b[43m    \u001b[49m\u001b[43m)\u001b[49m\n\u001b[1;32m    202\u001b[0m     \u001b[38;5;66;03m# 2. Find the number of PCs that explains specified variance\u001b[39;00m\n\u001b[1;32m    203\u001b[0m     variance_ratio \u001b[38;5;241m=\u001b[39m np\u001b[38;5;241m.\u001b[39mcumsum(adata\u001b[38;5;241m.\u001b[39muns[\u001b[38;5;124m\"\u001b[39m\u001b[38;5;124mpca\u001b[39m\u001b[38;5;124m\"\u001b[39m][\u001b[38;5;124m\"\u001b[39m\u001b[38;5;124mvariance_ratio\u001b[39m\u001b[38;5;124m\"\u001b[39m])\n",
      "File \u001b[0;32m~/Software/miniconda3/envs/buscar/lib/python3.12/site-packages/scanpy/preprocessing/_pca/__init__.py:350\u001b[0m, in \u001b[0;36mpca\u001b[0;34m(***failed resolving arguments***)\u001b[0m\n\u001b[1;32m    344\u001b[0m             svd_solver \u001b[38;5;241m=\u001b[39m _handle_dask_ml_args(svd_solver, PCA)\n\u001b[1;32m    345\u001b[0m             pca_ \u001b[38;5;241m=\u001b[39m PCA(\n\u001b[1;32m    346\u001b[0m                 n_components\u001b[38;5;241m=\u001b[39mn_comps,\n\u001b[1;32m    347\u001b[0m                 svd_solver\u001b[38;5;241m=\u001b[39msvd_solver,\n\u001b[1;32m    348\u001b[0m                 random_state\u001b[38;5;241m=\u001b[39mrandom_state,\n\u001b[1;32m    349\u001b[0m             )\n\u001b[0;32m--> 350\u001b[0m         X_pca \u001b[38;5;241m=\u001b[39m \u001b[43mpca_\u001b[49m\u001b[38;5;241;43m.\u001b[39;49m\u001b[43mfit_transform\u001b[49m\u001b[43m(\u001b[49m\u001b[43mX\u001b[49m\u001b[43m)\u001b[49m\n\u001b[1;32m    351\u001b[0m \u001b[38;5;28;01melse\u001b[39;00m:\n\u001b[1;32m    352\u001b[0m     \u001b[38;5;28;01mif\u001b[39;00m \u001b[38;5;28misinstance\u001b[39m(X, DaskArray):\n",
      "File \u001b[0;32m~/Software/miniconda3/envs/buscar/lib/python3.12/site-packages/sklearn/utils/_set_output.py:316\u001b[0m, in \u001b[0;36m_wrap_method_output.<locals>.wrapped\u001b[0;34m(self, X, *args, **kwargs)\u001b[0m\n\u001b[1;32m    314\u001b[0m \u001b[38;5;129m@wraps\u001b[39m(f)\n\u001b[1;32m    315\u001b[0m \u001b[38;5;28;01mdef\u001b[39;00m\u001b[38;5;250m \u001b[39m\u001b[38;5;21mwrapped\u001b[39m(\u001b[38;5;28mself\u001b[39m, X, \u001b[38;5;241m*\u001b[39margs, \u001b[38;5;241m*\u001b[39m\u001b[38;5;241m*\u001b[39mkwargs):\n\u001b[0;32m--> 316\u001b[0m     data_to_wrap \u001b[38;5;241m=\u001b[39m \u001b[43mf\u001b[49m\u001b[43m(\u001b[49m\u001b[38;5;28;43mself\u001b[39;49m\u001b[43m,\u001b[49m\u001b[43m \u001b[49m\u001b[43mX\u001b[49m\u001b[43m,\u001b[49m\u001b[43m \u001b[49m\u001b[38;5;241;43m*\u001b[39;49m\u001b[43margs\u001b[49m\u001b[43m,\u001b[49m\u001b[43m \u001b[49m\u001b[38;5;241;43m*\u001b[39;49m\u001b[38;5;241;43m*\u001b[39;49m\u001b[43mkwargs\u001b[49m\u001b[43m)\u001b[49m\n\u001b[1;32m    317\u001b[0m     \u001b[38;5;28;01mif\u001b[39;00m \u001b[38;5;28misinstance\u001b[39m(data_to_wrap, \u001b[38;5;28mtuple\u001b[39m):\n\u001b[1;32m    318\u001b[0m         \u001b[38;5;66;03m# only wrap the first output for cross decomposition\u001b[39;00m\n\u001b[1;32m    319\u001b[0m         return_tuple \u001b[38;5;241m=\u001b[39m (\n\u001b[1;32m    320\u001b[0m             _wrap_data_with_container(method, data_to_wrap[\u001b[38;5;241m0\u001b[39m], X, \u001b[38;5;28mself\u001b[39m),\n\u001b[1;32m    321\u001b[0m             \u001b[38;5;241m*\u001b[39mdata_to_wrap[\u001b[38;5;241m1\u001b[39m:],\n\u001b[1;32m    322\u001b[0m         )\n",
      "File \u001b[0;32m~/Software/miniconda3/envs/buscar/lib/python3.12/site-packages/sklearn/base.py:1363\u001b[0m, in \u001b[0;36m_fit_context.<locals>.decorator.<locals>.wrapper\u001b[0;34m(estimator, *args, **kwargs)\u001b[0m\n\u001b[1;32m   1356\u001b[0m     estimator\u001b[38;5;241m.\u001b[39m_validate_params()\n\u001b[1;32m   1358\u001b[0m \u001b[38;5;28;01mwith\u001b[39;00m config_context(\n\u001b[1;32m   1359\u001b[0m     skip_parameter_validation\u001b[38;5;241m=\u001b[39m(\n\u001b[1;32m   1360\u001b[0m         prefer_skip_nested_validation \u001b[38;5;129;01mor\u001b[39;00m global_skip_validation\n\u001b[1;32m   1361\u001b[0m     )\n\u001b[1;32m   1362\u001b[0m ):\n\u001b[0;32m-> 1363\u001b[0m     \u001b[38;5;28;01mreturn\u001b[39;00m \u001b[43mfit_method\u001b[49m\u001b[43m(\u001b[49m\u001b[43mestimator\u001b[49m\u001b[43m,\u001b[49m\u001b[43m \u001b[49m\u001b[38;5;241;43m*\u001b[39;49m\u001b[43margs\u001b[49m\u001b[43m,\u001b[49m\u001b[43m \u001b[49m\u001b[38;5;241;43m*\u001b[39;49m\u001b[38;5;241;43m*\u001b[39;49m\u001b[43mkwargs\u001b[49m\u001b[43m)\u001b[49m\n",
      "File \u001b[0;32m~/Software/miniconda3/envs/buscar/lib/python3.12/site-packages/sklearn/decomposition/_pca.py:466\u001b[0m, in \u001b[0;36mPCA.fit_transform\u001b[0;34m(self, X, y)\u001b[0m\n\u001b[1;32m    443\u001b[0m \u001b[38;5;129m@_fit_context\u001b[39m(prefer_skip_nested_validation\u001b[38;5;241m=\u001b[39m\u001b[38;5;28;01mTrue\u001b[39;00m)\n\u001b[1;32m    444\u001b[0m \u001b[38;5;28;01mdef\u001b[39;00m\u001b[38;5;250m \u001b[39m\u001b[38;5;21mfit_transform\u001b[39m(\u001b[38;5;28mself\u001b[39m, X, y\u001b[38;5;241m=\u001b[39m\u001b[38;5;28;01mNone\u001b[39;00m):\n\u001b[1;32m    445\u001b[0m \u001b[38;5;250m    \u001b[39m\u001b[38;5;124;03m\"\"\"Fit the model with X and apply the dimensionality reduction on X.\u001b[39;00m\n\u001b[1;32m    446\u001b[0m \n\u001b[1;32m    447\u001b[0m \u001b[38;5;124;03m    Parameters\u001b[39;00m\n\u001b[0;32m   (...)\u001b[0m\n\u001b[1;32m    464\u001b[0m \u001b[38;5;124;03m    C-ordered array, use 'np.ascontiguousarray'.\u001b[39;00m\n\u001b[1;32m    465\u001b[0m \u001b[38;5;124;03m    \"\"\"\u001b[39;00m\n\u001b[0;32m--> 466\u001b[0m     U, S, _, X, x_is_centered, xp \u001b[38;5;241m=\u001b[39m \u001b[38;5;28;43mself\u001b[39;49m\u001b[38;5;241;43m.\u001b[39;49m\u001b[43m_fit\u001b[49m\u001b[43m(\u001b[49m\u001b[43mX\u001b[49m\u001b[43m)\u001b[49m\n\u001b[1;32m    467\u001b[0m     \u001b[38;5;28;01mif\u001b[39;00m U \u001b[38;5;129;01mis\u001b[39;00m \u001b[38;5;129;01mnot\u001b[39;00m \u001b[38;5;28;01mNone\u001b[39;00m:\n\u001b[1;32m    468\u001b[0m         U \u001b[38;5;241m=\u001b[39m U[:, : \u001b[38;5;28mself\u001b[39m\u001b[38;5;241m.\u001b[39mn_components_]\n",
      "File \u001b[0;32m~/Software/miniconda3/envs/buscar/lib/python3.12/site-packages/sklearn/decomposition/_pca.py:503\u001b[0m, in \u001b[0;36mPCA._fit\u001b[0;34m(self, X)\u001b[0m\n\u001b[1;32m    493\u001b[0m     \u001b[38;5;28;01mraise\u001b[39;00m \u001b[38;5;167;01mValueError\u001b[39;00m(\n\u001b[1;32m    494\u001b[0m         \u001b[38;5;124m\"\u001b[39m\u001b[38;5;124mPCA with svd_solver=\u001b[39m\u001b[38;5;124m'\u001b[39m\u001b[38;5;124marpack\u001b[39m\u001b[38;5;124m'\u001b[39m\u001b[38;5;124m is not supported for Array API inputs.\u001b[39m\u001b[38;5;124m\"\u001b[39m\n\u001b[1;32m    495\u001b[0m     )\n\u001b[1;32m    497\u001b[0m \u001b[38;5;66;03m# Validate the data, without ever forcing a copy as any solver that\u001b[39;00m\n\u001b[1;32m    498\u001b[0m \u001b[38;5;66;03m# supports sparse input data and the `covariance_eigh` solver are\u001b[39;00m\n\u001b[1;32m    499\u001b[0m \u001b[38;5;66;03m# written in a way to avoid the need for any inplace modification of\u001b[39;00m\n\u001b[1;32m    500\u001b[0m \u001b[38;5;66;03m# the input data contrary to the other solvers.\u001b[39;00m\n\u001b[1;32m    501\u001b[0m \u001b[38;5;66;03m# The copy will happen\u001b[39;00m\n\u001b[1;32m    502\u001b[0m \u001b[38;5;66;03m# later, only if needed, once the solver negotiation below is done.\u001b[39;00m\n\u001b[0;32m--> 503\u001b[0m X \u001b[38;5;241m=\u001b[39m \u001b[43mvalidate_data\u001b[49m\u001b[43m(\u001b[49m\n\u001b[1;32m    504\u001b[0m \u001b[43m    \u001b[49m\u001b[38;5;28;43mself\u001b[39;49m\u001b[43m,\u001b[49m\n\u001b[1;32m    505\u001b[0m \u001b[43m    \u001b[49m\u001b[43mX\u001b[49m\u001b[43m,\u001b[49m\n\u001b[1;32m    506\u001b[0m \u001b[43m    \u001b[49m\u001b[43mdtype\u001b[49m\u001b[38;5;241;43m=\u001b[39;49m\u001b[43m[\u001b[49m\u001b[43mxp\u001b[49m\u001b[38;5;241;43m.\u001b[39;49m\u001b[43mfloat64\u001b[49m\u001b[43m,\u001b[49m\u001b[43m \u001b[49m\u001b[43mxp\u001b[49m\u001b[38;5;241;43m.\u001b[39;49m\u001b[43mfloat32\u001b[49m\u001b[43m]\u001b[49m\u001b[43m,\u001b[49m\n\u001b[1;32m    507\u001b[0m \u001b[43m    \u001b[49m\u001b[43mforce_writeable\u001b[49m\u001b[38;5;241;43m=\u001b[39;49m\u001b[38;5;28;43;01mTrue\u001b[39;49;00m\u001b[43m,\u001b[49m\n\u001b[1;32m    508\u001b[0m \u001b[43m    \u001b[49m\u001b[43maccept_sparse\u001b[49m\u001b[38;5;241;43m=\u001b[39;49m\u001b[43m(\u001b[49m\u001b[38;5;124;43m\"\u001b[39;49m\u001b[38;5;124;43mcsr\u001b[39;49m\u001b[38;5;124;43m\"\u001b[39;49m\u001b[43m,\u001b[49m\u001b[43m \u001b[49m\u001b[38;5;124;43m\"\u001b[39;49m\u001b[38;5;124;43mcsc\u001b[39;49m\u001b[38;5;124;43m\"\u001b[39;49m\u001b[43m)\u001b[49m\u001b[43m,\u001b[49m\n\u001b[1;32m    509\u001b[0m \u001b[43m    \u001b[49m\u001b[43mensure_2d\u001b[49m\u001b[38;5;241;43m=\u001b[39;49m\u001b[38;5;28;43;01mTrue\u001b[39;49;00m\u001b[43m,\u001b[49m\n\u001b[1;32m    510\u001b[0m \u001b[43m    \u001b[49m\u001b[43mcopy\u001b[49m\u001b[38;5;241;43m=\u001b[39;49m\u001b[38;5;28;43;01mFalse\u001b[39;49;00m\u001b[43m,\u001b[49m\n\u001b[1;32m    511\u001b[0m \u001b[43m\u001b[49m\u001b[43m)\u001b[49m\n\u001b[1;32m    512\u001b[0m \u001b[38;5;28mself\u001b[39m\u001b[38;5;241m.\u001b[39m_fit_svd_solver \u001b[38;5;241m=\u001b[39m \u001b[38;5;28mself\u001b[39m\u001b[38;5;241m.\u001b[39msvd_solver\n\u001b[1;32m    513\u001b[0m \u001b[38;5;28;01mif\u001b[39;00m \u001b[38;5;28mself\u001b[39m\u001b[38;5;241m.\u001b[39m_fit_svd_solver \u001b[38;5;241m==\u001b[39m \u001b[38;5;124m\"\u001b[39m\u001b[38;5;124mauto\u001b[39m\u001b[38;5;124m\"\u001b[39m \u001b[38;5;129;01mand\u001b[39;00m issparse(X):\n",
      "File \u001b[0;32m~/Software/miniconda3/envs/buscar/lib/python3.12/site-packages/sklearn/utils/validation.py:2954\u001b[0m, in \u001b[0;36mvalidate_data\u001b[0;34m(_estimator, X, y, reset, validate_separately, skip_check_array, **check_params)\u001b[0m\n\u001b[1;32m   2952\u001b[0m         out \u001b[38;5;241m=\u001b[39m X, y\n\u001b[1;32m   2953\u001b[0m \u001b[38;5;28;01melif\u001b[39;00m \u001b[38;5;129;01mnot\u001b[39;00m no_val_X \u001b[38;5;129;01mand\u001b[39;00m no_val_y:\n\u001b[0;32m-> 2954\u001b[0m     out \u001b[38;5;241m=\u001b[39m \u001b[43mcheck_array\u001b[49m\u001b[43m(\u001b[49m\u001b[43mX\u001b[49m\u001b[43m,\u001b[49m\u001b[43m \u001b[49m\u001b[43minput_name\u001b[49m\u001b[38;5;241;43m=\u001b[39;49m\u001b[38;5;124;43m\"\u001b[39;49m\u001b[38;5;124;43mX\u001b[39;49m\u001b[38;5;124;43m\"\u001b[39;49m\u001b[43m,\u001b[49m\u001b[43m \u001b[49m\u001b[38;5;241;43m*\u001b[39;49m\u001b[38;5;241;43m*\u001b[39;49m\u001b[43mcheck_params\u001b[49m\u001b[43m)\u001b[49m\n\u001b[1;32m   2955\u001b[0m \u001b[38;5;28;01melif\u001b[39;00m no_val_X \u001b[38;5;129;01mand\u001b[39;00m \u001b[38;5;129;01mnot\u001b[39;00m no_val_y:\n\u001b[1;32m   2956\u001b[0m     out \u001b[38;5;241m=\u001b[39m _check_y(y, \u001b[38;5;241m*\u001b[39m\u001b[38;5;241m*\u001b[39mcheck_params)\n",
      "File \u001b[0;32m~/Software/miniconda3/envs/buscar/lib/python3.12/site-packages/sklearn/utils/validation.py:1053\u001b[0m, in \u001b[0;36mcheck_array\u001b[0;34m(array, accept_sparse, accept_large_sparse, dtype, order, copy, force_writeable, force_all_finite, ensure_all_finite, ensure_non_negative, ensure_2d, allow_nd, ensure_min_samples, ensure_min_features, estimator, input_name)\u001b[0m\n\u001b[1;32m   1051\u001b[0m         array \u001b[38;5;241m=\u001b[39m xp\u001b[38;5;241m.\u001b[39mastype(array, dtype, copy\u001b[38;5;241m=\u001b[39m\u001b[38;5;28;01mFalse\u001b[39;00m)\n\u001b[1;32m   1052\u001b[0m     \u001b[38;5;28;01melse\u001b[39;00m:\n\u001b[0;32m-> 1053\u001b[0m         array \u001b[38;5;241m=\u001b[39m \u001b[43m_asarray_with_order\u001b[49m\u001b[43m(\u001b[49m\u001b[43marray\u001b[49m\u001b[43m,\u001b[49m\u001b[43m \u001b[49m\u001b[43morder\u001b[49m\u001b[38;5;241;43m=\u001b[39;49m\u001b[43morder\u001b[49m\u001b[43m,\u001b[49m\u001b[43m \u001b[49m\u001b[43mdtype\u001b[49m\u001b[38;5;241;43m=\u001b[39;49m\u001b[43mdtype\u001b[49m\u001b[43m,\u001b[49m\u001b[43m \u001b[49m\u001b[43mxp\u001b[49m\u001b[38;5;241;43m=\u001b[39;49m\u001b[43mxp\u001b[49m\u001b[43m)\u001b[49m\n\u001b[1;32m   1054\u001b[0m \u001b[38;5;28;01mexcept\u001b[39;00m ComplexWarning \u001b[38;5;28;01mas\u001b[39;00m complex_warning:\n\u001b[1;32m   1055\u001b[0m     \u001b[38;5;28;01mraise\u001b[39;00m \u001b[38;5;167;01mValueError\u001b[39;00m(\n\u001b[1;32m   1056\u001b[0m         \u001b[38;5;124m\"\u001b[39m\u001b[38;5;124mComplex data not supported\u001b[39m\u001b[38;5;130;01m\\n\u001b[39;00m\u001b[38;5;132;01m{}\u001b[39;00m\u001b[38;5;130;01m\\n\u001b[39;00m\u001b[38;5;124m\"\u001b[39m\u001b[38;5;241m.\u001b[39mformat(array)\n\u001b[1;32m   1057\u001b[0m     ) \u001b[38;5;28;01mfrom\u001b[39;00m\u001b[38;5;250m \u001b[39m\u001b[38;5;21;01mcomplex_warning\u001b[39;00m\n",
      "File \u001b[0;32m~/Software/miniconda3/envs/buscar/lib/python3.12/site-packages/sklearn/utils/_array_api.py:757\u001b[0m, in \u001b[0;36m_asarray_with_order\u001b[0;34m(array, dtype, order, copy, xp, device)\u001b[0m\n\u001b[1;32m    755\u001b[0m     array \u001b[38;5;241m=\u001b[39m numpy\u001b[38;5;241m.\u001b[39marray(array, order\u001b[38;5;241m=\u001b[39morder, dtype\u001b[38;5;241m=\u001b[39mdtype)\n\u001b[1;32m    756\u001b[0m \u001b[38;5;28;01melse\u001b[39;00m:\n\u001b[0;32m--> 757\u001b[0m     array \u001b[38;5;241m=\u001b[39m \u001b[43mnumpy\u001b[49m\u001b[38;5;241;43m.\u001b[39;49m\u001b[43masarray\u001b[49m\u001b[43m(\u001b[49m\u001b[43marray\u001b[49m\u001b[43m,\u001b[49m\u001b[43m \u001b[49m\u001b[43morder\u001b[49m\u001b[38;5;241;43m=\u001b[39;49m\u001b[43morder\u001b[49m\u001b[43m,\u001b[49m\u001b[43m \u001b[49m\u001b[43mdtype\u001b[49m\u001b[38;5;241;43m=\u001b[39;49m\u001b[43mdtype\u001b[49m\u001b[43m)\u001b[49m\n\u001b[1;32m    759\u001b[0m \u001b[38;5;66;03m# At this point array is a NumPy ndarray. We convert it to an array\u001b[39;00m\n\u001b[1;32m    760\u001b[0m \u001b[38;5;66;03m# container that is consistent with the input's namespace.\u001b[39;00m\n\u001b[1;32m    761\u001b[0m \u001b[38;5;28;01mreturn\u001b[39;00m xp\u001b[38;5;241m.\u001b[39masarray(array)\n",
      "\u001b[0;31mValueError\u001b[0m: could not convert string to float: 'trt'"
     ]
    }
   ],
   "source": [
    "cluster_profiles(\n",
    "    profiles=mitocheck_trt_profile_df,\n",
    "    meta_features=mito_meta,\n",
    "    morph_features=mito_features,\n",
    "    treatment_col=\"Metadata_Gene\",\n",
    ")"
   ]
  },
  {
   "cell_type": "markdown",
   "id": "8b57431f",
   "metadata": {},
   "source": [
    "### Assessing heterogeneity for CFReT data"
   ]
  },
  {
   "cell_type": "code",
   "execution_count": 29,
   "id": "109ce77b",
   "metadata": {},
   "outputs": [],
   "source": [
    "# split metadata and features for cfret\n",
    "cfret_meta = [\n",
    "    \"Metadata_WellRow\",\n",
    "    \"Metadata_WellCol\",\n",
    "    \"Metadata_heart_number\",\n",
    "    \"Metadata_cell_type\",\n",
    "    \"Metadata_heart_failure_type\",\n",
    "    \"Metadata_treatment\",\n",
    "    \"Metadata_Nuclei_Location_Center_X\",\n",
    "    \"Metadata_Nuclei_Location_Center_Y\",\n",
    "    \"Metadata_Cells_Location_Center_X\",\n",
    "    \"Metadata_Cells_Location_Center_Y\",\n",
    "    \"Metadata_Image_Count_Cells\",\n",
    "    \"Metadata_ImageNumber\",\n",
    "    \"Metadata_Plate\",\n",
    "    \"Metadata_Well\",\n",
    "    \"Metadata_Cells_Number_Object_Number\",\n",
    "    \"Metadata_Cytoplasm_Parent_Cells\",\n",
    "    \"Metadata_Cytoplasm_Parent_Nuclei\",\n",
    "    \"Metadata_Nuclei_Number_Object_Number\",\n",
    "    \"Metadata_Site\",\n",
    "]\n",
    "\n",
    "cfret_feats = cfret_profile_df.drop(cfret_meta).columns"
   ]
  },
  {
   "cell_type": "code",
   "execution_count": 30,
   "id": "dadc6155",
   "metadata": {},
   "outputs": [
    {
     "name": "stderr",
     "output_type": "stream",
     "text": [
      "/home/erikserrano/Projects/buscar/notebooks/1.compound-prioritization/../../utils/heterogeneity.py:245: FutureWarning: In the future, the default backend for leiden will be igraph instead of leidenalg.\n",
      "\n",
      " To achieve the future defaults please pass: flavor=\"igraph\" and n_iterations=2.  directed must also be False to work with igraph's implementation.\n",
      "  sc.tl.leiden(\n"
     ]
    },
    {
     "data": {
      "text/html": [
       "<div><style>\n",
       ".dataframe > thead > tr,\n",
       ".dataframe > tbody > tr {\n",
       "  text-align: right;\n",
       "  white-space: pre-wrap;\n",
       "}\n",
       "</style>\n",
       "<small>shape: (20_865, 681)</small><table border=\"1\" class=\"dataframe\"><thead><tr><th>Metadata_WellRow</th><th>Metadata_WellCol</th><th>Metadata_heart_number</th><th>Metadata_cell_type</th><th>Metadata_heart_failure_type</th><th>Metadata_treatment</th><th>Metadata_Nuclei_Location_Center_X</th><th>Metadata_Nuclei_Location_Center_Y</th><th>Metadata_Cells_Location_Center_X</th><th>Metadata_Cells_Location_Center_Y</th><th>Metadata_Image_Count_Cells</th><th>Metadata_ImageNumber</th><th>Metadata_Plate</th><th>Metadata_Well</th><th>Metadata_Cells_Number_Object_Number</th><th>Metadata_Cytoplasm_Parent_Cells</th><th>Metadata_Cytoplasm_Parent_Nuclei</th><th>Metadata_Nuclei_Number_Object_Number</th><th>Metadata_Site</th><th>Metadata_cell_id</th><th>Cytoplasm_AreaShape_BoundingBoxMinimum_X</th><th>Cytoplasm_AreaShape_Compactness</th><th>Cytoplasm_AreaShape_Eccentricity</th><th>Cytoplasm_AreaShape_Extent</th><th>Cytoplasm_AreaShape_FormFactor</th><th>Cytoplasm_AreaShape_MajorAxisLength</th><th>Cytoplasm_AreaShape_MeanRadius</th><th>Cytoplasm_AreaShape_MinorAxisLength</th><th>Cytoplasm_AreaShape_Perimeter</th><th>Cytoplasm_AreaShape_Solidity</th><th>Cytoplasm_AreaShape_Zernike_0_0</th><th>Cytoplasm_AreaShape_Zernike_1_1</th><th>Cytoplasm_AreaShape_Zernike_2_0</th><th>Cytoplasm_AreaShape_Zernike_2_2</th><th>Cytoplasm_AreaShape_Zernike_3_1</th><th>Cytoplasm_AreaShape_Zernike_4_0</th><th>Cytoplasm_AreaShape_Zernike_4_2</th><th>&hellip;</th><th>Nuclei_Texture_InfoMeas1_ER_3_00_256</th><th>Nuclei_Texture_InfoMeas1_ER_3_01_256</th><th>Nuclei_Texture_InfoMeas1_ER_3_02_256</th><th>Nuclei_Texture_InfoMeas1_ER_3_03_256</th><th>Nuclei_Texture_InfoMeas1_Hoechst_3_00_256</th><th>Nuclei_Texture_InfoMeas1_Hoechst_3_01_256</th><th>Nuclei_Texture_InfoMeas1_Hoechst_3_02_256</th><th>Nuclei_Texture_InfoMeas1_Hoechst_3_03_256</th><th>Nuclei_Texture_InfoMeas1_Mitochondria_3_00_256</th><th>Nuclei_Texture_InfoMeas1_Mitochondria_3_01_256</th><th>Nuclei_Texture_InfoMeas1_Mitochondria_3_02_256</th><th>Nuclei_Texture_InfoMeas1_Mitochondria_3_03_256</th><th>Nuclei_Texture_InfoMeas1_PM_3_00_256</th><th>Nuclei_Texture_InfoMeas1_PM_3_01_256</th><th>Nuclei_Texture_InfoMeas1_PM_3_02_256</th><th>Nuclei_Texture_InfoMeas1_PM_3_03_256</th><th>Nuclei_Texture_InfoMeas2_ER_3_01_256</th><th>Nuclei_Texture_InfoMeas2_ER_3_03_256</th><th>Nuclei_Texture_InfoMeas2_Hoechst_3_01_256</th><th>Nuclei_Texture_InfoMeas2_Hoechst_3_03_256</th><th>Nuclei_Texture_InfoMeas2_PM_3_01_256</th><th>Nuclei_Texture_InfoMeas2_PM_3_03_256</th><th>Nuclei_Texture_InverseDifferenceMoment_Actin_3_02_256</th><th>Nuclei_Texture_InverseDifferenceMoment_ER_3_01_256</th><th>Nuclei_Texture_InverseDifferenceMoment_ER_3_03_256</th><th>Nuclei_Texture_InverseDifferenceMoment_Mitochondria_3_03_256</th><th>Nuclei_Texture_InverseDifferenceMoment_PM_3_01_256</th><th>Nuclei_Texture_InverseDifferenceMoment_PM_3_03_256</th><th>Nuclei_Texture_SumEntropy_PM_3_01_256</th><th>Nuclei_Texture_SumVariance_ER_3_03_256</th><th>Nuclei_Texture_SumVariance_Hoechst_3_03_256</th><th>Nuclei_Texture_SumVariance_Mitochondria_3_01_256</th><th>Nuclei_Texture_SumVariance_PM_3_01_256</th><th>Metadata_cluster_id</th><th>Metadata_cluster_n_cells</th><th>Metadata_treatment_n_cells</th><th>Metadata_cluster_ratio</th></tr><tr><td>str</td><td>i64</td><td>i64</td><td>str</td><td>str</td><td>str</td><td>f64</td><td>f64</td><td>f64</td><td>f64</td><td>i64</td><td>i64</td><td>str</td><td>str</td><td>i64</td><td>i64</td><td>i64</td><td>i64</td><td>str</td><td>u64</td><td>f64</td><td>f64</td><td>f64</td><td>f64</td><td>f64</td><td>f64</td><td>f64</td><td>f64</td><td>f64</td><td>f64</td><td>f64</td><td>f64</td><td>f64</td><td>f64</td><td>f64</td><td>f64</td><td>f64</td><td>&hellip;</td><td>f64</td><td>f64</td><td>f64</td><td>f64</td><td>f64</td><td>f64</td><td>f64</td><td>f64</td><td>f64</td><td>f64</td><td>f64</td><td>f64</td><td>f64</td><td>f64</td><td>f64</td><td>f64</td><td>f64</td><td>f64</td><td>f64</td><td>f64</td><td>f64</td><td>f64</td><td>f64</td><td>f64</td><td>f64</td><td>f64</td><td>f64</td><td>f64</td><td>f64</td><td>f64</td><td>f64</td><td>f64</td><td>f64</td><td>cat</td><td>u32</td><td>u32</td><td>f64</td></tr></thead><tbody><tr><td>&quot;B&quot;</td><td>2</td><td>9</td><td>&quot;failing&quot;</td><td>&quot;rejected&quot;</td><td>&quot;DMSO&quot;</td><td>221.046761</td><td>137.115493</td><td>246.6028</td><td>109.285755</td><td>40</td><td>1</td><td>&quot;localhost230405150001&quot;</td><td>&quot;B02&quot;</td><td>1</td><td>1</td><td>6</td><td>6</td><td>&quot;f00&quot;</td><td>3741745246391810767</td><td>-1.35494</td><td>0.841229</td><td>0.648883</td><td>-0.850138</td><td>-1.045214</td><td>1.298358</td><td>0.376165</td><td>0.935101</td><td>1.530228</td><td>-0.983617</td><td>-0.261031</td><td>-0.299817</td><td>-0.721977</td><td>0.944725</td><td>0.161074</td><td>0.532329</td><td>1.845864</td><td>&hellip;</td><td>-0.173336</td><td>0.300041</td><td>0.217945</td><td>-0.039774</td><td>0.488531</td><td>0.472164</td><td>0.28659</td><td>0.464359</td><td>0.501649</td><td>0.507623</td><td>1.076663</td><td>0.741941</td><td>-0.696022</td><td>-0.178762</td><td>0.186741</td><td>0.158222</td><td>0.341595</td><td>0.50487</td><td>-0.440604</td><td>-0.426966</td><td>0.194372</td><td>-0.035117</td><td>0.400021</td><td>-0.619206</td><td>-0.393448</td><td>0.961214</td><td>0.406068</td><td>0.374039</td><td>-0.280532</td><td>-0.158967</td><td>-0.344804</td><td>-0.263653</td><td>-0.305486</td><td>&quot;DMSO_leiden_84&quot;</td><td>60</td><td>10519</td><td>0.570396</td></tr><tr><td>&quot;B&quot;</td><td>2</td><td>9</td><td>&quot;failing&quot;</td><td>&quot;rejected&quot;</td><td>&quot;DMSO&quot;</td><td>690.596142</td><td>183.067828</td><td>716.170091</td><td>177.132195</td><td>40</td><td>1</td><td>&quot;localhost230405150001&quot;</td><td>&quot;B02&quot;</td><td>2</td><td>2</td><td>7</td><td>7</td><td>&quot;f00&quot;</td><td>2742388086301918299</td><td>0.657107</td><td>-0.850399</td><td>-0.584931</td><td>2.090925</td><td>1.263259</td><td>-0.021031</td><td>1.627957</td><td>0.944161</td><td>-0.085511</td><td>1.475345</td><td>2.164761</td><td>-0.688462</td><td>1.215015</td><td>1.499086</td><td>-0.770667</td><td>1.012721</td><td>0.6791</td><td>&hellip;</td><td>0.134835</td><td>0.263514</td><td>-0.124309</td><td>0.634517</td><td>0.968512</td><td>0.859562</td><td>0.351144</td><td>0.914468</td><td>-2.508508</td><td>-2.389124</td><td>-1.80698</td><td>-2.121536</td><td>-0.231231</td><td>-0.763949</td><td>-1.055166</td><td>-0.258152</td><td>0.282319</td><td>0.048807</td><td>-0.981164</td><td>-1.0743</td><td>0.612996</td><td>0.290339</td><td>0.030854</td><td>-0.421502</td><td>-0.61852</td><td>-0.050925</td><td>0.424753</td><td>0.323462</td><td>-0.096856</td><td>-0.218001</td><td>-0.359297</td><td>2.621455</td><td>-0.175679</td><td>&quot;DMSO_leiden_55&quot;</td><td>71</td><td>10519</td><td>0.674969</td></tr><tr><td>&quot;B&quot;</td><td>2</td><td>9</td><td>&quot;failing&quot;</td><td>&quot;rejected&quot;</td><td>&quot;DMSO&quot;</td><td>626.56149</td><td>206.923698</td><td>623.94374</td><td>199.90644</td><td>40</td><td>1</td><td>&quot;localhost230405150001&quot;</td><td>&quot;B02&quot;</td><td>3</td><td>3</td><td>8</td><td>8</td><td>&quot;f00&quot;</td><td>8052448581702921839</td><td>0.384287</td><td>-0.727344</td><td>0.399813</td><td>0.699568</td><td>0.778991</td><td>-0.192578</td><td>-0.166121</td><td>-0.185078</td><td>-0.620564</td><td>0.385325</td><td>0.41953</td><td>-1.35377</td><td>-0.189027</td><td>1.88019</td><td>-0.198823</td><td>0.77826</td><td>2.084304</td><td>&hellip;</td><td>-0.126239</td><td>0.315114</td><td>-0.682006</td><td>-0.952994</td><td>0.534521</td><td>0.448969</td><td>-0.512213</td><td>0.68761</td><td>-0.333052</td><td>-1.116806</td><td>-0.671374</td><td>-0.085583</td><td>0.565659</td><td>0.117809</td><td>-0.035232</td><td>0.340022</td><td>0.392109</td><td>0.906171</td><td>-0.637012</td><td>-0.912759</td><td>-0.139719</td><td>-0.319312</td><td>-0.119514</td><td>-0.62708</td><td>-0.213998</td><td>0.492022</td><td>0.783465</td><td>0.531513</td><td>-0.515924</td><td>-0.090464</td><td>-0.381751</td><td>-0.23489</td><td>-0.312005</td><td>&quot;DMSO_leiden_58&quot;</td><td>70</td><td>10519</td><td>0.665462</td></tr><tr><td>&quot;B&quot;</td><td>2</td><td>9</td><td>&quot;failing&quot;</td><td>&quot;rejected&quot;</td><td>&quot;DMSO&quot;</td><td>559.448583</td><td>220.68816</td><td>528.646623</td><td>196.955552</td><td>40</td><td>1</td><td>&quot;localhost230405150001&quot;</td><td>&quot;B02&quot;</td><td>4</td><td>4</td><td>9</td><td>9</td><td>&quot;f00&quot;</td><td>14147989784803112122</td><td>-0.08178</td><td>-0.31057</td><td>-1.984463</td><td>0.923396</td><td>-0.152527</td><td>-0.454748</td><td>0.485672</td><td>0.978143</td><td>0.075853</td><td>0.333035</td><td>1.036702</td><td>2.124015</td><td>-0.11271</td><td>-1.276017</td><td>0.663499</td><td>1.351768</td><td>-2.07981</td><td>&hellip;</td><td>-0.285138</td><td>0.187411</td><td>-0.401472</td><td>-1.323716</td><td>0.216479</td><td>0.694455</td><td>0.22334</td><td>0.272893</td><td>-1.610123</td><td>-1.983535</td><td>-1.990444</td><td>-1.759351</td><td>-0.667021</td><td>-1.511134</td><td>-1.70973</td><td>-1.025608</td><td>0.38988</td><td>0.970785</td><td>-0.723812</td><td>-0.240465</td><td>1.02861</td><td>0.817875</td><td>0.731123</td><td>-0.410279</td><td>0.066951</td><td>0.233985</td><td>0.697668</td><td>0.3868</td><td>0.216837</td><td>-0.078625</td><td>-0.345897</td><td>-0.148249</td><td>-0.205381</td><td>&quot;DMSO_leiden_107&quot;</td><td>53</td><td>10519</td><td>0.50385</td></tr><tr><td>&quot;B&quot;</td><td>2</td><td>9</td><td>&quot;failing&quot;</td><td>&quot;rejected&quot;</td><td>&quot;DMSO&quot;</td><td>909.019946</td><td>247.69434</td><td>897.965996</td><td>253.621836</td><td>40</td><td>1</td><td>&quot;localhost230405150001&quot;</td><td>&quot;B02&quot;</td><td>5</td><td>5</td><td>10</td><td>10</td><td>&quot;f00&quot;</td><td>4803356350846732868</td><td>1.384627</td><td>-0.236857</td><td>0.651571</td><td>-0.525561</td><td>-0.256208</td><td>-0.352022</td><td>-0.51073</td><td>-0.650514</td><td>-0.61187</td><td>-0.390602</td><td>-0.915644</td><td>0.274757</td><td>-0.807468</td><td>-0.263914</td><td>1.012877</td><td>0.333081</td><td>0.457026</td><td>&hellip;</td><td>0.560328</td><td>0.087048</td><td>0.500935</td><td>1.024688</td><td>0.682356</td><td>0.703425</td><td>-0.559919</td><td>0.535412</td><td>-0.446346</td><td>-0.250839</td><td>-0.325067</td><td>-0.220781</td><td>0.135176</td><td>-0.068065</td><td>-1.328074</td><td>-0.471597</td><td>-0.313553</td><td>-1.011855</td><td>-0.921082</td><td>-0.718369</td><td>-0.1701</td><td>0.076669</td><td>0.151063</td><td>0.78411</td><td>0.796587</td><td>-0.833035</td><td>0.971781</td><td>0.96971</td><td>-0.859995</td><td>-0.437968</td><td>-0.375427</td><td>0.054053</td><td>-0.346036</td><td>&quot;DMSO_leiden_40&quot;</td><td>78</td><td>10519</td><td>0.741515</td></tr><tr><td>&hellip;</td><td>&hellip;</td><td>&hellip;</td><td>&hellip;</td><td>&hellip;</td><td>&hellip;</td><td>&hellip;</td><td>&hellip;</td><td>&hellip;</td><td>&hellip;</td><td>&hellip;</td><td>&hellip;</td><td>&hellip;</td><td>&hellip;</td><td>&hellip;</td><td>&hellip;</td><td>&hellip;</td><td>&hellip;</td><td>&hellip;</td><td>&hellip;</td><td>&hellip;</td><td>&hellip;</td><td>&hellip;</td><td>&hellip;</td><td>&hellip;</td><td>&hellip;</td><td>&hellip;</td><td>&hellip;</td><td>&hellip;</td><td>&hellip;</td><td>&hellip;</td><td>&hellip;</td><td>&hellip;</td><td>&hellip;</td><td>&hellip;</td><td>&hellip;</td><td>&hellip;</td><td>&hellip;</td><td>&hellip;</td><td>&hellip;</td><td>&hellip;</td><td>&hellip;</td><td>&hellip;</td><td>&hellip;</td><td>&hellip;</td><td>&hellip;</td><td>&hellip;</td><td>&hellip;</td><td>&hellip;</td><td>&hellip;</td><td>&hellip;</td><td>&hellip;</td><td>&hellip;</td><td>&hellip;</td><td>&hellip;</td><td>&hellip;</td><td>&hellip;</td><td>&hellip;</td><td>&hellip;</td><td>&hellip;</td><td>&hellip;</td><td>&hellip;</td><td>&hellip;</td><td>&hellip;</td><td>&hellip;</td><td>&hellip;</td><td>&hellip;</td><td>&hellip;</td><td>&hellip;</td><td>&hellip;</td><td>&hellip;</td><td>&hellip;</td><td>&hellip;</td><td>&hellip;</td><td>&hellip;</td></tr><tr><td>&quot;G&quot;</td><td>10</td><td>9</td><td>&quot;failing&quot;</td><td>&quot;rejected&quot;</td><td>&quot;DMSO&quot;</td><td>417.553262</td><td>678.670439</td><td>411.069742</td><td>701.062876</td><td>20</td><td>680</td><td>&quot;localhost230405150001&quot;</td><td>&quot;G10&quot;</td><td>16</td><td>16</td><td>21</td><td>21</td><td>&quot;f15&quot;</td><td>1828074344285244675</td><td>-0.411438</td><td>-0.550025</td><td>0.933272</td><td>0.159549</td><td>0.288706</td><td>0.000636</td><td>-0.337034</td><td>-0.783618</td><td>-0.546877</td><td>-0.099205</td><td>-0.353632</td><td>-0.727437</td><td>-0.141679</td><td>1.124212</td><td>-1.315817</td><td>-0.152297</td><td>1.113884</td><td>&hellip;</td><td>0.027805</td><td>0.1628</td><td>0.467093</td><td>0.150966</td><td>0.389177</td><td>0.061158</td><td>-0.186975</td><td>-0.483708</td><td>0.062713</td><td>-0.236416</td><td>-0.99515</td><td>-0.389831</td><td>-0.11007</td><td>0.167719</td><td>-1.285632</td><td>-1.442444</td><td>0.235799</td><td>0.235442</td><td>0.310009</td><td>0.747407</td><td>0.351582</td><td>1.123192</td><td>0.387158</td><td>0.046973</td><td>-0.009479</td><td>0.323142</td><td>-0.684759</td><td>0.097293</td><td>0.554241</td><td>-0.318752</td><td>-0.199681</td><td>-0.225785</td><td>0.028462</td><td>&quot;DMSO_leiden_87&quot;</td><td>59</td><td>10519</td><td>0.56089</td></tr><tr><td>&quot;G&quot;</td><td>10</td><td>9</td><td>&quot;failing&quot;</td><td>&quot;rejected&quot;</td><td>&quot;DMSO&quot;</td><td>498.481236</td><td>693.440765</td><td>520.422886</td><td>716.795365</td><td>20</td><td>680</td><td>&quot;localhost230405150001&quot;</td><td>&quot;G10&quot;</td><td>17</td><td>17</td><td>22</td><td>22</td><td>&quot;f15&quot;</td><td>17996227433841145301</td><td>-0.070413</td><td>-0.879821</td><td>-1.853292</td><td>1.637607</td><td>1.405004</td><td>-0.384347</td><td>1.287084</td><td>1.054404</td><td>-0.290838</td><td>1.289462</td><td>2.013421</td><td>-0.172146</td><td>1.370837</td><td>-0.761592</td><td>-0.284166</td><td>0.507502</td><td>-1.569647</td><td>&hellip;</td><td>-0.353139</td><td>-1.029642</td><td>-1.874687</td><td>-1.043998</td><td>0.232443</td><td>0.168135</td><td>-1.206198</td><td>-0.183575</td><td>-0.867178</td><td>-1.448457</td><td>-2.28079</td><td>-1.267928</td><td>0.01632</td><td>-0.405172</td><td>-0.720056</td><td>-0.313263</td><td>1.08923</td><td>1.094201</td><td>0.397685</td><td>0.707845</td><td>1.018167</td><td>0.96371</td><td>0.833534</td><td>-1.45509</td><td>-1.22603</td><td>-1.051954</td><td>-1.508309</td><td>-1.71505</td><td>1.542973</td><td>0.817171</td><td>-0.005211</td><td>0.323479</td><td>0.822093</td><td>&quot;DMSO_leiden_120&quot;</td><td>49</td><td>10519</td><td>0.465824</td></tr><tr><td>&quot;G&quot;</td><td>10</td><td>9</td><td>&quot;failing&quot;</td><td>&quot;rejected&quot;</td><td>&quot;DMSO&quot;</td><td>318.200661</td><td>728.801228</td><td>315.515137</td><td>756.658659</td><td>20</td><td>680</td><td>&quot;localhost230405150001&quot;</td><td>&quot;G10&quot;</td><td>18</td><td>18</td><td>23</td><td>23</td><td>&quot;f15&quot;</td><td>6564083374445386651</td><td>-0.885084</td><td>2.54069</td><td>0.386993</td><td>-1.984288</td><td>-1.446532</td><td>0.577869</td><td>-1.269813</td><td>0.676251</td><td>0.859093</td><td>-2.593615</td><td>-1.700356</td><td>-0.408731</td><td>-1.631464</td><td>-0.853618</td><td>-0.597128</td><td>-0.849872</td><td>-0.652601</td><td>&hellip;</td><td>0.293678</td><td>-0.103463</td><td>-0.569333</td><td>0.757699</td><td>0.179876</td><td>0.208219</td><td>-0.162802</td><td>0.130081</td><td>0.545801</td><td>0.198027</td><td>0.031118</td><td>0.645746</td><td>-0.460905</td><td>-0.349052</td><td>-1.305133</td><td>-0.598384</td><td>-0.065092</td><td>-0.650356</td><td>0.256878</td><td>0.33604</td><td>0.326594</td><td>0.471925</td><td>0.525841</td><td>0.861197</td><td>0.453347</td><td>0.591169</td><td>0.444195</td><td>0.553663</td><td>-0.179696</td><td>-0.408678</td><td>-0.093233</td><td>-0.259144</td><td>-0.266575</td><td>&quot;DMSO_leiden_11&quot;</td><td>97</td><td>10519</td><td>0.922141</td></tr><tr><td>&quot;G&quot;</td><td>10</td><td>9</td><td>&quot;failing&quot;</td><td>&quot;rejected&quot;</td><td>&quot;DMSO&quot;</td><td>491.591029</td><td>876.989886</td><td>498.0537</td><td>851.270108</td><td>20</td><td>680</td><td>&quot;localhost230405150001&quot;</td><td>&quot;G10&quot;</td><td>19</td><td>19</td><td>26</td><td>26</td><td>&quot;f15&quot;</td><td>573771430041384564</td><td>-0.430384</td><td>0.709102</td><td>0.657286</td><td>-0.69934</td><td>-0.988828</td><td>1.013925</td><td>0.457867</td><td>0.645007</td><td>1.280872</td><td>-0.433404</td><td>-0.759422</td><td>1.370071</td><td>-1.353948</td><td>-1.339713</td><td>1.7348</td><td>1.408307</td><td>-1.057471</td><td>&hellip;</td><td>-0.709953</td><td>-0.441521</td><td>-0.749642</td><td>-0.716573</td><td>0.393876</td><td>-0.00311</td><td>0.264086</td><td>0.394655</td><td>0.67071</td><td>0.725018</td><td>0.829167</td><td>1.067858</td><td>-1.204221</td><td>-1.454792</td><td>-1.629882</td><td>-1.260699</td><td>0.277148</td><td>0.40219</td><td>0.416932</td><td>0.022673</td><td>0.751658</td><td>0.666525</td><td>0.553082</td><td>0.47027</td><td>0.667388</td><td>0.808673</td><td>0.988244</td><td>0.985433</td><td>-0.412572</td><td>-0.368709</td><td>-0.134434</td><td>-0.265111</td><td>-0.312917</td><td>&quot;DMSO_leiden_46&quot;</td><td>75</td><td>10519</td><td>0.712996</td></tr><tr><td>&quot;G&quot;</td><td>10</td><td>9</td><td>&quot;failing&quot;</td><td>&quot;rejected&quot;</td><td>&quot;DMSO&quot;</td><td>340.428288</td><td>919.380701</td><td>348.605561</td><td>938.970987</td><td>20</td><td>680</td><td>&quot;localhost230405150001&quot;</td><td>&quot;G10&quot;</td><td>20</td><td>20</td><td>27</td><td>27</td><td>&quot;f15&quot;</td><td>8771791227159102522</td><td>-0.839614</td><td>-0.380572</td><td>0.200861</td><td>1.180445</td><td>-0.04207</td><td>0.644693</td><td>1.792008</td><td>1.021576</td><td>0.807075</td><td>1.071861</td><td>1.005322</td><td>1.293103</td><td>0.782074</td><td>1.292384</td><td>2.079989</td><td>-0.969702</td><td>-0.512156</td><td>&hellip;</td><td>-1.401778</td><td>-1.624146</td><td>-0.987942</td><td>-0.277281</td><td>0.658237</td><td>0.841836</td><td>0.970514</td><td>0.907711</td><td>-1.100197</td><td>-1.006346</td><td>-0.104079</td><td>-0.029848</td><td>-2.074544</td><td>-1.190823</td><td>-0.720245</td><td>-1.226815</td><td>0.852866</td><td>0.377311</td><td>-0.843752</td><td>-0.948048</td><td>0.724025</td><td>0.726213</td><td>0.025859</td><td>0.677496</td><td>-0.025009</td><td>0.386419</td><td>0.827463</td><td>0.770934</td><td>-0.258647</td><td>-0.265174</td><td>-0.335683</td><td>-0.218918</td><td>-0.306115</td><td>&quot;DMSO_leiden_6&quot;</td><td>113</td><td>10519</td><td>1.074247</td></tr></tbody></table></div>"
      ],
      "text/plain": [
       "shape: (20_865, 681)\n",
       "┌───────────┬───────────┬───────────┬───────────┬───┬───────────┬───────────┬───────────┬──────────┐\n",
       "│ Metadata_ ┆ Metadata_ ┆ Metadata_ ┆ Metadata_ ┆ … ┆ Metadata_ ┆ Metadata_ ┆ Metadata_ ┆ Metadata │\n",
       "│ WellRow   ┆ WellCol   ┆ heart_num ┆ cell_type ┆   ┆ cluster_i ┆ cluster_n ┆ treatment ┆ _cluster │\n",
       "│ ---       ┆ ---       ┆ ber       ┆ ---       ┆   ┆ d         ┆ _cells    ┆ _n_cells  ┆ _ratio   │\n",
       "│ str       ┆ i64       ┆ ---       ┆ str       ┆   ┆ ---       ┆ ---       ┆ ---       ┆ ---      │\n",
       "│           ┆           ┆ i64       ┆           ┆   ┆ cat       ┆ u32       ┆ u32       ┆ f64      │\n",
       "╞═══════════╪═══════════╪═══════════╪═══════════╪═══╪═══════════╪═══════════╪═══════════╪══════════╡\n",
       "│ B         ┆ 2         ┆ 9         ┆ failing   ┆ … ┆ DMSO_leid ┆ 60        ┆ 10519     ┆ 0.570396 │\n",
       "│           ┆           ┆           ┆           ┆   ┆ en_84     ┆           ┆           ┆          │\n",
       "│ B         ┆ 2         ┆ 9         ┆ failing   ┆ … ┆ DMSO_leid ┆ 71        ┆ 10519     ┆ 0.674969 │\n",
       "│           ┆           ┆           ┆           ┆   ┆ en_55     ┆           ┆           ┆          │\n",
       "│ B         ┆ 2         ┆ 9         ┆ failing   ┆ … ┆ DMSO_leid ┆ 70        ┆ 10519     ┆ 0.665462 │\n",
       "│           ┆           ┆           ┆           ┆   ┆ en_58     ┆           ┆           ┆          │\n",
       "│ B         ┆ 2         ┆ 9         ┆ failing   ┆ … ┆ DMSO_leid ┆ 53        ┆ 10519     ┆ 0.50385  │\n",
       "│           ┆           ┆           ┆           ┆   ┆ en_107    ┆           ┆           ┆          │\n",
       "│ B         ┆ 2         ┆ 9         ┆ failing   ┆ … ┆ DMSO_leid ┆ 78        ┆ 10519     ┆ 0.741515 │\n",
       "│           ┆           ┆           ┆           ┆   ┆ en_40     ┆           ┆           ┆          │\n",
       "│ …         ┆ …         ┆ …         ┆ …         ┆ … ┆ …         ┆ …         ┆ …         ┆ …        │\n",
       "│ G         ┆ 10        ┆ 9         ┆ failing   ┆ … ┆ DMSO_leid ┆ 59        ┆ 10519     ┆ 0.56089  │\n",
       "│           ┆           ┆           ┆           ┆   ┆ en_87     ┆           ┆           ┆          │\n",
       "│ G         ┆ 10        ┆ 9         ┆ failing   ┆ … ┆ DMSO_leid ┆ 49        ┆ 10519     ┆ 0.465824 │\n",
       "│           ┆           ┆           ┆           ┆   ┆ en_120    ┆           ┆           ┆          │\n",
       "│ G         ┆ 10        ┆ 9         ┆ failing   ┆ … ┆ DMSO_leid ┆ 97        ┆ 10519     ┆ 0.922141 │\n",
       "│           ┆           ┆           ┆           ┆   ┆ en_11     ┆           ┆           ┆          │\n",
       "│ G         ┆ 10        ┆ 9         ┆ failing   ┆ … ┆ DMSO_leid ┆ 75        ┆ 10519     ┆ 0.712996 │\n",
       "│           ┆           ┆           ┆           ┆   ┆ en_46     ┆           ┆           ┆          │\n",
       "│ G         ┆ 10        ┆ 9         ┆ failing   ┆ … ┆ DMSO_leid ┆ 113       ┆ 10519     ┆ 1.074247 │\n",
       "│           ┆           ┆           ┆           ┆   ┆ en_6      ┆           ┆           ┆          │\n",
       "└───────────┴───────────┴───────────┴───────────┴───┴───────────┴───────────┴───────────┴──────────┘"
      ]
     },
     "execution_count": 30,
     "metadata": {},
     "output_type": "execute_result"
    }
   ],
   "source": [
    "cfret_cluster_results = cluster_profiles(\n",
    "    profiles=cfret_profile_df,\n",
    "    morph_features=cfret_feats,\n",
    "    meta_features=cfret_meta,\n",
    "    treatment_col=\"Metadata_treatment\",\n",
    ")\n",
    "cfret_cluster_results"
   ]
  },
  {
   "cell_type": "markdown",
   "id": "d3769f8c",
   "metadata": {},
   "source": [
    "### Assessing heterogeneity for CPJUMP1 CRISPR data"
   ]
  },
  {
   "cell_type": "code",
   "execution_count": 31,
   "id": "8c958e9b",
   "metadata": {},
   "outputs": [],
   "source": [
    "# split metadata and features for cpjump1\n",
    "cpjump1_meta = [\n",
    "    \"index\",\n",
    "    \"Metadata_broad_sample\",\n",
    "    \"Metadata_ImageNumber\",\n",
    "    \"Metadata_Plate\",\n",
    "    \"Metadata_Site\",\n",
    "    \"Metadata_Well\",\n",
    "    \"Metadata_TableNumber\",\n",
    "    \"Metadata_ObjectNumber_cytoplasm\",\n",
    "    \"Metadata_Cytoplasm_Parent_Cells\",\n",
    "    \"Metadata_Cytoplasm_Parent_Nuclei\",\n",
    "    \"Metadata_ObjectNumber_cells\",\n",
    "    \"Metadata_ObjectNumber\",\n",
    "    \"Metadata_gene\",\n",
    "    \"Metadata_pert_type\",\n",
    "    \"Metadata_control_type\",\n",
    "    \"Metadata_target_sequence\",\n",
    "    \"Metadata_negcon_control_type\",\n",
    "    \"__index_level_0__\",\n",
    "]\n",
    "\n",
    "# split metadata and features for cpjump1\n",
    "cpjump1_feats = cpjump1_trt_crispr_df.drop(cpjump1_meta).columns"
   ]
  },
  {
   "cell_type": "code",
   "execution_count": 33,
   "id": "70d92ca7",
   "metadata": {},
   "outputs": [],
   "source": [
    "cpjump1_cluster_results = cluster_profiles(\n",
    "    profiles=cpjump1_trt_crispr_df,\n",
    "    meta_features=cpjump1_meta,\n",
    "    morph_features=cpjump1_feats,\n",
    "    treatment_col=\"Metadata_gene\",\n",
    ")"
   ]
  },
  {
   "cell_type": "code",
   "execution_count": null,
   "id": "5ef01af3",
   "metadata": {},
   "outputs": [],
   "source": []
  }
 ],
 "metadata": {
  "kernelspec": {
   "display_name": "buscar",
   "language": "python",
   "name": "python3"
  },
  "language_info": {
   "codemirror_mode": {
    "name": "ipython",
    "version": 3
   },
   "file_extension": ".py",
   "mimetype": "text/x-python",
   "name": "python",
   "nbconvert_exporter": "python",
   "pygments_lexer": "ipython3",
   "version": "3.12.11"
  }
 },
 "nbformat": 4,
 "nbformat_minor": 5
}
