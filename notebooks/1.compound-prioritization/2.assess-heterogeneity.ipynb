{
 "cells": [
  {
   "cell_type": "markdown",
   "id": "54aea5c2",
   "metadata": {},
   "source": [
    "# 2.assess-heterogeneity \n",
    "\n",
    "This section of the notebook uses buscar's clustering module to assess single-cell heterogeneity. We'll focus on three specific datasets: **CFReT**, **MitoCheck**, and **CPJUMP (crispir)**. The goal is to use our clustering algorithms to identify cellular heterogeneity at the single-cell level. \n",
    "\n",
    "A key advantage of using these datasets is that they include ground-truth labels. This allows us to evaluate whether our clustering algorithms are identifying biologically meaningful groups in a data-driven way, and to assess the accuracy of our approach."
   ]
  },
  {
   "cell_type": "code",
   "execution_count": 1,
   "id": "5333b9c0",
   "metadata": {},
   "outputs": [
    {
     "name": "stderr",
     "output_type": "stream",
     "text": [
      "/home/erikserrano/Programs/miniconda3/envs/buscar/lib/python3.12/site-packages/louvain/__init__.py:54: UserWarning: pkg_resources is deprecated as an API. See https://setuptools.pypa.io/en/latest/pkg_resources.html. The pkg_resources package is slated for removal as early as 2025-11-30. Refrain from using this package or pin to Setuptools<81.\n",
      "  from pkg_resources import get_distribution, DistributionNotFound\n"
     ]
    }
   ],
   "source": [
    "import sys\n",
    "import pathlib\n",
    "\n",
    "import json\n",
    "\n",
    "sys.path.append(\"../../\")\n",
    "from utils.heterogeneity import assess_heterogeneity\n",
    "from utils.io_utils import load_profiles"
   ]
  },
  {
   "cell_type": "markdown",
   "id": "29f21fd9",
   "metadata": {},
   "source": [
    "Setting paths"
   ]
  },
  {
   "cell_type": "code",
   "execution_count": 2,
   "id": "cf6a3c28",
   "metadata": {},
   "outputs": [],
   "source": [
    "# set module and data directory paths\n",
    "download_module_path = pathlib.Path(\"../0.download-data/\").resolve(strict=True)\n",
    "sc_profiles_path = (download_module_path / \"data\" / \"sc-profiles\").resolve(strict=True)\n",
    "\n",
    "\n",
    "# setting profiles paths\n",
    "cfret_profiles_path = (\n",
    "    sc_profiles_path / \"cfret\" / \"localhost230405150001_sc_feature_selected.parquet\"\n",
    ").resolve(strict=True)\n",
    "cpjump1_trt_crispr_profiles_path = (\n",
    "    sc_profiles_path\n",
    "    / \"cpjump1\"\n",
    "    / \"trt-profiles\"\n",
    "    / \"cpjump1_crispr_trt_profiles.parquet\"\n",
    ").resolve(strict=True)\n",
    "# mitocheck_trt_profiles_path = (\n",
    "#     sc_profiles_path / \"mitocheck\" / \"treated_mitocheck_cp_profiles.parquet\"\n",
    "# ).resolve(strict=True)\n",
    "\n",
    "# create signature output paths\n",
    "results_dir = pathlib.Path(\"./results/cluster-labels\").resolve()\n",
    "results_dir.mkdir(exist_ok=True, parents=True)"
   ]
  },
  {
   "cell_type": "markdown",
   "id": "631ea3a5",
   "metadata": {},
   "source": [
    "Loading datasets"
   ]
  },
  {
   "cell_type": "code",
   "execution_count": 4,
   "id": "74bfe56f",
   "metadata": {},
   "outputs": [],
   "source": [
    "# load all profiles\n",
    "# mitocheck_trt_profile_df = load_profiles(mitocheck_trt_profiles_path)\n",
    "cfret_profile_df = load_profiles(cfret_profiles_path)\n",
    "cpjump1_trt_crispr_df = load_profiles(cpjump1_trt_crispr_profiles_path)"
   ]
  },
  {
   "cell_type": "markdown",
   "id": "e91f0ea3",
   "metadata": {},
   "source": [
    "## Clustering profiles"
   ]
  },
  {
   "cell_type": "markdown",
   "id": "6d679241",
   "metadata": {},
   "source": [
    "### Assessing heterogeneity for MitoCheck data"
   ]
  },
  {
   "cell_type": "code",
   "execution_count": null,
   "id": "3c0fd9f3",
   "metadata": {},
   "outputs": [],
   "source": [
    "# separate metadata based on phenotypic class\n",
    "# split metadata and features\n",
    "mito_meta = [\n",
    "    \"Mitocheck_Phenotypic_Class\",\n",
    "    \"Cell_UUID\",\n",
    "    \"Location_Center_X\",\n",
    "    \"Location_Center_Y\",\n",
    "    \"Metadata_Plate\",\n",
    "    \"Metadata_Well\",\n",
    "    \"Metadata_Frame\",\n",
    "    \"Metadata_Site\",\n",
    "    \"Metadata_Plate_Map_Name\",\n",
    "    \"Metadata_DNA\",\n",
    "    \"Metadata_Gene\",\n",
    "    \"Metadata_Gene_Replicate\",\n",
    "    \"Metadata_Object_Outline\",\n",
    "]\n",
    "\n",
    "mito_features = mitocheck_trt_profile_df.drop(mito_meta).columns"
   ]
  },
  {
   "cell_type": "code",
   "execution_count": null,
   "id": "d4b06373",
   "metadata": {},
   "outputs": [],
   "source": [
    "mitocheck_cluster_results = assess_heterogeneity(\n",
    "    profiles=mitocheck_trt_profile_df,\n",
    "    meta=mito_meta,\n",
    "    features=mito_features,\n",
    "    n_trials=10,\n",
    "    n_jobs=1,\n",
    "    study_name=\"mitocheck_heterogeneity\",\n",
    "    seed=0,\n",
    ")\n",
    "with open(results_dir / \"mitocheck_heterogenic_clusters_results.json\", \"w\") as f:\n",
    "    json.dump(mitocheck_cluster_results, f)"
   ]
  },
  {
   "cell_type": "markdown",
   "id": "8b57431f",
   "metadata": {},
   "source": [
    "### Assessing heterogeneity for CFReT data"
   ]
  },
  {
   "cell_type": "code",
   "execution_count": 5,
   "id": "109ce77b",
   "metadata": {},
   "outputs": [],
   "source": [
    "# only selected treatment profiles from cfret\n",
    "# cfret_trt = cfret_profile_df.filter(pl.col(\"Metadata_treatment\") != \"DMSO\")\n",
    "\n",
    "# split metadata and features for cfret\n",
    "cfret_meta = [\n",
    "    \"Metadata_WellRow\",\n",
    "    \"Metadata_WellCol\",\n",
    "    \"Metadata_heart_number\",\n",
    "    \"Metadata_cell_type\",\n",
    "    \"Metadata_heart_failure_type\",\n",
    "    \"Metadata_treatment\",\n",
    "    \"Metadata_Nuclei_Location_Center_X\",\n",
    "    \"Metadata_Nuclei_Location_Center_Y\",\n",
    "    \"Metadata_Cells_Location_Center_X\",\n",
    "    \"Metadata_Cells_Location_Center_Y\",\n",
    "    \"Metadata_Image_Count_Cells\",\n",
    "    \"Metadata_ImageNumber\",\n",
    "    \"Metadata_Plate\",\n",
    "    \"Metadata_Well\",\n",
    "    \"Metadata_Cells_Number_Object_Number\",\n",
    "    \"Metadata_Cytoplasm_Parent_Cells\",\n",
    "    \"Metadata_Cytoplasm_Parent_Nuclei\",\n",
    "    \"Metadata_Nuclei_Number_Object_Number\",\n",
    "    \"Metadata_Site\",\n",
    "]\n",
    "\n",
    "cfret_feats = cfret_profile_df.drop(cfret_meta).columns"
   ]
  },
  {
   "cell_type": "code",
   "execution_count": 12,
   "id": "dadc6155",
   "metadata": {},
   "outputs": [
    {
     "name": "stderr",
     "output_type": "stream",
     "text": [
      "[I 2025-09-11 19:31:08,926] A new study created in memory with name: cfret_heterogeneity\n"
     ]
    },
    {
     "data": {
      "application/vnd.jupyter.widget-view+json": {
       "model_id": "fdd520e2e60649d694b1ecc1eff29493",
       "version_major": 2,
       "version_minor": 0
      },
      "text/plain": [
       "  0%|          | 0/500 [00:00<?, ?it/s]"
      ]
     },
     "metadata": {},
     "output_type": "display_data"
    },
    {
     "name": "stderr",
     "output_type": "stream",
     "text": [
      "/home/erikserrano/Programs/miniconda3/envs/buscar/lib/python3.12/site-packages/pynndescent/pynndescent_.py:939: UserWarning: Failed to correctly find n_neighbors for some samples. Results may be less than ideal. Try re-running with different parameters.\n",
      "  warn(\n",
      "/home/erikserrano/Programs/miniconda3/envs/buscar/lib/python3.12/site-packages/pynndescent/pynndescent_.py:939: UserWarning: Failed to correctly find n_neighbors for some samples. Results may be less than ideal. Try re-running with different parameters.\n",
      "  warn(\n",
      "/home/erikserrano/Programs/miniconda3/envs/buscar/lib/python3.12/site-packages/pynndescent/pynndescent_.py:939: UserWarning: Failed to correctly find n_neighbors for some samples. Results may be less than ideal. Try re-running with different parameters.\n",
      "  warn(\n"
     ]
    },
    {
     "name": "stdout",
     "output_type": "stream",
     "text": [
      "[I 2025-09-11 19:31:20,034] Trial 4 finished with value: -1.0 and parameters: {'n_neighbors': 29, 'dim_reduction': 'pca', 'pca_solver': 'randomized', 'pca_components': 79, 'resolution': 0.8644236208804086, 'method': 'leiden', 'dist_metric': 'cosine', 'louv_clustering_imp': 'igraph', 'leid_clustering_imp': 'leidenalg'}. Best is trial 4 with value: -1.0.\n"
     ]
    },
    {
     "name": "stderr",
     "output_type": "stream",
     "text": [
      "/home/erikserrano/Programs/miniconda3/envs/buscar/lib/python3.12/site-packages/pynndescent/pynndescent_.py:939: UserWarning: Failed to correctly find n_neighbors for some samples. Results may be less than ideal. Try re-running with different parameters.\n",
      "  warn(\n"
     ]
    },
    {
     "name": "stdout",
     "output_type": "stream",
     "text": [
      "[I 2025-09-11 19:31:24,799] Trial 1 finished with value: -1.0 and parameters: {'n_neighbors': 190, 'dim_reduction': 'raw', 'pca_solver': 'auto', 'pca_components': 74, 'resolution': 0.7216206574800512, 'method': 'leiden', 'dist_metric': 'cosine', 'louv_clustering_imp': 'vtraag', 'leid_clustering_imp': 'igraph'}. Best is trial 4 with value: -1.0.\n",
      "[I 2025-09-11 19:31:26,656] Trial 3 finished with value: -1.0 and parameters: {'n_neighbors': 184, 'dim_reduction': 'raw', 'pca_solver': 'arpack', 'pca_components': 90, 'resolution': 1.6912019168619274, 'method': 'louvain', 'dist_metric': 'cosine', 'louv_clustering_imp': 'vtraag', 'leid_clustering_imp': 'igraph'}. Best is trial 4 with value: -1.0.\n"
     ]
    },
    {
     "name": "stderr",
     "output_type": "stream",
     "text": [
      "/home/erikserrano/Development/buscar/notebooks/1.compound-prioritization/../../utils/heterogeneity.py:115: UserWarning: Ignoring svd_solver='auto' and using randomized, sklearn.decomposition._truncated_svd.TruncatedSVD only supports dict_keys(['arpack', 'randomized']).\n",
      "  sc.pp.pca(\n",
      "/home/erikserrano/Programs/miniconda3/envs/buscar/lib/python3.12/site-packages/pynndescent/pynndescent_.py:939: UserWarning: Failed to correctly find n_neighbors for some samples. Results may be less than ideal. Try re-running with different parameters.\n",
      "  warn(\n"
     ]
    },
    {
     "name": "stdout",
     "output_type": "stream",
     "text": [
      "[I 2025-09-11 19:31:31,317] Trial 5 finished with value: -1.0 and parameters: {'n_neighbors': 192, 'dim_reduction': 'pca', 'pca_solver': 'arpack', 'pca_components': 22, 'resolution': 0.514506400641847, 'method': 'louvain', 'dist_metric': 'cosine', 'louv_clustering_imp': 'vtraag', 'leid_clustering_imp': 'leidenalg'}. Best is trial 4 with value: -1.0.\n",
      "[I 2025-09-11 19:31:35,875] Trial 7 finished with value: -1.0 and parameters: {'n_neighbors': 80, 'dim_reduction': 'pca', 'pca_solver': 'auto', 'pca_components': 17, 'resolution': 1.7879206023305148, 'method': 'leiden', 'dist_metric': 'cosine', 'louv_clustering_imp': 'vtraag', 'leid_clustering_imp': 'leidenalg'}. Best is trial 4 with value: -1.0.\n"
     ]
    },
    {
     "name": "stderr",
     "output_type": "stream",
     "text": [
      "/home/erikserrano/Programs/miniconda3/envs/buscar/lib/python3.12/site-packages/pynndescent/pynndescent_.py:939: UserWarning: Failed to correctly find n_neighbors for some samples. Results may be less than ideal. Try re-running with different parameters.\n",
      "  warn(\n"
     ]
    },
    {
     "name": "stdout",
     "output_type": "stream",
     "text": [
      "[I 2025-09-11 19:31:48,608] Trial 6 finished with value: -1.0 and parameters: {'n_neighbors': 195, 'dim_reduction': 'pca', 'pca_solver': 'arpack', 'pca_components': 84, 'resolution': 1.4609437513911498, 'method': 'louvain', 'dist_metric': 'cosine', 'louv_clustering_imp': 'vtraag', 'leid_clustering_imp': 'igraph'}. Best is trial 4 with value: -1.0.\n",
      "[I 2025-09-11 19:31:52,910] Trial 9 finished with value: -1.0 and parameters: {'n_neighbors': 152, 'dim_reduction': 'raw', 'pca_solver': 'arpack', 'pca_components': 85, 'resolution': 0.21382219931142857, 'method': 'louvain', 'dist_metric': 'cosine', 'louv_clustering_imp': 'vtraag', 'leid_clustering_imp': 'leidenalg'}. Best is trial 4 with value: -1.0.\n",
      "[I 2025-09-11 19:31:57,994] Trial 10 finished with value: -1.0 and parameters: {'n_neighbors': 145, 'dim_reduction': 'pca', 'pca_solver': 'randomized', 'pca_components': 35, 'resolution': 1.0678096919641347, 'method': 'leiden', 'dist_metric': 'cosine', 'louv_clustering_imp': 'igraph', 'leid_clustering_imp': 'leidenalg'}. Best is trial 4 with value: -1.0.\n",
      "[I 2025-09-11 19:31:59,775] Trial 0 finished with value: 0.48913161949467365 and parameters: {'n_neighbors': 68, 'dim_reduction': 'raw', 'pca_solver': 'auto', 'pca_components': 77, 'resolution': 1.5365067362181164, 'method': 'leiden', 'dist_metric': 'euclidean', 'louv_clustering_imp': 'igraph', 'leid_clustering_imp': 'igraph'}. Best is trial 0 with value: 0.48913161949467365.\n"
     ]
    },
    {
     "name": "stderr",
     "output_type": "stream",
     "text": [
      "`resolution` parameter has no effect for flavor \"igraph\"\n"
     ]
    },
    {
     "name": "stdout",
     "output_type": "stream",
     "text": [
      "[I 2025-09-11 19:32:22,034] Trial 11 finished with value: 0.5048687061958449 and parameters: {'n_neighbors': 39, 'dim_reduction': 'pca', 'pca_solver': 'auto', 'pca_components': 11, 'resolution': 0.6204250198862267, 'method': 'louvain', 'dist_metric': 'euclidean', 'louv_clustering_imp': 'igraph', 'leid_clustering_imp': 'igraph'}. Best is trial 11 with value: 0.5048687061958449.\n",
      "[I 2025-09-11 19:32:35,749] Trial 13 finished with value: 0.48025460447316304 and parameters: {'n_neighbors': 16, 'dim_reduction': 'pca', 'pca_solver': 'auto', 'pca_components': 78, 'resolution': 0.853396075907053, 'method': 'leiden', 'dist_metric': 'euclidean', 'louv_clustering_imp': 'vtraag', 'leid_clustering_imp': 'igraph'}. Best is trial 11 with value: 0.5048687061958449.\n"
     ]
    },
    {
     "name": "stderr",
     "output_type": "stream",
     "text": [
      "`resolution` parameter has no effect for flavor \"igraph\"\n"
     ]
    },
    {
     "name": "stdout",
     "output_type": "stream",
     "text": [
      "[I 2025-09-11 19:33:08,982] Trial 2 finished with value: 0.5162869816667686 and parameters: {'n_neighbors': 200, 'dim_reduction': 'raw', 'pca_solver': 'randomized', 'pca_components': 77, 'resolution': 0.5881046577677544, 'method': 'louvain', 'dist_metric': 'euclidean', 'louv_clustering_imp': 'vtraag', 'leid_clustering_imp': 'leidenalg'}. Best is trial 2 with value: 0.5162869816667686.\n"
     ]
    },
    {
     "name": "stderr",
     "output_type": "stream",
     "text": [
      "`resolution` parameter has no effect for flavor \"igraph\"\n"
     ]
    },
    {
     "name": "stdout",
     "output_type": "stream",
     "text": [
      "[I 2025-09-11 19:33:20,030] Trial 8 finished with value: 0.5115144235416149 and parameters: {'n_neighbors': 176, 'dim_reduction': 'pca', 'pca_solver': 'arpack', 'pca_components': 96, 'resolution': 0.8688749817653099, 'method': 'louvain', 'dist_metric': 'euclidean', 'louv_clustering_imp': 'vtraag', 'leid_clustering_imp': 'igraph'}. Best is trial 2 with value: 0.5162869816667686.\n",
      "[I 2025-09-11 19:33:21,738] Trial 14 finished with value: 0.47455823250114126 and parameters: {'n_neighbors': 13, 'dim_reduction': 'pca', 'pca_solver': 'auto', 'pca_components': 49, 'resolution': 0.16504400438653954, 'method': 'louvain', 'dist_metric': 'euclidean', 'louv_clustering_imp': 'igraph', 'leid_clustering_imp': 'igraph'}. Best is trial 2 with value: 0.5162869816667686.\n",
      "[I 2025-09-11 19:33:26,832] Trial 12 finished with value: 0.487514443242759 and parameters: {'n_neighbors': 189, 'dim_reduction': 'pca', 'pca_solver': 'auto', 'pca_components': 98, 'resolution': 1.6845245321242266, 'method': 'leiden', 'dist_metric': 'euclidean', 'louv_clustering_imp': 'igraph', 'leid_clustering_imp': 'igraph'}. Best is trial 2 with value: 0.5162869816667686.\n",
      "[I 2025-09-11 19:33:31,213] Trial 15 finished with value: 0.4986463527901389 and parameters: {'n_neighbors': 63, 'dim_reduction': 'raw', 'pca_solver': 'auto', 'pca_components': 56, 'resolution': 1.203575918154998, 'method': 'louvain', 'dist_metric': 'euclidean', 'louv_clustering_imp': 'igraph', 'leid_clustering_imp': 'igraph'}. Best is trial 2 with value: 0.5162869816667686.\n"
     ]
    },
    {
     "name": "stderr",
     "output_type": "stream",
     "text": [
      "`resolution` parameter has no effect for flavor \"igraph\"\n"
     ]
    },
    {
     "name": "stdout",
     "output_type": "stream",
     "text": [
      "[I 2025-09-11 19:34:05,544] Trial 16 finished with value: 0.5076375144754756 and parameters: {'n_neighbors': 115, 'dim_reduction': 'raw', 'pca_solver': 'randomized', 'pca_components': 55, 'resolution': 0.2616839631078705, 'method': 'louvain', 'dist_metric': 'euclidean', 'louv_clustering_imp': 'igraph', 'leid_clustering_imp': 'igraph'}. Best is trial 2 with value: 0.5162869816667686.\n",
      "[I 2025-09-11 19:35:04,437] Trial 19 finished with value: 0.5168488181452883 and parameters: {'n_neighbors': 131, 'dim_reduction': 'raw', 'pca_solver': 'randomized', 'pca_components': 62, 'resolution': 1.176351762048585, 'method': 'louvain', 'dist_metric': 'euclidean', 'louv_clustering_imp': 'vtraag', 'leid_clustering_imp': 'leidenalg'}. Best is trial 19 with value: 0.5168488181452883.\n",
      "[I 2025-09-11 19:35:04,589] Trial 18 finished with value: 0.5087809709933446 and parameters: {'n_neighbors': 140, 'dim_reduction': 'raw', 'pca_solver': 'randomized', 'pca_components': 99, 'resolution': 1.1493783009536922, 'method': 'louvain', 'dist_metric': 'euclidean', 'louv_clustering_imp': 'vtraag', 'leid_clustering_imp': 'leidenalg'}. Best is trial 19 with value: 0.5168488181452883.\n",
      "[I 2025-09-11 19:35:05,704] Trial 17 finished with value: 0.512264571515002 and parameters: {'n_neighbors': 139, 'dim_reduction': 'raw', 'pca_solver': 'randomized', 'pca_components': 61, 'resolution': 1.1815223150560055, 'method': 'louvain', 'dist_metric': 'euclidean', 'louv_clustering_imp': 'vtraag', 'leid_clustering_imp': 'leidenalg'}. Best is trial 19 with value: 0.5168488181452883.\n",
      "[I 2025-09-11 19:35:06,572] Trial 20 finished with value: 0.5095403822463144 and parameters: {'n_neighbors': 146, 'dim_reduction': 'raw', 'pca_solver': 'randomized', 'pca_components': 62, 'resolution': 0.4030052359533024, 'method': 'louvain', 'dist_metric': 'euclidean', 'louv_clustering_imp': 'vtraag', 'leid_clustering_imp': 'leidenalg'}. Best is trial 19 with value: 0.5168488181452883.\n",
      "[I 2025-09-11 19:35:36,325] Trial 21 finished with value: 0.5161779705395764 and parameters: {'n_neighbors': 158, 'dim_reduction': 'raw', 'pca_solver': 'randomized', 'pca_components': 62, 'resolution': 0.4376143844927928, 'method': 'louvain', 'dist_metric': 'euclidean', 'louv_clustering_imp': 'vtraag', 'leid_clustering_imp': 'leidenalg'}. Best is trial 19 with value: 0.5168488181452883.\n",
      "[I 2025-09-11 19:36:27,841] Trial 24 finished with value: 0.4912987715023468 and parameters: {'n_neighbors': 110, 'dim_reduction': 'raw', 'pca_solver': 'randomized', 'pca_components': 64, 'resolution': 1.9534724252394353, 'method': 'louvain', 'dist_metric': 'euclidean', 'louv_clustering_imp': 'vtraag', 'leid_clustering_imp': 'leidenalg'}. Best is trial 19 with value: 0.5168488181452883.\n",
      "[I 2025-09-11 19:36:33,873] Trial 23 finished with value: 0.515670889879727 and parameters: {'n_neighbors': 114, 'dim_reduction': 'raw', 'pca_solver': 'randomized', 'pca_components': 66, 'resolution': 0.4210556860408142, 'method': 'louvain', 'dist_metric': 'euclidean', 'louv_clustering_imp': 'vtraag', 'leid_clustering_imp': 'leidenalg'}. Best is trial 19 with value: 0.5168488181452883.\n",
      "[I 2025-09-11 19:36:33,981] Trial 22 finished with value: 0.5140504880053776 and parameters: {'n_neighbors': 116, 'dim_reduction': 'raw', 'pca_solver': 'randomized', 'pca_components': 67, 'resolution': 1.1786712721845098, 'method': 'louvain', 'dist_metric': 'euclidean', 'louv_clustering_imp': 'vtraag', 'leid_clustering_imp': 'leidenalg'}. Best is trial 19 with value: 0.5168488181452883.\n",
      "[I 2025-09-11 19:36:46,708] Trial 25 finished with value: 0.5085457557585862 and parameters: {'n_neighbors': 115, 'dim_reduction': 'raw', 'pca_solver': 'randomized', 'pca_components': 69, 'resolution': 1.3016961181013915, 'method': 'louvain', 'dist_metric': 'euclidean', 'louv_clustering_imp': 'vtraag', 'leid_clustering_imp': 'leidenalg'}. Best is trial 19 with value: 0.5168488181452883.\n",
      "[I 2025-09-11 19:36:55,458] Trial 26 finished with value: 0.49317915664869494 and parameters: {'n_neighbors': 114, 'dim_reduction': 'raw', 'pca_solver': 'randomized', 'pca_components': 42, 'resolution': 1.3508311518327596, 'method': 'louvain', 'dist_metric': 'euclidean', 'louv_clustering_imp': 'vtraag', 'leid_clustering_imp': 'leidenalg'}. Best is trial 19 with value: 0.5168488181452883.\n",
      "[I 2025-09-11 19:38:32,398] Trial 27 finished with value: 0.5126246084489946 and parameters: {'n_neighbors': 163, 'dim_reduction': 'raw', 'pca_solver': 'randomized', 'pca_components': 39, 'resolution': 0.4022657735932683, 'method': 'louvain', 'dist_metric': 'euclidean', 'louv_clustering_imp': 'vtraag', 'leid_clustering_imp': 'leidenalg'}. Best is trial 19 with value: 0.5168488181452883.\n",
      "[I 2025-09-11 19:38:40,643] Trial 30 finished with value: 0.5028325945148524 and parameters: {'n_neighbors': 166, 'dim_reduction': 'raw', 'pca_solver': 'randomized', 'pca_components': 39, 'resolution': 0.7150266789779915, 'method': 'louvain', 'dist_metric': 'euclidean', 'louv_clustering_imp': 'vtraag', 'leid_clustering_imp': 'leidenalg'}. Best is trial 19 with value: 0.5168488181452883.\n",
      "[I 2025-09-11 19:38:41,449] Trial 29 finished with value: 0.5051661839746143 and parameters: {'n_neighbors': 165, 'dim_reduction': 'raw', 'pca_solver': 'randomized', 'pca_components': 47, 'resolution': 1.352815683008211, 'method': 'louvain', 'dist_metric': 'euclidean', 'louv_clustering_imp': 'vtraag', 'leid_clustering_imp': 'leidenalg'}. Best is trial 19 with value: 0.5168488181452883.\n",
      "[I 2025-09-11 19:38:46,694] Trial 28 finished with value: 0.49680100865307436 and parameters: {'n_neighbors': 169, 'dim_reduction': 'raw', 'pca_solver': 'randomized', 'pca_components': 44, 'resolution': 1.3168397116719115, 'method': 'louvain', 'dist_metric': 'euclidean', 'louv_clustering_imp': 'vtraag', 'leid_clustering_imp': 'leidenalg'}. Best is trial 19 with value: 0.5168488181452883.\n",
      "[I 2025-09-11 19:38:46,831] Trial 31 finished with value: 0.5025409136483612 and parameters: {'n_neighbors': 161, 'dim_reduction': 'raw', 'pca_solver': 'randomized', 'pca_components': 48, 'resolution': 0.6752257993069647, 'method': 'louvain', 'dist_metric': 'euclidean', 'louv_clustering_imp': 'vtraag', 'leid_clustering_imp': 'leidenalg'}. Best is trial 19 with value: 0.5168488181452883.\n",
      "[I 2025-09-11 19:40:24,576] Trial 32 finished with value: 0.5070361481336906 and parameters: {'n_neighbors': 168, 'dim_reduction': 'raw', 'pca_solver': 'randomized', 'pca_components': 48, 'resolution': 0.7231065477768485, 'method': 'louvain', 'dist_metric': 'euclidean', 'louv_clustering_imp': 'vtraag', 'leid_clustering_imp': 'leidenalg'}. Best is trial 19 with value: 0.5168488181452883.\n",
      "[I 2025-09-11 19:40:25,011] Trial 34 finished with value: 0.5091617927396873 and parameters: {'n_neighbors': 129, 'dim_reduction': 'raw', 'pca_solver': 'randomized', 'pca_components': 74, 'resolution': 0.9931151486733092, 'method': 'louvain', 'dist_metric': 'euclidean', 'louv_clustering_imp': 'vtraag', 'leid_clustering_imp': 'leidenalg'}. Best is trial 19 with value: 0.5168488181452883.\n",
      "[I 2025-09-11 19:40:27,530] Trial 33 finished with value: 0.5122656495258625 and parameters: {'n_neighbors': 127, 'dim_reduction': 'raw', 'pca_solver': 'randomized', 'pca_components': 48, 'resolution': 0.9566425908241708, 'method': 'louvain', 'dist_metric': 'euclidean', 'louv_clustering_imp': 'vtraag', 'leid_clustering_imp': 'leidenalg'}. Best is trial 19 with value: 0.5168488181452883.\n",
      "[I 2025-09-11 19:40:30,094] Trial 36 finished with value: 0.5077876834461741 and parameters: {'n_neighbors': 129, 'dim_reduction': 'raw', 'pca_solver': 'randomized', 'pca_components': 72, 'resolution': 0.3667470178698555, 'method': 'louvain', 'dist_metric': 'euclidean', 'louv_clustering_imp': 'vtraag', 'leid_clustering_imp': 'leidenalg'}. Best is trial 19 with value: 0.5168488181452883.\n",
      "[I 2025-09-11 19:40:30,863] Trial 35 finished with value: 0.5161146478066095 and parameters: {'n_neighbors': 131, 'dim_reduction': 'raw', 'pca_solver': 'randomized', 'pca_components': 71, 'resolution': 0.38319408311397, 'method': 'louvain', 'dist_metric': 'euclidean', 'louv_clustering_imp': 'vtraag', 'leid_clustering_imp': 'leidenalg'}. Best is trial 19 with value: 0.5168488181452883.\n",
      "[I 2025-09-11 19:40:36,592] Trial 41 finished with value: -1.0 and parameters: {'n_neighbors': 89, 'dim_reduction': 'raw', 'pca_solver': 'arpack', 'pca_components': 81, 'resolution': 0.10577259580929216, 'method': 'leiden', 'dist_metric': 'cosine', 'louv_clustering_imp': 'vtraag', 'leid_clustering_imp': 'leidenalg'}. Best is trial 19 with value: 0.5168488181452883.\n",
      "[I 2025-09-11 19:41:21,262] Trial 38 finished with value: 0.49302283225503385 and parameters: {'n_neighbors': 78, 'dim_reduction': 'raw', 'pca_solver': 'randomized', 'pca_components': 70, 'resolution': 0.3618245463513714, 'method': 'leiden', 'dist_metric': 'euclidean', 'louv_clustering_imp': 'vtraag', 'leid_clustering_imp': 'leidenalg'}. Best is trial 19 with value: 0.5168488181452883.\n",
      "[I 2025-09-11 19:41:51,670] Trial 43 finished with value: -1.0 and parameters: {'n_neighbors': 181, 'dim_reduction': 'raw', 'pca_solver': 'arpack', 'pca_components': 90, 'resolution': 0.5385582735529226, 'method': 'louvain', 'dist_metric': 'cosine', 'louv_clustering_imp': 'vtraag', 'leid_clustering_imp': 'leidenalg'}. Best is trial 19 with value: 0.5168488181452883.\n",
      "[I 2025-09-11 19:41:59,812] Trial 39 finished with value: 0.49049443160458706 and parameters: {'n_neighbors': 98, 'dim_reduction': 'raw', 'pca_solver': 'randomized', 'pca_components': 70, 'resolution': 0.3720058276887029, 'method': 'leiden', 'dist_metric': 'euclidean', 'louv_clustering_imp': 'vtraag', 'leid_clustering_imp': 'leidenalg'}. Best is trial 19 with value: 0.5168488181452883.\n",
      "[I 2025-09-11 19:42:23,632] Trial 40 finished with value: 0.4738962786709331 and parameters: {'n_neighbors': 91, 'dim_reduction': 'raw', 'pca_solver': 'randomized', 'pca_components': 55, 'resolution': 0.5498292413746068, 'method': 'leiden', 'dist_metric': 'euclidean', 'louv_clustering_imp': 'vtraag', 'leid_clustering_imp': 'leidenalg'}. Best is trial 19 with value: 0.5168488181452883.\n",
      "[I 2025-09-11 19:42:24,938] Trial 37 finished with value: 0.5157836443657798 and parameters: {'n_neighbors': 128, 'dim_reduction': 'raw', 'pca_solver': 'randomized', 'pca_components': 72, 'resolution': 0.35485125335319095, 'method': 'louvain', 'dist_metric': 'euclidean', 'louv_clustering_imp': 'vtraag', 'leid_clustering_imp': 'leidenalg'}. Best is trial 19 with value: 0.5168488181452883.\n",
      "[I 2025-09-11 19:42:34,575] Trial 42 finished with value: 0.49208504950583504 and parameters: {'n_neighbors': 181, 'dim_reduction': 'raw', 'pca_solver': 'randomized', 'pca_components': 90, 'resolution': 0.526673201832174, 'method': 'leiden', 'dist_metric': 'euclidean', 'louv_clustering_imp': 'vtraag', 'leid_clustering_imp': 'leidenalg'}. Best is trial 19 with value: 0.5168488181452883.\n",
      "[I 2025-09-11 19:42:39,717] Trial 48 finished with value: -1.0 and parameters: {'n_neighbors': 134, 'dim_reduction': 'raw', 'pca_solver': 'randomized', 'pca_components': 77, 'resolution': 0.28766887685106923, 'method': 'louvain', 'dist_metric': 'cosine', 'louv_clustering_imp': 'vtraag', 'leid_clustering_imp': 'leidenalg'}. Best is trial 19 with value: 0.5168488181452883.\n",
      "[I 2025-09-11 19:42:59,569] Trial 44 finished with value: 0.4957165641097449 and parameters: {'n_neighbors': 99, 'dim_reduction': 'raw', 'pca_solver': 'randomized', 'pca_components': 60, 'resolution': 0.5760560084119286, 'method': 'louvain', 'dist_metric': 'euclidean', 'louv_clustering_imp': 'vtraag', 'leid_clustering_imp': 'leidenalg'}. Best is trial 19 with value: 0.5168488181452883.\n"
     ]
    },
    {
     "name": "stderr",
     "output_type": "stream",
     "text": [
      "`resolution` parameter has no effect for flavor \"igraph\"\n"
     ]
    },
    {
     "name": "stdout",
     "output_type": "stream",
     "text": [
      "[I 2025-09-11 19:44:22,892] Trial 45 finished with value: 0.5064362946910761 and parameters: {'n_neighbors': 127, 'dim_reduction': 'raw', 'pca_solver': 'randomized', 'pca_components': 58, 'resolution': 0.5127346643194762, 'method': 'louvain', 'dist_metric': 'euclidean', 'louv_clustering_imp': 'vtraag', 'leid_clustering_imp': 'leidenalg'}. Best is trial 19 with value: 0.5168488181452883.\n",
      "[I 2025-09-11 19:44:25,799] Trial 46 finished with value: 0.5100748158163738 and parameters: {'n_neighbors': 199, 'dim_reduction': 'raw', 'pca_solver': 'randomized', 'pca_components': 58, 'resolution': 0.47299019266384423, 'method': 'louvain', 'dist_metric': 'euclidean', 'louv_clustering_imp': 'vtraag', 'leid_clustering_imp': 'leidenalg'}. Best is trial 19 with value: 0.5168488181452883.\n",
      "[I 2025-09-11 19:44:30,263] Trial 47 finished with value: 0.5193532231214614 and parameters: {'n_neighbors': 196, 'dim_reduction': 'raw', 'pca_solver': 'randomized', 'pca_components': 59, 'resolution': 0.24148158357824911, 'method': 'louvain', 'dist_metric': 'euclidean', 'louv_clustering_imp': 'vtraag', 'leid_clustering_imp': 'leidenalg'}. Best is trial 47 with value: 0.5193532231214614.\n",
      "[I 2025-09-11 19:44:35,577] Trial 49 finished with value: 0.5052965410025918 and parameters: {'n_neighbors': 154, 'dim_reduction': 'raw', 'pca_solver': 'arpack', 'pca_components': 59, 'resolution': 0.7883704360924373, 'method': 'louvain', 'dist_metric': 'euclidean', 'louv_clustering_imp': 'vtraag', 'leid_clustering_imp': 'leidenalg'}. Best is trial 47 with value: 0.5193532231214614.\n",
      "[I 2025-09-11 19:44:38,750] Trial 50 finished with value: 0.5099084581162838 and parameters: {'n_neighbors': 152, 'dim_reduction': 'raw', 'pca_solver': 'arpack', 'pca_components': 83, 'resolution': 0.8281936429162762, 'method': 'louvain', 'dist_metric': 'euclidean', 'louv_clustering_imp': 'igraph', 'leid_clustering_imp': 'leidenalg'}. Best is trial 47 with value: 0.5193532231214614.\n"
     ]
    },
    {
     "name": "stderr",
     "output_type": "stream",
     "text": [
      "`resolution` parameter has no effect for flavor \"igraph\"\n"
     ]
    },
    {
     "name": "stdout",
     "output_type": "stream",
     "text": [
      "[I 2025-09-11 19:44:51,826] Trial 52 finished with value: -1.0 and parameters: {'n_neighbors': 152, 'dim_reduction': 'pca', 'pca_solver': 'arpack', 'pca_components': 84, 'resolution': 0.26723382264351636, 'method': 'louvain', 'dist_metric': 'cosine', 'louv_clustering_imp': 'igraph', 'leid_clustering_imp': 'igraph'}. Best is trial 47 with value: 0.5193532231214614.\n"
     ]
    },
    {
     "name": "stderr",
     "output_type": "stream",
     "text": [
      "`resolution` parameter has no effect for flavor \"igraph\"\n"
     ]
    },
    {
     "name": "stdout",
     "output_type": "stream",
     "text": [
      "[I 2025-09-11 19:44:56,392] Trial 54 finished with value: -1.0 and parameters: {'n_neighbors': 200, 'dim_reduction': 'pca', 'pca_solver': 'auto', 'pca_components': 85, 'resolution': 0.23260684428189124, 'method': 'louvain', 'dist_metric': 'cosine', 'louv_clustering_imp': 'igraph', 'leid_clustering_imp': 'igraph'}. Best is trial 47 with value: 0.5193532231214614.\n"
     ]
    },
    {
     "name": "stderr",
     "output_type": "stream",
     "text": [
      "`resolution` parameter has no effect for flavor \"igraph\"\n"
     ]
    },
    {
     "name": "stdout",
     "output_type": "stream",
     "text": [
      "[I 2025-09-11 19:45:00,579] Trial 53 finished with value: -1.0 and parameters: {'n_neighbors': 155, 'dim_reduction': 'pca', 'pca_solver': 'arpack', 'pca_components': 84, 'resolution': 0.8358907785333507, 'method': 'louvain', 'dist_metric': 'cosine', 'louv_clustering_imp': 'igraph', 'leid_clustering_imp': 'igraph'}. Best is trial 47 with value: 0.5193532231214614.\n"
     ]
    },
    {
     "name": "stderr",
     "output_type": "stream",
     "text": [
      "`resolution` parameter has no effect for flavor \"igraph\"\n"
     ]
    },
    {
     "name": "stdout",
     "output_type": "stream",
     "text": [
      "[I 2025-09-11 19:45:44,000] Trial 51 finished with value: 0.4949571804165428 and parameters: {'n_neighbors': 154, 'dim_reduction': 'pca', 'pca_solver': 'arpack', 'pca_components': 83, 'resolution': 0.849441957546779, 'method': 'louvain', 'dist_metric': 'euclidean', 'louv_clustering_imp': 'igraph', 'leid_clustering_imp': 'leidenalg'}. Best is trial 47 with value: 0.5193532231214614.\n",
      "[I 2025-09-11 19:46:21,298] Trial 55 finished with value: 0.4971122241641983 and parameters: {'n_neighbors': 186, 'dim_reduction': 'pca', 'pca_solver': 'auto', 'pca_components': 75, 'resolution': 0.21396828963784575, 'method': 'louvain', 'dist_metric': 'euclidean', 'louv_clustering_imp': 'vtraag', 'leid_clustering_imp': 'igraph'}. Best is trial 47 with value: 0.5193532231214614.\n",
      "[I 2025-09-11 19:46:46,182] Trial 56 finished with value: 0.5227365421986392 and parameters: {'n_neighbors': 193, 'dim_reduction': 'raw', 'pca_solver': 'auto', 'pca_components': 75, 'resolution': 0.19641679441049398, 'method': 'louvain', 'dist_metric': 'euclidean', 'louv_clustering_imp': 'vtraag', 'leid_clustering_imp': 'leidenalg'}. Best is trial 56 with value: 0.5227365421986392.\n",
      "[I 2025-09-11 19:46:48,610] Trial 57 finished with value: 0.5007945641293493 and parameters: {'n_neighbors': 186, 'dim_reduction': 'raw', 'pca_solver': 'randomized', 'pca_components': 52, 'resolution': 0.16493107690584474, 'method': 'louvain', 'dist_metric': 'euclidean', 'louv_clustering_imp': 'vtraag', 'leid_clustering_imp': 'leidenalg'}. Best is trial 56 with value: 0.5227365421986392.\n",
      "[I 2025-09-11 19:46:53,757] Trial 58 finished with value: 0.5127112591637007 and parameters: {'n_neighbors': 191, 'dim_reduction': 'raw', 'pca_solver': 'randomized', 'pca_components': 52, 'resolution': 0.15683721303581583, 'method': 'louvain', 'dist_metric': 'euclidean', 'louv_clustering_imp': 'vtraag', 'leid_clustering_imp': 'leidenalg'}. Best is trial 56 with value: 0.5227365421986392.\n",
      "[I 2025-09-11 19:47:25,613] Trial 59 finished with value: 0.5125355758143362 and parameters: {'n_neighbors': 188, 'dim_reduction': 'raw', 'pca_solver': 'randomized', 'pca_components': 53, 'resolution': 0.19088171801890202, 'method': 'louvain', 'dist_metric': 'euclidean', 'louv_clustering_imp': 'vtraag', 'leid_clustering_imp': 'leidenalg'}. Best is trial 56 with value: 0.5227365421986392.\n",
      "[I 2025-09-11 19:47:53,367] Trial 60 finished with value: 0.49637289294499853 and parameters: {'n_neighbors': 175, 'dim_reduction': 'raw', 'pca_solver': 'randomized', 'pca_components': 29, 'resolution': 1.5363808444215978, 'method': 'louvain', 'dist_metric': 'euclidean', 'louv_clustering_imp': 'vtraag', 'leid_clustering_imp': 'leidenalg'}. Best is trial 56 with value: 0.5227365421986392.\n",
      "[I 2025-09-11 19:48:41,703] Trial 62 finished with value: 0.5062971593588665 and parameters: {'n_neighbors': 175, 'dim_reduction': 'raw', 'pca_solver': 'auto', 'pca_components': 65, 'resolution': 0.6235878279296503, 'method': 'louvain', 'dist_metric': 'euclidean', 'louv_clustering_imp': 'vtraag', 'leid_clustering_imp': 'leidenalg'}. Best is trial 56 with value: 0.5227365421986392.\n",
      "[I 2025-09-11 19:48:43,312] Trial 61 finished with value: 0.501293496170131 and parameters: {'n_neighbors': 192, 'dim_reduction': 'raw', 'pca_solver': 'auto', 'pca_components': 64, 'resolution': 0.17771409694788604, 'method': 'louvain', 'dist_metric': 'euclidean', 'louv_clustering_imp': 'vtraag', 'leid_clustering_imp': 'leidenalg'}. Best is trial 56 with value: 0.5227365421986392.\n",
      "[I 2025-09-11 19:49:01,388] Trial 63 finished with value: 0.5083286965704794 and parameters: {'n_neighbors': 175, 'dim_reduction': 'raw', 'pca_solver': 'auto', 'pca_components': 65, 'resolution': 0.3053669200397487, 'method': 'louvain', 'dist_metric': 'euclidean', 'louv_clustering_imp': 'vtraag', 'leid_clustering_imp': 'leidenalg'}. Best is trial 56 with value: 0.5227365421986392.\n",
      "[I 2025-09-11 19:49:08,991] Trial 64 finished with value: 0.5012297346640856 and parameters: {'n_neighbors': 173, 'dim_reduction': 'raw', 'pca_solver': 'auto', 'pca_components': 65, 'resolution': 1.5421381870629858, 'method': 'louvain', 'dist_metric': 'euclidean', 'louv_clustering_imp': 'vtraag', 'leid_clustering_imp': 'leidenalg'}. Best is trial 56 with value: 0.5227365421986392.\n",
      "[I 2025-09-11 19:49:31,266] Trial 65 finished with value: 0.5173592281910758 and parameters: {'n_neighbors': 142, 'dim_reduction': 'raw', 'pca_solver': 'auto', 'pca_components': 65, 'resolution': 0.4655070522322372, 'method': 'louvain', 'dist_metric': 'euclidean', 'louv_clustering_imp': 'vtraag', 'leid_clustering_imp': 'leidenalg'}. Best is trial 56 with value: 0.5227365421986392.\n",
      "[I 2025-09-11 19:50:06,182] Trial 66 finished with value: 0.5162935117144205 and parameters: {'n_neighbors': 138, 'dim_reduction': 'raw', 'pca_solver': 'auto', 'pca_components': 63, 'resolution': 0.3174283353129278, 'method': 'louvain', 'dist_metric': 'euclidean', 'louv_clustering_imp': 'vtraag', 'leid_clustering_imp': 'leidenalg'}. Best is trial 56 with value: 0.5227365421986392.\n",
      "[I 2025-09-11 19:50:32,650] Trial 67 finished with value: 0.5150938131594478 and parameters: {'n_neighbors': 142, 'dim_reduction': 'raw', 'pca_solver': 'auto', 'pca_components': 68, 'resolution': 0.30246448559444306, 'method': 'louvain', 'dist_metric': 'euclidean', 'louv_clustering_imp': 'vtraag', 'leid_clustering_imp': 'leidenalg'}. Best is trial 56 with value: 0.5227365421986392.\n",
      "[I 2025-09-11 19:50:37,448] Trial 68 finished with value: 0.5173592281910758 and parameters: {'n_neighbors': 142, 'dim_reduction': 'raw', 'pca_solver': 'auto', 'pca_components': 73, 'resolution': 0.450608368687164, 'method': 'louvain', 'dist_metric': 'euclidean', 'louv_clustering_imp': 'vtraag', 'leid_clustering_imp': 'leidenalg'}. Best is trial 56 with value: 0.5227365421986392.\n",
      "[I 2025-09-11 19:50:51,189] Trial 69 finished with value: 0.5156316249357101 and parameters: {'n_neighbors': 146, 'dim_reduction': 'raw', 'pca_solver': 'randomized', 'pca_components': 80, 'resolution': 0.4649472269556594, 'method': 'louvain', 'dist_metric': 'euclidean', 'louv_clustering_imp': 'vtraag', 'leid_clustering_imp': 'leidenalg'}. Best is trial 56 with value: 0.5227365421986392.\n",
      "[I 2025-09-11 19:50:56,661] Trial 70 finished with value: 0.5173592281910758 and parameters: {'n_neighbors': 142, 'dim_reduction': 'raw', 'pca_solver': 'auto', 'pca_components': 62, 'resolution': 0.4609880754796594, 'method': 'louvain', 'dist_metric': 'euclidean', 'louv_clustering_imp': 'vtraag', 'leid_clustering_imp': 'leidenalg'}. Best is trial 56 with value: 0.5227365421986392.\n",
      "[I 2025-09-11 19:51:13,019] Trial 72 finished with value: 0.4874446074547279 and parameters: {'n_neighbors': 52, 'dim_reduction': 'raw', 'pca_solver': 'auto', 'pca_components': 79, 'resolution': 0.4559327109453915, 'method': 'louvain', 'dist_metric': 'euclidean', 'louv_clustering_imp': 'vtraag', 'leid_clustering_imp': 'leidenalg'}. Best is trial 56 with value: 0.5227365421986392.\n",
      "[I 2025-09-11 19:51:26,852] Trial 74 finished with value: 0.5101568507626455 and parameters: {'n_neighbors': 46, 'dim_reduction': 'raw', 'pca_solver': 'auto', 'pca_components': 74, 'resolution': 0.11363727849178959, 'method': 'louvain', 'dist_metric': 'euclidean', 'louv_clustering_imp': 'vtraag', 'leid_clustering_imp': 'leidenalg'}. Best is trial 56 with value: 0.5227365421986392.\n",
      "[I 2025-09-11 19:51:42,176] Trial 71 finished with value: 0.5201548875125241 and parameters: {'n_neighbors': 140, 'dim_reduction': 'raw', 'pca_solver': 'auto', 'pca_components': 62, 'resolution': 0.4533977295499445, 'method': 'louvain', 'dist_metric': 'euclidean', 'louv_clustering_imp': 'vtraag', 'leid_clustering_imp': 'leidenalg'}. Best is trial 56 with value: 0.5227365421986392.\n",
      "[I 2025-09-11 19:51:48,237] Trial 73 finished with value: 0.5068146026949804 and parameters: {'n_neighbors': 121, 'dim_reduction': 'raw', 'pca_solver': 'auto', 'pca_components': 79, 'resolution': 1.097941791594077, 'method': 'louvain', 'dist_metric': 'euclidean', 'louv_clustering_imp': 'vtraag', 'leid_clustering_imp': 'leidenalg'}. Best is trial 56 with value: 0.5227365421986392.\n",
      "[I 2025-09-11 19:52:06,811] Trial 75 finished with value: 0.5021902895407464 and parameters: {'n_neighbors': 121, 'dim_reduction': 'raw', 'pca_solver': 'auto', 'pca_components': 77, 'resolution': 1.0801751349329878, 'method': 'louvain', 'dist_metric': 'euclidean', 'louv_clustering_imp': 'vtraag', 'leid_clustering_imp': 'leidenalg'}. Best is trial 56 with value: 0.5227365421986392.\n",
      "[I 2025-09-11 19:52:33,691] Trial 76 finished with value: 0.5068146026949804 and parameters: {'n_neighbors': 121, 'dim_reduction': 'raw', 'pca_solver': 'auto', 'pca_components': 75, 'resolution': 1.1003793826984791, 'method': 'louvain', 'dist_metric': 'euclidean', 'louv_clustering_imp': 'vtraag', 'leid_clustering_imp': 'leidenalg'}. Best is trial 56 with value: 0.5227365421986392.\n",
      "[I 2025-09-11 19:52:53,445] Trial 77 finished with value: 0.5036805258572052 and parameters: {'n_neighbors': 137, 'dim_reduction': 'raw', 'pca_solver': 'auto', 'pca_components': 61, 'resolution': 1.2548689779558746, 'method': 'louvain', 'dist_metric': 'euclidean', 'louv_clustering_imp': 'vtraag', 'leid_clustering_imp': 'leidenalg'}. Best is trial 56 with value: 0.5227365421986392.\n",
      "[I 2025-09-11 19:53:08,210] Trial 78 finished with value: 0.5079434779160747 and parameters: {'n_neighbors': 122, 'dim_reduction': 'raw', 'pca_solver': 'auto', 'pca_components': 62, 'resolution': 1.1147080180031232, 'method': 'louvain', 'dist_metric': 'euclidean', 'louv_clustering_imp': 'vtraag', 'leid_clustering_imp': 'leidenalg'}. Best is trial 56 with value: 0.5227365421986392.\n",
      "[I 2025-09-11 19:53:09,579] Trial 79 finished with value: 0.5015281012909238 and parameters: {'n_neighbors': 146, 'dim_reduction': 'raw', 'pca_solver': 'auto', 'pca_components': 62, 'resolution': 0.23623026848096432, 'method': 'louvain', 'dist_metric': 'euclidean', 'louv_clustering_imp': 'vtraag', 'leid_clustering_imp': 'leidenalg'}. Best is trial 56 with value: 0.5227365421986392.\n",
      "[I 2025-09-11 19:53:36,687] Trial 80 finished with value: 0.5213638378092561 and parameters: {'n_neighbors': 135, 'dim_reduction': 'raw', 'pca_solver': 'auto', 'pca_components': 61, 'resolution': 0.30650733935585117, 'method': 'louvain', 'dist_metric': 'euclidean', 'louv_clustering_imp': 'vtraag', 'leid_clustering_imp': 'leidenalg'}. Best is trial 56 with value: 0.5227365421986392.\n",
      "[I 2025-09-11 19:53:45,182] Trial 84 finished with value: 0.35425992390013655 and parameters: {'n_neighbors': 6, 'dim_reduction': 'raw', 'pca_solver': 'auto', 'pca_components': 56, 'resolution': 0.331859886829107, 'method': 'louvain', 'dist_metric': 'euclidean', 'louv_clustering_imp': 'vtraag', 'leid_clustering_imp': 'leidenalg'}. Best is trial 56 with value: 0.5227365421986392.\n",
      "[I 2025-09-11 19:53:51,777] Trial 81 finished with value: 0.5114496197765247 and parameters: {'n_neighbors': 138, 'dim_reduction': 'raw', 'pca_solver': 'auto', 'pca_components': 61, 'resolution': 1.236598319659253, 'method': 'louvain', 'dist_metric': 'euclidean', 'louv_clustering_imp': 'vtraag', 'leid_clustering_imp': 'leidenalg'}. Best is trial 56 with value: 0.5227365421986392.\n",
      "[I 2025-09-11 19:55:12,222] Trial 82 finished with value: 0.492321787378508 and parameters: {'n_neighbors': 146, 'dim_reduction': 'raw', 'pca_solver': 'auto', 'pca_components': 68, 'resolution': 0.6708244470588937, 'method': 'leiden', 'dist_metric': 'euclidean', 'louv_clustering_imp': 'vtraag', 'leid_clustering_imp': 'leidenalg'}. Best is trial 56 with value: 0.5227365421986392.\n",
      "[I 2025-09-11 19:56:01,536] Trial 85 finished with value: 0.5021630133585148 and parameters: {'n_neighbors': 136, 'dim_reduction': 'raw', 'pca_solver': 'auto', 'pca_components': 56, 'resolution': 0.41631791499614457, 'method': 'louvain', 'dist_metric': 'euclidean', 'louv_clustering_imp': 'vtraag', 'leid_clustering_imp': 'leidenalg'}. Best is trial 56 with value: 0.5227365421986392.\n",
      "[I 2025-09-11 19:56:06,550] Trial 83 finished with value: 0.4948057100940048 and parameters: {'n_neighbors': 145, 'dim_reduction': 'raw', 'pca_solver': 'auto', 'pca_components': 56, 'resolution': 0.646798799295309, 'method': 'leiden', 'dist_metric': 'euclidean', 'louv_clustering_imp': 'vtraag', 'leid_clustering_imp': 'leidenalg'}. Best is trial 56 with value: 0.5227365421986392.\n",
      "[I 2025-09-11 19:56:16,171] Trial 86 finished with value: 0.48806438103225164 and parameters: {'n_neighbors': 108, 'dim_reduction': 'raw', 'pca_solver': 'auto', 'pca_components': 68, 'resolution': 0.6250920292835097, 'method': 'leiden', 'dist_metric': 'euclidean', 'louv_clustering_imp': 'vtraag', 'leid_clustering_imp': 'leidenalg'}. Best is trial 56 with value: 0.5227365421986392.\n",
      "[I 2025-09-11 19:56:18,243] Trial 87 finished with value: 0.4896575722122875 and parameters: {'n_neighbors': 104, 'dim_reduction': 'raw', 'pca_solver': 'auto', 'pca_components': 68, 'resolution': 0.6152309560626099, 'method': 'leiden', 'dist_metric': 'euclidean', 'louv_clustering_imp': 'vtraag', 'leid_clustering_imp': 'leidenalg'}. Best is trial 56 with value: 0.5227365421986392.\n",
      "[I 2025-09-11 19:56:25,054] Trial 88 finished with value: 0.5130812091139362 and parameters: {'n_neighbors': 110, 'dim_reduction': 'raw', 'pca_solver': 'auto', 'pca_components': 67, 'resolution': 0.41702512796757674, 'method': 'louvain', 'dist_metric': 'euclidean', 'louv_clustering_imp': 'vtraag', 'leid_clustering_imp': 'leidenalg'}. Best is trial 56 with value: 0.5227365421986392.\n",
      "[I 2025-09-11 19:57:07,362] Trial 89 finished with value: 0.5153530972438904 and parameters: {'n_neighbors': 104, 'dim_reduction': 'raw', 'pca_solver': 'auto', 'pca_components': 68, 'resolution': 0.5047927570337079, 'method': 'louvain', 'dist_metric': 'euclidean', 'louv_clustering_imp': 'vtraag', 'leid_clustering_imp': 'leidenalg'}. Best is trial 56 with value: 0.5227365421986392.\n",
      "[I 2025-09-11 19:57:46,954] Trial 91 finished with value: 0.5121806392877766 and parameters: {'n_neighbors': 107, 'dim_reduction': 'raw', 'pca_solver': 'auto', 'pca_components': 72, 'resolution': 0.3189715816030094, 'method': 'louvain', 'dist_metric': 'euclidean', 'louv_clustering_imp': 'vtraag', 'leid_clustering_imp': 'leidenalg'}. Best is trial 56 with value: 0.5227365421986392.\n",
      "[I 2025-09-11 19:57:50,201] Trial 90 finished with value: 0.5099642505142022 and parameters: {'n_neighbors': 132, 'dim_reduction': 'raw', 'pca_solver': 'auto', 'pca_components': 67, 'resolution': 0.5043940558252428, 'method': 'louvain', 'dist_metric': 'euclidean', 'louv_clustering_imp': 'vtraag', 'leid_clustering_imp': 'leidenalg'}. Best is trial 56 with value: 0.5227365421986392.\n",
      "[I 2025-09-11 19:57:53,597] Trial 92 finished with value: 0.5237995240646663 and parameters: {'n_neighbors': 160, 'dim_reduction': 'raw', 'pca_solver': 'auto', 'pca_components': 72, 'resolution': 0.49419107936389967, 'method': 'louvain', 'dist_metric': 'euclidean', 'louv_clustering_imp': 'vtraag', 'leid_clustering_imp': 'leidenalg'}. Best is trial 92 with value: 0.5237995240646663.\n",
      "[I 2025-09-11 19:57:54,990] Trial 93 finished with value: 0.5192680213275732 and parameters: {'n_neighbors': 131, 'dim_reduction': 'raw', 'pca_solver': 'auto', 'pca_components': 50, 'resolution': 0.4995361594410139, 'method': 'louvain', 'dist_metric': 'euclidean', 'louv_clustering_imp': 'vtraag', 'leid_clustering_imp': 'leidenalg'}. Best is trial 92 with value: 0.5237995240646663.\n",
      "[I 2025-09-11 19:58:31,893] Trial 94 finished with value: 0.5179381009176917 and parameters: {'n_neighbors': 132, 'dim_reduction': 'raw', 'pca_solver': 'auto', 'pca_components': 72, 'resolution': 0.3194930053984349, 'method': 'louvain', 'dist_metric': 'euclidean', 'louv_clustering_imp': 'vtraag', 'leid_clustering_imp': 'igraph'}. Best is trial 92 with value: 0.5237995240646663.\n",
      "[I 2025-09-11 19:59:32,326] Trial 95 finished with value: 0.5191527781678505 and parameters: {'n_neighbors': 161, 'dim_reduction': 'raw', 'pca_solver': 'auto', 'pca_components': 59, 'resolution': 0.5745742590662978, 'method': 'louvain', 'dist_metric': 'euclidean', 'louv_clustering_imp': 'vtraag', 'leid_clustering_imp': 'leidenalg'}. Best is trial 92 with value: 0.5237995240646663.\n",
      "[I 2025-09-11 19:59:32,733] Trial 97 finished with value: 0.49796001990440125 and parameters: {'n_neighbors': 141, 'dim_reduction': 'raw', 'pca_solver': 'auto', 'pca_components': 59, 'resolution': 0.25998354584518807, 'method': 'louvain', 'dist_metric': 'euclidean', 'louv_clustering_imp': 'vtraag', 'leid_clustering_imp': 'leidenalg'}. Best is trial 92 with value: 0.5237995240646663.\n",
      "[I 2025-09-11 19:59:34,763] Trial 96 finished with value: 0.5104261068220686 and parameters: {'n_neighbors': 160, 'dim_reduction': 'raw', 'pca_solver': 'auto', 'pca_components': 63, 'resolution': 0.9612702673702544, 'method': 'louvain', 'dist_metric': 'euclidean', 'louv_clustering_imp': 'vtraag', 'leid_clustering_imp': 'leidenalg'}. Best is trial 92 with value: 0.5237995240646663.\n",
      "[I 2025-09-11 19:59:51,555] Trial 98 finished with value: 0.5128458480857336 and parameters: {'n_neighbors': 141, 'dim_reduction': 'raw', 'pca_solver': 'auto', 'pca_components': 59, 'resolution': 0.5841277794243456, 'method': 'louvain', 'dist_metric': 'euclidean', 'louv_clustering_imp': 'vtraag', 'leid_clustering_imp': 'igraph'}. Best is trial 92 with value: 0.5237995240646663.\n"
     ]
    },
    {
     "name": "stderr",
     "output_type": "stream",
     "text": [
      "`resolution` parameter has no effect for flavor \"igraph\"\n"
     ]
    },
    {
     "name": "stdout",
     "output_type": "stream",
     "text": [
      "[I 2025-09-11 19:59:56,142] Trial 101 finished with value: -1.0 and parameters: {'n_neighbors': 159, 'dim_reduction': 'raw', 'pca_solver': 'auto', 'pca_components': 50, 'resolution': 0.5714008992979998, 'method': 'louvain', 'dist_metric': 'cosine', 'louv_clustering_imp': 'igraph', 'leid_clustering_imp': 'igraph'}. Best is trial 92 with value: 0.5237995240646663.\n"
     ]
    },
    {
     "name": "stderr",
     "output_type": "stream",
     "text": [
      "`resolution` parameter has no effect for flavor \"igraph\"\n"
     ]
    },
    {
     "name": "stdout",
     "output_type": "stream",
     "text": [
      "[I 2025-09-11 20:00:01,080] Trial 102 finished with value: -1.0 and parameters: {'n_neighbors': 180, 'dim_reduction': 'raw', 'pca_solver': 'auto', 'pca_components': 50, 'resolution': 0.5743480410457402, 'method': 'louvain', 'dist_metric': 'cosine', 'louv_clustering_imp': 'igraph', 'leid_clustering_imp': 'igraph'}. Best is trial 92 with value: 0.5237995240646663.\n"
     ]
    },
    {
     "name": "stderr",
     "output_type": "stream",
     "text": [
      "`resolution` parameter has no effect for flavor \"igraph\"\n"
     ]
    },
    {
     "name": "stdout",
     "output_type": "stream",
     "text": [
      "[I 2025-09-11 20:00:07,145] Trial 103 finished with value: -1.0 and parameters: {'n_neighbors': 181, 'dim_reduction': 'pca', 'pca_solver': 'auto', 'pca_components': 45, 'resolution': 0.7323964949609963, 'method': 'louvain', 'dist_metric': 'cosine', 'louv_clustering_imp': 'igraph', 'leid_clustering_imp': 'igraph'}. Best is trial 92 with value: 0.5237995240646663.\n",
      "[I 2025-09-11 20:00:08,368] Trial 99 finished with value: 0.5198143987358433 and parameters: {'n_neighbors': 162, 'dim_reduction': 'raw', 'pca_solver': 'auto', 'pca_components': 71, 'resolution': 0.5635587077961162, 'method': 'louvain', 'dist_metric': 'euclidean', 'louv_clustering_imp': 'vtraag', 'leid_clustering_imp': 'igraph'}. Best is trial 92 with value: 0.5237995240646663.\n",
      "[I 2025-09-11 20:00:57,757] Trial 100 finished with value: 0.5179261777448978 and parameters: {'n_neighbors': 161, 'dim_reduction': 'raw', 'pca_solver': 'auto', 'pca_components': 59, 'resolution': 0.5769065028931142, 'method': 'louvain', 'dist_metric': 'euclidean', 'louv_clustering_imp': 'vtraag', 'leid_clustering_imp': 'igraph'}. Best is trial 92 with value: 0.5237995240646663.\n",
      "[I 2025-09-11 20:01:18,897] Trial 104 finished with value: 0.5063971456981577 and parameters: {'n_neighbors': 150, 'dim_reduction': 'pca', 'pca_solver': 'auto', 'pca_components': 44, 'resolution': 0.7276002190328932, 'method': 'louvain', 'dist_metric': 'euclidean', 'louv_clustering_imp': 'vtraag', 'leid_clustering_imp': 'igraph'}. Best is trial 92 with value: 0.5237995240646663.\n",
      "[I 2025-09-11 20:01:50,568] Trial 106 finished with value: 0.5086003877020226 and parameters: {'n_neighbors': 169, 'dim_reduction': 'raw', 'pca_solver': 'auto', 'pca_components': 53, 'resolution': 0.47496777803031126, 'method': 'louvain', 'dist_metric': 'euclidean', 'louv_clustering_imp': 'vtraag', 'leid_clustering_imp': 'igraph'}. Best is trial 92 with value: 0.5237995240646663.\n",
      "[I 2025-09-11 20:01:54,134] Trial 105 finished with value: 0.5140048579238672 and parameters: {'n_neighbors': 150, 'dim_reduction': 'raw', 'pca_solver': 'auto', 'pca_components': 71, 'resolution': 0.47495943609295754, 'method': 'louvain', 'dist_metric': 'euclidean', 'louv_clustering_imp': 'vtraag', 'leid_clustering_imp': 'igraph'}. Best is trial 92 with value: 0.5237995240646663.\n",
      "[I 2025-09-11 20:01:54,756] Trial 107 finished with value: 0.5246589254966799 and parameters: {'n_neighbors': 170, 'dim_reduction': 'raw', 'pca_solver': 'auto', 'pca_components': 72, 'resolution': 0.3817797793542913, 'method': 'louvain', 'dist_metric': 'euclidean', 'louv_clustering_imp': 'vtraag', 'leid_clustering_imp': 'igraph'}. Best is trial 107 with value: 0.5246589254966799.\n",
      "[I 2025-09-11 20:02:25,939] Trial 108 finished with value: 0.5246589254966799 and parameters: {'n_neighbors': 170, 'dim_reduction': 'raw', 'pca_solver': 'auto', 'pca_components': 70, 'resolution': 0.35996316478389156, 'method': 'louvain', 'dist_metric': 'euclidean', 'louv_clustering_imp': 'vtraag', 'leid_clustering_imp': 'igraph'}. Best is trial 107 with value: 0.5246589254966799.\n",
      "[I 2025-09-11 20:03:09,915] Trial 109 finished with value: 0.5160512347224754 and parameters: {'n_neighbors': 168, 'dim_reduction': 'raw', 'pca_solver': 'auto', 'pca_components': 71, 'resolution': 0.3515428914445955, 'method': 'louvain', 'dist_metric': 'euclidean', 'louv_clustering_imp': 'vtraag', 'leid_clustering_imp': 'igraph'}. Best is trial 107 with value: 0.5246589254966799.\n",
      "[I 2025-09-11 20:03:49,318] Trial 110 finished with value: 0.5037288047135501 and parameters: {'n_neighbors': 163, 'dim_reduction': 'raw', 'pca_solver': 'auto', 'pca_components': 57, 'resolution': 0.388853502491496, 'method': 'louvain', 'dist_metric': 'euclidean', 'louv_clustering_imp': 'vtraag', 'leid_clustering_imp': 'igraph'}. Best is trial 107 with value: 0.5246589254966799.\n",
      "[I 2025-09-11 20:04:01,863] Trial 112 finished with value: 0.5203888847416402 and parameters: {'n_neighbors': 194, 'dim_reduction': 'raw', 'pca_solver': 'auto', 'pca_components': 10, 'resolution': 0.3553446370622725, 'method': 'louvain', 'dist_metric': 'euclidean', 'louv_clustering_imp': 'vtraag', 'leid_clustering_imp': 'igraph'}. Best is trial 107 with value: 0.5246589254966799.\n",
      "[I 2025-09-11 20:04:06,178] Trial 111 finished with value: 0.5246589254966799 and parameters: {'n_neighbors': 170, 'dim_reduction': 'raw', 'pca_solver': 'auto', 'pca_components': 58, 'resolution': 0.3894433501604412, 'method': 'louvain', 'dist_metric': 'euclidean', 'louv_clustering_imp': 'vtraag', 'leid_clustering_imp': 'igraph'}. Best is trial 107 with value: 0.5246589254966799.\n",
      "[I 2025-09-11 20:04:12,824] Trial 113 finished with value: 0.5078347597053384 and parameters: {'n_neighbors': 165, 'dim_reduction': 'raw', 'pca_solver': 'auto', 'pca_components': 70, 'resolution': 0.37859806961560716, 'method': 'louvain', 'dist_metric': 'euclidean', 'louv_clustering_imp': 'vtraag', 'leid_clustering_imp': 'igraph'}. Best is trial 107 with value: 0.5246589254966799.\n",
      "[I 2025-09-11 20:04:45,548] Trial 114 finished with value: 0.5054043835627188 and parameters: {'n_neighbors': 156, 'dim_reduction': 'raw', 'pca_solver': 'auto', 'pca_components': 87, 'resolution': 0.3847612284769689, 'method': 'louvain', 'dist_metric': 'euclidean', 'louv_clustering_imp': 'vtraag', 'leid_clustering_imp': 'igraph'}. Best is trial 107 with value: 0.5246589254966799.\n",
      "[I 2025-09-11 20:06:18,679] Trial 116 finished with value: 0.5136115068870006 and parameters: {'n_neighbors': 195, 'dim_reduction': 'raw', 'pca_solver': 'auto', 'pca_components': 34, 'resolution': 0.27203841519492017, 'method': 'louvain', 'dist_metric': 'euclidean', 'louv_clustering_imp': 'vtraag', 'leid_clustering_imp': 'igraph'}. Best is trial 107 with value: 0.5246589254966799.\n",
      "[I 2025-09-11 20:06:21,534] Trial 115 finished with value: 0.5188175707839661 and parameters: {'n_neighbors': 197, 'dim_reduction': 'raw', 'pca_solver': 'auto', 'pca_components': 54, 'resolution': 0.26326060134778995, 'method': 'louvain', 'dist_metric': 'euclidean', 'louv_clustering_imp': 'vtraag', 'leid_clustering_imp': 'igraph'}. Best is trial 107 with value: 0.5246589254966799.\n",
      "[I 2025-09-11 20:06:21,900] Trial 117 finished with value: 0.5271509379173148 and parameters: {'n_neighbors': 198, 'dim_reduction': 'raw', 'pca_solver': 'auto', 'pca_components': 28, 'resolution': 0.26168660890390505, 'method': 'louvain', 'dist_metric': 'euclidean', 'louv_clustering_imp': 'vtraag', 'leid_clustering_imp': 'igraph'}. Best is trial 117 with value: 0.5271509379173148.\n",
      "[I 2025-09-11 20:06:30,110] Trial 118 finished with value: 0.5252448202474107 and parameters: {'n_neighbors': 194, 'dim_reduction': 'raw', 'pca_solver': 'auto', 'pca_components': 18, 'resolution': 0.2482318126062369, 'method': 'louvain', 'dist_metric': 'euclidean', 'louv_clustering_imp': 'vtraag', 'leid_clustering_imp': 'igraph'}. Best is trial 117 with value: 0.5271509379173148.\n",
      "[I 2025-09-11 20:06:33,269] Trial 119 finished with value: 0.5192027061359887 and parameters: {'n_neighbors': 196, 'dim_reduction': 'raw', 'pca_solver': 'auto', 'pca_components': 23, 'resolution': 0.22785167376231152, 'method': 'louvain', 'dist_metric': 'euclidean', 'louv_clustering_imp': 'vtraag', 'leid_clustering_imp': 'igraph'}. Best is trial 117 with value: 0.5271509379173148.\n",
      "[I 2025-09-11 20:08:30,818] Trial 120 finished with value: 0.5128202980205238 and parameters: {'n_neighbors': 171, 'dim_reduction': 'raw', 'pca_solver': 'auto', 'pca_components': 30, 'resolution': 0.14451735938247245, 'method': 'louvain', 'dist_metric': 'euclidean', 'louv_clustering_imp': 'vtraag', 'leid_clustering_imp': 'igraph'}. Best is trial 117 with value: 0.5271509379173148.\n",
      "[I 2025-09-11 20:08:36,807] Trial 122 finished with value: 0.5249259136303517 and parameters: {'n_neighbors': 194, 'dim_reduction': 'raw', 'pca_solver': 'auto', 'pca_components': 13, 'resolution': 0.2178761562935983, 'method': 'louvain', 'dist_metric': 'euclidean', 'louv_clustering_imp': 'vtraag', 'leid_clustering_imp': 'igraph'}. Best is trial 117 with value: 0.5271509379173148.\n",
      "[I 2025-09-11 20:08:40,237] Trial 121 finished with value: 0.5073980838871436 and parameters: {'n_neighbors': 183, 'dim_reduction': 'raw', 'pca_solver': 'auto', 'pca_components': 14, 'resolution': 0.4166860826782312, 'method': 'louvain', 'dist_metric': 'euclidean', 'louv_clustering_imp': 'vtraag', 'leid_clustering_imp': 'igraph'}. Best is trial 117 with value: 0.5271509379173148.\n",
      "[I 2025-09-11 20:08:42,639] Trial 123 finished with value: 0.506228106512139 and parameters: {'n_neighbors': 194, 'dim_reduction': 'raw', 'pca_solver': 'auto', 'pca_components': 15, 'resolution': 0.1388254447435878, 'method': 'louvain', 'dist_metric': 'euclidean', 'louv_clustering_imp': 'vtraag', 'leid_clustering_imp': 'igraph'}. Best is trial 117 with value: 0.5271509379173148.\n",
      "[I 2025-09-11 20:08:47,157] Trial 124 finished with value: 0.5220676895588984 and parameters: {'n_neighbors': 190, 'dim_reduction': 'raw', 'pca_solver': 'auto', 'pca_components': 23, 'resolution': 0.13416282918884365, 'method': 'louvain', 'dist_metric': 'euclidean', 'louv_clustering_imp': 'vtraag', 'leid_clustering_imp': 'igraph'}. Best is trial 117 with value: 0.5271509379173148.\n",
      "[I 2025-09-11 20:10:41,932] Trial 125 finished with value: 0.5273295167693011 and parameters: {'n_neighbors': 190, 'dim_reduction': 'raw', 'pca_solver': 'auto', 'pca_components': 15, 'resolution': 0.18633190941870395, 'method': 'louvain', 'dist_metric': 'euclidean', 'louv_clustering_imp': 'vtraag', 'leid_clustering_imp': 'igraph'}. Best is trial 125 with value: 0.5273295167693011.\n",
      "[I 2025-09-11 20:10:46,327] Trial 127 finished with value: 0.5273295167693011 and parameters: {'n_neighbors': 190, 'dim_reduction': 'raw', 'pca_solver': 'auto', 'pca_components': 10, 'resolution': 0.187571033885131, 'method': 'louvain', 'dist_metric': 'euclidean', 'louv_clustering_imp': 'vtraag', 'leid_clustering_imp': 'igraph'}. Best is trial 125 with value: 0.5273295167693011.\n",
      "[I 2025-09-11 20:10:48,955] Trial 126 finished with value: 0.5311526562335768 and parameters: {'n_neighbors': 184, 'dim_reduction': 'raw', 'pca_solver': 'auto', 'pca_components': 13, 'resolution': 0.1994547093704515, 'method': 'louvain', 'dist_metric': 'euclidean', 'louv_clustering_imp': 'vtraag', 'leid_clustering_imp': 'igraph'}. Best is trial 126 with value: 0.5311526562335768.\n",
      "[I 2025-09-11 20:10:54,542] Trial 128 finished with value: 0.5273295167693011 and parameters: {'n_neighbors': 190, 'dim_reduction': 'raw', 'pca_solver': 'auto', 'pca_components': 10, 'resolution': 0.18655157271739028, 'method': 'louvain', 'dist_metric': 'euclidean', 'louv_clustering_imp': 'vtraag', 'leid_clustering_imp': 'igraph'}. Best is trial 126 with value: 0.5311526562335768.\n",
      "[I 2025-09-11 20:10:55,600] Trial 129 finished with value: 0.5277472187443492 and parameters: {'n_neighbors': 189, 'dim_reduction': 'raw', 'pca_solver': 'auto', 'pca_components': 11, 'resolution': 0.18321406307858243, 'method': 'louvain', 'dist_metric': 'euclidean', 'louv_clustering_imp': 'vtraag', 'leid_clustering_imp': 'igraph'}. Best is trial 126 with value: 0.5311526562335768.\n",
      "[I 2025-09-11 20:13:04,755] Trial 131 finished with value: 0.5171179213766749 and parameters: {'n_neighbors': 190, 'dim_reduction': 'raw', 'pca_solver': 'auto', 'pca_components': 10, 'resolution': 0.2039106973439811, 'method': 'louvain', 'dist_metric': 'euclidean', 'louv_clustering_imp': 'vtraag', 'leid_clustering_imp': 'igraph'}. Best is trial 126 with value: 0.5311526562335768.\n",
      "[I 2025-09-11 20:13:06,056] Trial 130 finished with value: 0.5125355758143362 and parameters: {'n_neighbors': 188, 'dim_reduction': 'raw', 'pca_solver': 'auto', 'pca_components': 11, 'resolution': 0.18761560228637417, 'method': 'louvain', 'dist_metric': 'euclidean', 'louv_clustering_imp': 'vtraag', 'leid_clustering_imp': 'igraph'}. Best is trial 126 with value: 0.5311526562335768.\n",
      "[I 2025-09-11 20:13:12,876] Trial 133 finished with value: 0.5125355758143362 and parameters: {'n_neighbors': 188, 'dim_reduction': 'raw', 'pca_solver': 'auto', 'pca_components': 21, 'resolution': 0.1920116217755437, 'method': 'louvain', 'dist_metric': 'euclidean', 'louv_clustering_imp': 'vtraag', 'leid_clustering_imp': 'igraph'}. Best is trial 126 with value: 0.5311526562335768.\n",
      "[I 2025-09-11 20:13:14,676] Trial 132 finished with value: 0.5195477245512337 and parameters: {'n_neighbors': 187, 'dim_reduction': 'raw', 'pca_solver': 'auto', 'pca_components': 22, 'resolution': 0.19531092052958482, 'method': 'louvain', 'dist_metric': 'euclidean', 'louv_clustering_imp': 'vtraag', 'leid_clustering_imp': 'igraph'}. Best is trial 126 with value: 0.5311526562335768.\n",
      "[I 2025-09-11 20:13:20,028] Trial 134 finished with value: 0.5195477245512337 and parameters: {'n_neighbors': 187, 'dim_reduction': 'raw', 'pca_solver': 'auto', 'pca_components': 18, 'resolution': 0.19834125877290132, 'method': 'louvain', 'dist_metric': 'euclidean', 'louv_clustering_imp': 'vtraag', 'leid_clustering_imp': 'igraph'}. Best is trial 126 with value: 0.5311526562335768.\n",
      "[I 2025-09-11 20:15:18,197] Trial 136 finished with value: 0.5167753793209743 and parameters: {'n_neighbors': 177, 'dim_reduction': 'raw', 'pca_solver': 'auto', 'pca_components': 20, 'resolution': 0.12442683388567372, 'method': 'louvain', 'dist_metric': 'euclidean', 'louv_clustering_imp': 'vtraag', 'leid_clustering_imp': 'igraph'}. Best is trial 126 with value: 0.5311526562335768.\n",
      "[I 2025-09-11 20:15:20,946] Trial 135 finished with value: 0.5195477245512337 and parameters: {'n_neighbors': 187, 'dim_reduction': 'raw', 'pca_solver': 'auto', 'pca_components': 20, 'resolution': 0.1878025067544724, 'method': 'louvain', 'dist_metric': 'euclidean', 'louv_clustering_imp': 'vtraag', 'leid_clustering_imp': 'igraph'}. Best is trial 126 with value: 0.5311526562335768.\n",
      "[I 2025-09-11 20:15:21,495] Trial 138 finished with value: 0.5450384826304095 and parameters: {'n_neighbors': 182, 'dim_reduction': 'raw', 'pca_solver': 'auto', 'pca_components': 19, 'resolution': 0.1062851281629889, 'method': 'louvain', 'dist_metric': 'euclidean', 'louv_clustering_imp': 'vtraag', 'leid_clustering_imp': 'igraph'}. Best is trial 138 with value: 0.5450384826304095.\n",
      "[I 2025-09-11 20:15:22,204] Trial 137 finished with value: 0.5191351102055484 and parameters: {'n_neighbors': 178, 'dim_reduction': 'raw', 'pca_solver': 'auto', 'pca_components': 19, 'resolution': 0.11987411937543867, 'method': 'louvain', 'dist_metric': 'euclidean', 'louv_clustering_imp': 'vtraag', 'leid_clustering_imp': 'igraph'}. Best is trial 138 with value: 0.5450384826304095.\n",
      "[I 2025-09-11 20:15:32,611] Trial 139 finished with value: 0.5191351102055484 and parameters: {'n_neighbors': 178, 'dim_reduction': 'raw', 'pca_solver': 'arpack', 'pca_components': 14, 'resolution': 0.1259817143917253, 'method': 'louvain', 'dist_metric': 'euclidean', 'louv_clustering_imp': 'vtraag', 'leid_clustering_imp': 'igraph'}. Best is trial 138 with value: 0.5450384826304095.\n",
      "[I 2025-09-11 20:16:31,986] Trial 143 finished with value: 0.5232932897619624 and parameters: {'n_neighbors': 199, 'dim_reduction': 'pca', 'pca_solver': 'arpack', 'pca_components': 15, 'resolution': 0.10373518008755558, 'method': 'louvain', 'dist_metric': 'euclidean', 'louv_clustering_imp': 'vtraag', 'leid_clustering_imp': 'igraph'}. Best is trial 138 with value: 0.5450384826304095.\n",
      "[I 2025-09-11 20:17:26,474] Trial 144 finished with value: 0.527171045481021 and parameters: {'n_neighbors': 200, 'dim_reduction': 'pca', 'pca_solver': 'auto', 'pca_components': 12, 'resolution': 0.28298603859259563, 'method': 'louvain', 'dist_metric': 'euclidean', 'louv_clustering_imp': 'vtraag', 'leid_clustering_imp': 'igraph'}. Best is trial 138 with value: 0.5450384826304095.\n",
      "[I 2025-09-11 20:17:37,352] Trial 142 finished with value: 0.5191351102055484 and parameters: {'n_neighbors': 178, 'dim_reduction': 'raw', 'pca_solver': 'arpack', 'pca_components': 13, 'resolution': 0.11095116634289902, 'method': 'louvain', 'dist_metric': 'euclidean', 'louv_clustering_imp': 'vtraag', 'leid_clustering_imp': 'igraph'}. Best is trial 138 with value: 0.5450384826304095.\n",
      "[I 2025-09-11 20:17:39,190] Trial 140 finished with value: 0.5232932897619624 and parameters: {'n_neighbors': 199, 'dim_reduction': 'raw', 'pca_solver': 'auto', 'pca_components': 13, 'resolution': 0.1081617502225273, 'method': 'louvain', 'dist_metric': 'euclidean', 'louv_clustering_imp': 'vtraag', 'leid_clustering_imp': 'igraph'}. Best is trial 138 with value: 0.5450384826304095.\n",
      "[I 2025-09-11 20:17:42,808] Trial 141 finished with value: 0.5232932897619624 and parameters: {'n_neighbors': 199, 'dim_reduction': 'raw', 'pca_solver': 'arpack', 'pca_components': 13, 'resolution': 0.11636068571915631, 'method': 'louvain', 'dist_metric': 'euclidean', 'louv_clustering_imp': 'vtraag', 'leid_clustering_imp': 'igraph'}. Best is trial 138 with value: 0.5450384826304095.\n",
      "[I 2025-09-11 20:18:18,156] Trial 145 finished with value: 0.5269853849559947 and parameters: {'n_neighbors': 199, 'dim_reduction': 'pca', 'pca_solver': 'arpack', 'pca_components': 16, 'resolution': 0.23934226611911585, 'method': 'louvain', 'dist_metric': 'euclidean', 'louv_clustering_imp': 'vtraag', 'leid_clustering_imp': 'igraph'}. Best is trial 138 with value: 0.5450384826304095.\n",
      "[I 2025-09-11 20:19:26,237] Trial 146 finished with value: 0.5269853849559947 and parameters: {'n_neighbors': 199, 'dim_reduction': 'pca', 'pca_solver': 'arpack', 'pca_components': 16, 'resolution': 0.2413358452944857, 'method': 'louvain', 'dist_metric': 'euclidean', 'louv_clustering_imp': 'vtraag', 'leid_clustering_imp': 'igraph'}. Best is trial 138 with value: 0.5450384826304095.\n",
      "[I 2025-09-11 20:19:48,053] Trial 148 finished with value: 0.5270184297015224 and parameters: {'n_neighbors': 200, 'dim_reduction': 'pca', 'pca_solver': 'auto', 'pca_components': 12, 'resolution': 0.23488427864844721, 'method': 'louvain', 'dist_metric': 'euclidean', 'louv_clustering_imp': 'vtraag', 'leid_clustering_imp': 'igraph'}. Best is trial 138 with value: 0.5450384826304095.\n",
      "[I 2025-09-11 20:19:51,500] Trial 147 finished with value: 0.5269853849559947 and parameters: {'n_neighbors': 199, 'dim_reduction': 'pca', 'pca_solver': 'arpack', 'pca_components': 16, 'resolution': 0.24804138972147882, 'method': 'louvain', 'dist_metric': 'euclidean', 'louv_clustering_imp': 'vtraag', 'leid_clustering_imp': 'igraph'}. Best is trial 138 with value: 0.5450384826304095.\n",
      "[I 2025-09-11 20:19:59,237] Trial 149 finished with value: 0.5169240510798172 and parameters: {'n_neighbors': 183, 'dim_reduction': 'pca', 'pca_solver': 'auto', 'pca_components': 17, 'resolution': 0.2856043320538456, 'method': 'louvain', 'dist_metric': 'euclidean', 'louv_clustering_imp': 'vtraag', 'leid_clustering_imp': 'igraph'}. Best is trial 138 with value: 0.5450384826304095.\n",
      "[I 2025-09-11 20:20:03,174] Trial 150 finished with value: 0.5023742278605605 and parameters: {'n_neighbors': 183, 'dim_reduction': 'pca', 'pca_solver': 'arpack', 'pca_components': 16, 'resolution': 0.2448093006368145, 'method': 'louvain', 'dist_metric': 'euclidean', 'louv_clustering_imp': 'vtraag', 'leid_clustering_imp': 'igraph'}. Best is trial 138 with value: 0.5450384826304095.\n",
      "[I 2025-09-11 20:20:43,862] Trial 151 finished with value: 0.4883166086116 and parameters: {'n_neighbors': 183, 'dim_reduction': 'pca', 'pca_solver': 'arpack', 'pca_components': 17, 'resolution': 0.24108476171439294, 'method': 'leiden', 'dist_metric': 'euclidean', 'louv_clustering_imp': 'vtraag', 'leid_clustering_imp': 'igraph'}. Best is trial 138 with value: 0.5450384826304095.\n",
      "[I 2025-09-11 20:21:27,184] Trial 152 finished with value: 0.48837227920303755 and parameters: {'n_neighbors': 192, 'dim_reduction': 'pca', 'pca_solver': 'arpack', 'pca_components': 17, 'resolution': 0.25062819000128517, 'method': 'leiden', 'dist_metric': 'euclidean', 'louv_clustering_imp': 'vtraag', 'leid_clustering_imp': 'igraph'}. Best is trial 138 with value: 0.5450384826304095.\n",
      "[I 2025-09-11 20:21:30,045] Trial 153 finished with value: 0.4886214812431016 and parameters: {'n_neighbors': 184, 'dim_reduction': 'pca', 'pca_solver': 'arpack', 'pca_components': 17, 'resolution': 0.2416648381409181, 'method': 'leiden', 'dist_metric': 'euclidean', 'louv_clustering_imp': 'vtraag', 'leid_clustering_imp': 'igraph'}. Best is trial 138 with value: 0.5450384826304095.\n",
      "[I 2025-09-11 20:21:34,490] Trial 154 finished with value: 0.49077203769719596 and parameters: {'n_neighbors': 192, 'dim_reduction': 'pca', 'pca_solver': 'arpack', 'pca_components': 16, 'resolution': 0.2320368446087048, 'method': 'leiden', 'dist_metric': 'euclidean', 'louv_clustering_imp': 'vtraag', 'leid_clustering_imp': 'igraph'}. Best is trial 138 with value: 0.5450384826304095.\n",
      "[I 2025-09-11 20:21:40,742] Trial 155 finished with value: 0.5174566065926454 and parameters: {'n_neighbors': 192, 'dim_reduction': 'pca', 'pca_solver': 'arpack', 'pca_components': 12, 'resolution': 0.2316484687472064, 'method': 'louvain', 'dist_metric': 'euclidean', 'louv_clustering_imp': 'vtraag', 'leid_clustering_imp': 'igraph'}. Best is trial 138 with value: 0.5450384826304095.\n",
      "[I 2025-09-11 20:22:12,184] Trial 156 finished with value: 0.4958330202720166 and parameters: {'n_neighbors': 192, 'dim_reduction': 'pca', 'pca_solver': 'arpack', 'pca_components': 12, 'resolution': 0.16226567897774066, 'method': 'louvain', 'dist_metric': 'euclidean', 'louv_clustering_imp': 'vtraag', 'leid_clustering_imp': 'igraph'}. Best is trial 138 with value: 0.5450384826304095.\n",
      "[I 2025-09-11 20:23:26,951] Trial 158 finished with value: 0.5109232399500601 and parameters: {'n_neighbors': 193, 'dim_reduction': 'pca', 'pca_solver': 'arpack', 'pca_components': 12, 'resolution': 0.1614532307673387, 'method': 'louvain', 'dist_metric': 'euclidean', 'louv_clustering_imp': 'vtraag', 'leid_clustering_imp': 'igraph'}. Best is trial 138 with value: 0.5450384826304095.\n",
      "[I 2025-09-11 20:23:45,546] Trial 159 finished with value: 0.5261163532851301 and parameters: {'n_neighbors': 196, 'dim_reduction': 'pca', 'pca_solver': 'arpack', 'pca_components': 11, 'resolution': 0.1642709682949856, 'method': 'louvain', 'dist_metric': 'euclidean', 'louv_clustering_imp': 'vtraag', 'leid_clustering_imp': 'igraph'}. Best is trial 138 with value: 0.5450384826304095.\n",
      "[I 2025-09-11 20:23:46,249] Trial 157 finished with value: 0.527171045481021 and parameters: {'n_neighbors': 200, 'dim_reduction': 'pca', 'pca_solver': 'arpack', 'pca_components': 12, 'resolution': 0.2799950776969845, 'method': 'louvain', 'dist_metric': 'euclidean', 'louv_clustering_imp': 'vtraag', 'leid_clustering_imp': 'igraph'}. Best is trial 138 with value: 0.5450384826304095.\n"
     ]
    },
    {
     "name": "stderr",
     "output_type": "stream",
     "text": [
      "`resolution` parameter has no effect for flavor \"igraph\"\n"
     ]
    },
    {
     "name": "stdout",
     "output_type": "stream",
     "text": [
      "[I 2025-09-11 20:23:53,986] Trial 162 finished with value: -1.0 and parameters: {'n_neighbors': 197, 'dim_reduction': 'pca', 'pca_solver': 'arpack', 'pca_components': 11, 'resolution': 0.29280108808332517, 'method': 'louvain', 'dist_metric': 'cosine', 'louv_clustering_imp': 'igraph', 'leid_clustering_imp': 'igraph'}. Best is trial 138 with value: 0.5450384826304095.\n",
      "[I 2025-09-11 20:23:59,921] Trial 160 finished with value: 0.5235406430532232 and parameters: {'n_neighbors': 196, 'dim_reduction': 'pca', 'pca_solver': 'arpack', 'pca_components': 26, 'resolution': 0.2863049931057955, 'method': 'louvain', 'dist_metric': 'euclidean', 'louv_clustering_imp': 'vtraag', 'leid_clustering_imp': 'igraph'}. Best is trial 138 with value: 0.5450384826304095.\n"
     ]
    },
    {
     "name": "stderr",
     "output_type": "stream",
     "text": [
      "`resolution` parameter has no effect for flavor \"igraph\"\n"
     ]
    },
    {
     "name": "stdout",
     "output_type": "stream",
     "text": [
      "[I 2025-09-11 20:24:05,168] Trial 163 finished with value: -1.0 and parameters: {'n_neighbors': 200, 'dim_reduction': 'pca', 'pca_solver': 'arpack', 'pca_components': 26, 'resolution': 0.28795095960100553, 'method': 'louvain', 'dist_metric': 'cosine', 'louv_clustering_imp': 'igraph', 'leid_clustering_imp': 'igraph'}. Best is trial 138 with value: 0.5450384826304095.\n"
     ]
    },
    {
     "name": "stderr",
     "output_type": "stream",
     "text": [
      "`resolution` parameter has no effect for flavor \"igraph\"\n"
     ]
    },
    {
     "name": "stdout",
     "output_type": "stream",
     "text": [
      "[I 2025-09-11 20:24:10,850] Trial 164 finished with value: -1.0 and parameters: {'n_neighbors': 200, 'dim_reduction': 'pca', 'pca_solver': 'arpack', 'pca_components': 25, 'resolution': 0.28692421808082325, 'method': 'louvain', 'dist_metric': 'cosine', 'louv_clustering_imp': 'igraph', 'leid_clustering_imp': 'igraph'}. Best is trial 138 with value: 0.5450384826304095.\n",
      "[I 2025-09-11 20:24:10,930] Trial 161 finished with value: 0.5202510688121982 and parameters: {'n_neighbors': 200, 'dim_reduction': 'pca', 'pca_solver': 'arpack', 'pca_components': 26, 'resolution': 0.2991243996166103, 'method': 'louvain', 'dist_metric': 'euclidean', 'louv_clustering_imp': 'vtraag', 'leid_clustering_imp': 'igraph'}. Best is trial 138 with value: 0.5450384826304095.\n",
      "[I 2025-09-11 20:25:48,349] Trial 165 finished with value: 0.5188175707839661 and parameters: {'n_neighbors': 197, 'dim_reduction': 'pca', 'pca_solver': 'arpack', 'pca_components': 10, 'resolution': 0.2774451425377867, 'method': 'louvain', 'dist_metric': 'euclidean', 'louv_clustering_imp': 'vtraag', 'leid_clustering_imp': 'igraph'}. Best is trial 138 with value: 0.5450384826304095.\n",
      "[I 2025-09-11 20:25:57,764] Trial 167 finished with value: 0.5277662465777021 and parameters: {'n_neighbors': 200, 'dim_reduction': 'pca', 'pca_solver': 'arpack', 'pca_components': 10, 'resolution': 0.1840071984059205, 'method': 'louvain', 'dist_metric': 'euclidean', 'louv_clustering_imp': 'vtraag', 'leid_clustering_imp': 'igraph'}. Best is trial 138 with value: 0.5450384826304095.\n",
      "[I 2025-09-11 20:26:01,823] Trial 166 finished with value: 0.5277662465777021 and parameters: {'n_neighbors': 200, 'dim_reduction': 'pca', 'pca_solver': 'arpack', 'pca_components': 10, 'resolution': 0.17148936105858603, 'method': 'louvain', 'dist_metric': 'euclidean', 'louv_clustering_imp': 'vtraag', 'leid_clustering_imp': 'igraph'}. Best is trial 138 with value: 0.5450384826304095.\n",
      "[I 2025-09-11 20:26:04,999] Trial 169 finished with value: 0.5249259136303517 and parameters: {'n_neighbors': 194, 'dim_reduction': 'pca', 'pca_solver': 'arpack', 'pca_components': 10, 'resolution': 0.17479451486056233, 'method': 'louvain', 'dist_metric': 'euclidean', 'louv_clustering_imp': 'vtraag', 'leid_clustering_imp': 'igraph'}. Best is trial 138 with value: 0.5450384826304095.\n",
      "[I 2025-09-11 20:26:08,905] Trial 168 finished with value: 0.5060898490862473 and parameters: {'n_neighbors': 196, 'dim_reduction': 'pca', 'pca_solver': 'arpack', 'pca_components': 10, 'resolution': 0.20947873072152212, 'method': 'louvain', 'dist_metric': 'euclidean', 'louv_clustering_imp': 'vtraag', 'leid_clustering_imp': 'igraph'}. Best is trial 138 with value: 0.5450384826304095.\n",
      "[I 2025-09-11 20:27:48,162] Trial 170 finished with value: 0.5277472187443492 and parameters: {'n_neighbors': 189, 'dim_reduction': 'pca', 'pca_solver': 'arpack', 'pca_components': 14, 'resolution': 0.17521384151898278, 'method': 'louvain', 'dist_metric': 'euclidean', 'louv_clustering_imp': 'vtraag', 'leid_clustering_imp': 'igraph'}. Best is trial 138 with value: 0.5450384826304095.\n",
      "[I 2025-09-11 20:28:11,787] Trial 172 finished with value: 0.5191321825966013 and parameters: {'n_neighbors': 190, 'dim_reduction': 'pca', 'pca_solver': 'arpack', 'pca_components': 15, 'resolution': 0.1634917736062483, 'method': 'louvain', 'dist_metric': 'euclidean', 'louv_clustering_imp': 'vtraag', 'leid_clustering_imp': 'igraph'}. Best is trial 138 with value: 0.5450384826304095.\n",
      "[I 2025-09-11 20:28:13,946] Trial 171 finished with value: 0.5107412056236901 and parameters: {'n_neighbors': 195, 'dim_reduction': 'pca', 'pca_solver': 'arpack', 'pca_components': 15, 'resolution': 0.1750233462527488, 'method': 'louvain', 'dist_metric': 'euclidean', 'louv_clustering_imp': 'vtraag', 'leid_clustering_imp': 'igraph'}. Best is trial 138 with value: 0.5450384826304095.\n",
      "[I 2025-09-11 20:28:19,224] Trial 173 finished with value: 0.5163466544788411 and parameters: {'n_neighbors': 189, 'dim_reduction': 'pca', 'pca_solver': 'arpack', 'pca_components': 15, 'resolution': 0.16056289403941557, 'method': 'louvain', 'dist_metric': 'euclidean', 'louv_clustering_imp': 'vtraag', 'leid_clustering_imp': 'igraph'}. Best is trial 138 with value: 0.5450384826304095.\n",
      "[I 2025-09-11 20:28:22,075] Trial 174 finished with value: 0.5163466544788411 and parameters: {'n_neighbors': 189, 'dim_reduction': 'pca', 'pca_solver': 'arpack', 'pca_components': 15, 'resolution': 0.16124551913660032, 'method': 'louvain', 'dist_metric': 'euclidean', 'louv_clustering_imp': 'vtraag', 'leid_clustering_imp': 'igraph'}. Best is trial 138 with value: 0.5450384826304095.\n",
      "[I 2025-09-11 20:30:07,368] Trial 175 finished with value: 0.5191321825966013 and parameters: {'n_neighbors': 190, 'dim_reduction': 'pca', 'pca_solver': 'arpack', 'pca_components': 15, 'resolution': 0.1579948379897705, 'method': 'louvain', 'dist_metric': 'euclidean', 'louv_clustering_imp': 'vtraag', 'leid_clustering_imp': 'igraph'}. Best is trial 138 with value: 0.5450384826304095.\n",
      "[I 2025-09-11 20:30:11,376] Trial 176 finished with value: 0.5277662465777021 and parameters: {'n_neighbors': 200, 'dim_reduction': 'pca', 'pca_solver': 'arpack', 'pca_components': 14, 'resolution': 0.15771993871447085, 'method': 'louvain', 'dist_metric': 'euclidean', 'louv_clustering_imp': 'vtraag', 'leid_clustering_imp': 'igraph'}. Best is trial 138 with value: 0.5450384826304095.\n",
      "[I 2025-09-11 20:30:20,900] Trial 178 finished with value: 0.5170094817837454 and parameters: {'n_neighbors': 200, 'dim_reduction': 'pca', 'pca_solver': 'arpack', 'pca_components': 19, 'resolution': 0.21285852234852204, 'method': 'louvain', 'dist_metric': 'euclidean', 'louv_clustering_imp': 'vtraag', 'leid_clustering_imp': 'igraph'}. Best is trial 138 with value: 0.5450384826304095.\n",
      "[I 2025-09-11 20:30:24,934] Trial 179 finished with value: 0.5170094817837454 and parameters: {'n_neighbors': 200, 'dim_reduction': 'pca', 'pca_solver': 'arpack', 'pca_components': 12, 'resolution': 0.20330291351105317, 'method': 'louvain', 'dist_metric': 'euclidean', 'louv_clustering_imp': 'vtraag', 'leid_clustering_imp': 'igraph'}. Best is trial 138 with value: 0.5450384826304095.\n",
      "[I 2025-09-11 20:30:25,195] Trial 177 finished with value: 0.5277662465777021 and parameters: {'n_neighbors': 200, 'dim_reduction': 'pca', 'pca_solver': 'arpack', 'pca_components': 19, 'resolution': 0.15974811869340166, 'method': 'louvain', 'dist_metric': 'euclidean', 'louv_clustering_imp': 'vtraag', 'leid_clustering_imp': 'igraph'}. Best is trial 138 with value: 0.5450384826304095.\n",
      "[I 2025-09-11 20:32:12,277] Trial 180 finished with value: 0.5170094817837454 and parameters: {'n_neighbors': 200, 'dim_reduction': 'pca', 'pca_solver': 'arpack', 'pca_components': 19, 'resolution': 0.21462747030911394, 'method': 'louvain', 'dist_metric': 'euclidean', 'louv_clustering_imp': 'vtraag', 'leid_clustering_imp': 'igraph'}. Best is trial 138 with value: 0.5450384826304095.\n",
      "[I 2025-09-11 20:32:14,654] Trial 183 finished with value: 0.49794093443738535 and parameters: {'n_neighbors': 185, 'dim_reduction': 'pca', 'pca_solver': 'arpack', 'pca_components': 12, 'resolution': 1.902631874379265, 'method': 'louvain', 'dist_metric': 'euclidean', 'louv_clustering_imp': 'vtraag', 'leid_clustering_imp': 'igraph'}. Best is trial 138 with value: 0.5450384826304095.\n",
      "[I 2025-09-11 20:32:20,077] Trial 181 finished with value: 0.5170094817837454 and parameters: {'n_neighbors': 200, 'dim_reduction': 'pca', 'pca_solver': 'arpack', 'pca_components': 12, 'resolution': 0.20835257794413273, 'method': 'louvain', 'dist_metric': 'euclidean', 'louv_clustering_imp': 'vtraag', 'leid_clustering_imp': 'igraph'}. Best is trial 138 with value: 0.5450384826304095.\n",
      "[I 2025-09-11 20:32:20,100] Trial 182 finished with value: 0.4931899003324069 and parameters: {'n_neighbors': 185, 'dim_reduction': 'pca', 'pca_solver': 'arpack', 'pca_components': 10, 'resolution': 1.8186894907581135, 'method': 'louvain', 'dist_metric': 'euclidean', 'louv_clustering_imp': 'vtraag', 'leid_clustering_imp': 'igraph'}. Best is trial 138 with value: 0.5450384826304095.\n",
      "[I 2025-09-11 20:32:24,729] Trial 184 finished with value: 0.5245579144430635 and parameters: {'n_neighbors': 185, 'dim_reduction': 'pca', 'pca_solver': 'arpack', 'pca_components': 13, 'resolution': 0.32203942599697694, 'method': 'louvain', 'dist_metric': 'euclidean', 'louv_clustering_imp': 'vtraag', 'leid_clustering_imp': 'igraph'}. Best is trial 138 with value: 0.5450384826304095.\n",
      "[I 2025-09-11 20:33:48,817] Trial 185 finished with value: 0.5245579144430635 and parameters: {'n_neighbors': 185, 'dim_reduction': 'pca', 'pca_solver': 'arpack', 'pca_components': 13, 'resolution': 0.32472488251516196, 'method': 'louvain', 'dist_metric': 'euclidean', 'louv_clustering_imp': 'vtraag', 'leid_clustering_imp': 'igraph'}. Best is trial 138 with value: 0.5450384826304095.\n",
      "[I 2025-09-11 20:34:15,623] Trial 186 finished with value: 0.5235406430532232 and parameters: {'n_neighbors': 196, 'dim_reduction': 'pca', 'pca_solver': 'arpack', 'pca_components': 13, 'resolution': 0.33368414949423053, 'method': 'louvain', 'dist_metric': 'euclidean', 'louv_clustering_imp': 'vtraag', 'leid_clustering_imp': 'igraph'}. Best is trial 138 with value: 0.5450384826304095.\n",
      "[I 2025-09-11 20:34:27,372] Trial 188 finished with value: 0.5033365137469963 and parameters: {'n_neighbors': 196, 'dim_reduction': 'pca', 'pca_solver': 'arpack', 'pca_components': 13, 'resolution': 0.1461469470415452, 'method': 'louvain', 'dist_metric': 'euclidean', 'louv_clustering_imp': 'vtraag', 'leid_clustering_imp': 'igraph'}. Best is trial 138 with value: 0.5450384826304095.\n",
      "[I 2025-09-11 20:34:27,606] Trial 189 finished with value: 0.5033365137469963 and parameters: {'n_neighbors': 196, 'dim_reduction': 'pca', 'pca_solver': 'arpack', 'pca_components': 14, 'resolution': 0.13841282178764364, 'method': 'louvain', 'dist_metric': 'euclidean', 'louv_clustering_imp': 'vtraag', 'leid_clustering_imp': 'igraph'}. Best is trial 138 with value: 0.5450384826304095.\n",
      "[I 2025-09-11 20:34:32,239] Trial 187 finished with value: 0.5235406430532232 and parameters: {'n_neighbors': 196, 'dim_reduction': 'pca', 'pca_solver': 'arpack', 'pca_components': 14, 'resolution': 0.32744293673620056, 'method': 'louvain', 'dist_metric': 'euclidean', 'louv_clustering_imp': 'vtraag', 'leid_clustering_imp': 'igraph'}. Best is trial 138 with value: 0.5450384826304095.\n",
      "[I 2025-09-11 20:34:45,338] Trial 193 finished with value: 0.5043746821064578 and parameters: {'n_neighbors': 28, 'dim_reduction': 'pca', 'pca_solver': 'arpack', 'pca_components': 10, 'resolution': 0.10255003626457551, 'method': 'louvain', 'dist_metric': 'euclidean', 'louv_clustering_imp': 'vtraag', 'leid_clustering_imp': 'igraph'}. Best is trial 138 with value: 0.5450384826304095.\n",
      "[I 2025-09-11 20:36:20,198] Trial 191 finished with value: 0.5063487893895193 and parameters: {'n_neighbors': 195, 'dim_reduction': 'pca', 'pca_solver': 'arpack', 'pca_components': 17, 'resolution': 0.14521047522256528, 'method': 'louvain', 'dist_metric': 'euclidean', 'louv_clustering_imp': 'vtraag', 'leid_clustering_imp': 'igraph'}. Best is trial 138 with value: 0.5450384826304095.\n",
      "[I 2025-09-11 20:36:30,853] Trial 190 finished with value: 0.547811394867538 and parameters: {'n_neighbors': 196, 'dim_reduction': 'pca', 'pca_solver': 'arpack', 'pca_components': 14, 'resolution': 0.10058072197144338, 'method': 'louvain', 'dist_metric': 'euclidean', 'louv_clustering_imp': 'vtraag', 'leid_clustering_imp': 'igraph'}. Best is trial 190 with value: 0.547811394867538.\n",
      "[I 2025-09-11 20:36:32,126] Trial 192 finished with value: 0.5174566065926454 and parameters: {'n_neighbors': 192, 'dim_reduction': 'pca', 'pca_solver': 'arpack', 'pca_components': 10, 'resolution': 0.2453701659775726, 'method': 'louvain', 'dist_metric': 'euclidean', 'louv_clustering_imp': 'vtraag', 'leid_clustering_imp': 'igraph'}. Best is trial 190 with value: 0.547811394867538.\n",
      "[I 2025-09-11 20:36:36,940] Trial 194 finished with value: 0.5155785146638161 and parameters: {'n_neighbors': 191, 'dim_reduction': 'pca', 'pca_solver': 'arpack', 'pca_components': 17, 'resolution': 0.10453204998267722, 'method': 'louvain', 'dist_metric': 'euclidean', 'louv_clustering_imp': 'vtraag', 'leid_clustering_imp': 'igraph'}. Best is trial 190 with value: 0.547811394867538.\n",
      "[I 2025-09-11 20:36:40,384] Trial 195 finished with value: 0.5250155498847204 and parameters: {'n_neighbors': 191, 'dim_reduction': 'pca', 'pca_solver': 'arpack', 'pca_components': 18, 'resolution': 0.25680480529696215, 'method': 'louvain', 'dist_metric': 'euclidean', 'louv_clustering_imp': 'vtraag', 'leid_clustering_imp': 'igraph'}. Best is trial 190 with value: 0.547811394867538.\n",
      "[I 2025-09-11 20:38:29,452] Trial 196 finished with value: 0.5274943087886125 and parameters: {'n_neighbors': 191, 'dim_reduction': 'pca', 'pca_solver': 'arpack', 'pca_components': 18, 'resolution': 0.2602283771778863, 'method': 'louvain', 'dist_metric': 'euclidean', 'louv_clustering_imp': 'vtraag', 'leid_clustering_imp': 'igraph'}. Best is trial 190 with value: 0.547811394867538.\n",
      "[I 2025-09-11 20:38:32,567] Trial 197 finished with value: 0.5250155498847204 and parameters: {'n_neighbors': 191, 'dim_reduction': 'pca', 'pca_solver': 'arpack', 'pca_components': 11, 'resolution': 0.2568179297662191, 'method': 'louvain', 'dist_metric': 'euclidean', 'louv_clustering_imp': 'vtraag', 'leid_clustering_imp': 'igraph'}. Best is trial 190 with value: 0.547811394867538.\n",
      "[I 2025-09-11 20:38:45,798] Trial 199 finished with value: 0.5277472187443492 and parameters: {'n_neighbors': 189, 'dim_reduction': 'pca', 'pca_solver': 'arpack', 'pca_components': 16, 'resolution': 0.18003376757382628, 'method': 'louvain', 'dist_metric': 'euclidean', 'louv_clustering_imp': 'vtraag', 'leid_clustering_imp': 'igraph'}. Best is trial 190 with value: 0.547811394867538.\n",
      "[I 2025-09-11 20:38:46,106] Trial 198 finished with value: 0.5273295167693011 and parameters: {'n_neighbors': 190, 'dim_reduction': 'pca', 'pca_solver': 'arpack', 'pca_components': 16, 'resolution': 0.19666039598225288, 'method': 'louvain', 'dist_metric': 'euclidean', 'louv_clustering_imp': 'vtraag', 'leid_clustering_imp': 'igraph'}. Best is trial 190 with value: 0.547811394867538.\n",
      "[I 2025-09-11 20:38:46,490] Trial 200 finished with value: 0.5277662465777021 and parameters: {'n_neighbors': 200, 'dim_reduction': 'pca', 'pca_solver': 'arpack', 'pca_components': 11, 'resolution': 0.18756712025910083, 'method': 'louvain', 'dist_metric': 'euclidean', 'louv_clustering_imp': 'vtraag', 'leid_clustering_imp': 'igraph'}. Best is trial 190 with value: 0.547811394867538.\n",
      "[I 2025-09-11 20:40:45,695] Trial 201 finished with value: 0.5125355758143362 and parameters: {'n_neighbors': 188, 'dim_reduction': 'pca', 'pca_solver': 'arpack', 'pca_components': 21, 'resolution': 0.2083290257441176, 'method': 'louvain', 'dist_metric': 'euclidean', 'louv_clustering_imp': 'vtraag', 'leid_clustering_imp': 'igraph'}. Best is trial 190 with value: 0.547811394867538.\n",
      "[I 2025-09-11 20:40:48,975] Trial 202 finished with value: 0.5232597320107102 and parameters: {'n_neighbors': 200, 'dim_reduction': 'pca', 'pca_solver': 'arpack', 'pca_components': 20, 'resolution': 0.19120010873328233, 'method': 'louvain', 'dist_metric': 'euclidean', 'louv_clustering_imp': 'vtraag', 'leid_clustering_imp': 'igraph'}. Best is trial 190 with value: 0.547811394867538.\n",
      "[I 2025-09-11 20:40:54,910] Trial 203 finished with value: 0.5018660856745155 and parameters: {'n_neighbors': 180, 'dim_reduction': 'pca', 'pca_solver': 'arpack', 'pca_components': 20, 'resolution': 0.18929555214436083, 'method': 'louvain', 'dist_metric': 'euclidean', 'louv_clustering_imp': 'vtraag', 'leid_clustering_imp': 'igraph'}. Best is trial 190 with value: 0.547811394867538.\n",
      "[I 2025-09-11 20:40:57,611] Trial 205 finished with value: 0.5125355758143362 and parameters: {'n_neighbors': 188, 'dim_reduction': 'pca', 'pca_solver': 'arpack', 'pca_components': 12, 'resolution': 0.1885861332229194, 'method': 'louvain', 'dist_metric': 'euclidean', 'louv_clustering_imp': 'vtraag', 'leid_clustering_imp': 'igraph'}. Best is trial 190 with value: 0.547811394867538.\n",
      "[I 2025-09-11 20:41:00,973] Trial 204 finished with value: 0.5125355758143362 and parameters: {'n_neighbors': 188, 'dim_reduction': 'pca', 'pca_solver': 'arpack', 'pca_components': 21, 'resolution': 0.1867911812990336, 'method': 'louvain', 'dist_metric': 'euclidean', 'louv_clustering_imp': 'vtraag', 'leid_clustering_imp': 'igraph'}. Best is trial 190 with value: 0.547811394867538.\n",
      "[I 2025-09-11 20:41:20,645] Trial 207 finished with value: 0.4973155119243073 and parameters: {'n_neighbors': 70, 'dim_reduction': 'pca', 'pca_solver': 'arpack', 'pca_components': 14, 'resolution': 0.19009625911404673, 'method': 'louvain', 'dist_metric': 'euclidean', 'louv_clustering_imp': 'vtraag', 'leid_clustering_imp': 'igraph'}. Best is trial 190 with value: 0.547811394867538.\n",
      "[I 2025-09-11 20:42:23,111] Trial 206 finished with value: 0.5153259723043608 and parameters: {'n_neighbors': 181, 'dim_reduction': 'pca', 'pca_solver': 'arpack', 'pca_components': 14, 'resolution': 0.1849278583137675, 'method': 'louvain', 'dist_metric': 'euclidean', 'louv_clustering_imp': 'vtraag', 'leid_clustering_imp': 'igraph'}. Best is trial 190 with value: 0.547811394867538.\n",
      "[I 2025-09-11 20:42:57,042] Trial 208 finished with value: 0.5163466544788411 and parameters: {'n_neighbors': 189, 'dim_reduction': 'pca', 'pca_solver': 'arpack', 'pca_components': 12, 'resolution': 0.14651697641575137, 'method': 'louvain', 'dist_metric': 'euclidean', 'louv_clustering_imp': 'vtraag', 'leid_clustering_imp': 'igraph'}. Best is trial 190 with value: 0.547811394867538.\n",
      "[I 2025-09-11 20:43:00,900] Trial 209 finished with value: 0.5221702962839571 and parameters: {'n_neighbors': 193, 'dim_reduction': 'pca', 'pca_solver': 'arpack', 'pca_components': 14, 'resolution': 0.13728484350233744, 'method': 'louvain', 'dist_metric': 'euclidean', 'louv_clustering_imp': 'vtraag', 'leid_clustering_imp': 'igraph'}. Best is trial 190 with value: 0.547811394867538.\n",
      "[I 2025-09-11 20:43:05,918] Trial 210 finished with value: 0.5221702962839571 and parameters: {'n_neighbors': 193, 'dim_reduction': 'pca', 'pca_solver': 'arpack', 'pca_components': 14, 'resolution': 0.14382718141006637, 'method': 'louvain', 'dist_metric': 'euclidean', 'louv_clustering_imp': 'vtraag', 'leid_clustering_imp': 'igraph'}. Best is trial 190 with value: 0.547811394867538.\n",
      "[I 2025-09-11 20:43:13,678] Trial 211 finished with value: 0.5221702962839571 and parameters: {'n_neighbors': 193, 'dim_reduction': 'pca', 'pca_solver': 'arpack', 'pca_components': 14, 'resolution': 0.1424350809956017, 'method': 'louvain', 'dist_metric': 'euclidean', 'louv_clustering_imp': 'vtraag', 'leid_clustering_imp': 'igraph'}. Best is trial 190 with value: 0.547811394867538.\n",
      "[I 2025-09-11 20:44:06,944] Trial 212 finished with value: 0.5221702962839571 and parameters: {'n_neighbors': 193, 'dim_reduction': 'pca', 'pca_solver': 'arpack', 'pca_components': 16, 'resolution': 0.13904050110736352, 'method': 'louvain', 'dist_metric': 'euclidean', 'louv_clustering_imp': 'vtraag', 'leid_clustering_imp': 'igraph'}. Best is trial 190 with value: 0.547811394867538.\n",
      "[I 2025-09-11 20:44:59,115] Trial 213 finished with value: 0.5221702962839571 and parameters: {'n_neighbors': 193, 'dim_reduction': 'pca', 'pca_solver': 'arpack', 'pca_components': 16, 'resolution': 0.1388055583589953, 'method': 'louvain', 'dist_metric': 'euclidean', 'louv_clustering_imp': 'vtraag', 'leid_clustering_imp': 'igraph'}. Best is trial 190 with value: 0.547811394867538.\n",
      "[I 2025-09-11 20:45:02,206] Trial 214 finished with value: 0.5273926464566878 and parameters: {'n_neighbors': 193, 'dim_reduction': 'pca', 'pca_solver': 'arpack', 'pca_components': 16, 'resolution': 0.22518394651107512, 'method': 'louvain', 'dist_metric': 'euclidean', 'louv_clustering_imp': 'vtraag', 'leid_clustering_imp': 'igraph'}. Best is trial 190 with value: 0.547811394867538.\n",
      "[I 2025-09-11 20:45:07,159] Trial 215 finished with value: 0.5192027061359887 and parameters: {'n_neighbors': 196, 'dim_reduction': 'pca', 'pca_solver': 'arpack', 'pca_components': 16, 'resolution': 0.22535479963113877, 'method': 'louvain', 'dist_metric': 'euclidean', 'louv_clustering_imp': 'vtraag', 'leid_clustering_imp': 'igraph'}. Best is trial 190 with value: 0.547811394867538.\n",
      "[I 2025-09-11 20:45:11,120] Trial 216 finished with value: 0.5186670537984935 and parameters: {'n_neighbors': 197, 'dim_reduction': 'pca', 'pca_solver': 'arpack', 'pca_components': 16, 'resolution': 0.22946212635970983, 'method': 'louvain', 'dist_metric': 'euclidean', 'louv_clustering_imp': 'vtraag', 'leid_clustering_imp': 'igraph'}. Best is trial 190 with value: 0.547811394867538.\n",
      "[I 2025-09-11 20:45:42,795] Trial 217 finished with value: 0.5170094817837454 and parameters: {'n_neighbors': 200, 'dim_reduction': 'pca', 'pca_solver': 'arpack', 'pca_components': 17, 'resolution': 0.2245234592799819, 'method': 'louvain', 'dist_metric': 'euclidean', 'louv_clustering_imp': 'vtraag', 'leid_clustering_imp': 'igraph'}. Best is trial 190 with value: 0.547811394867538.\n",
      "[I 2025-09-11 20:47:10,312] Trial 219 finished with value: 0.5192027061359887 and parameters: {'n_neighbors': 196, 'dim_reduction': 'pca', 'pca_solver': 'arpack', 'pca_components': 18, 'resolution': 0.22713195049267448, 'method': 'louvain', 'dist_metric': 'euclidean', 'louv_clustering_imp': 'vtraag', 'leid_clustering_imp': 'igraph'}. Best is trial 190 with value: 0.547811394867538.\n",
      "[I 2025-09-11 20:47:16,211] Trial 218 finished with value: 0.5270184297015224 and parameters: {'n_neighbors': 200, 'dim_reduction': 'pca', 'pca_solver': 'arpack', 'pca_components': 18, 'resolution': 0.23724146204334245, 'method': 'louvain', 'dist_metric': 'euclidean', 'louv_clustering_imp': 'vtraag', 'leid_clustering_imp': 'igraph'}. Best is trial 190 with value: 0.547811394867538.\n",
      "[I 2025-09-11 20:47:20,747] Trial 220 finished with value: 0.5102779817264184 and parameters: {'n_neighbors': 186, 'dim_reduction': 'pca', 'pca_solver': 'arpack', 'pca_components': 18, 'resolution': 0.26927598247192946, 'method': 'louvain', 'dist_metric': 'euclidean', 'louv_clustering_imp': 'vtraag', 'leid_clustering_imp': 'igraph'}. Best is trial 190 with value: 0.547811394867538.\n",
      "[I 2025-09-11 20:47:22,702] Trial 221 finished with value: 0.5153097412827655 and parameters: {'n_neighbors': 185, 'dim_reduction': 'pca', 'pca_solver': 'arpack', 'pca_components': 10, 'resolution': 0.2651937781083916, 'method': 'louvain', 'dist_metric': 'euclidean', 'louv_clustering_imp': 'vtraag', 'leid_clustering_imp': 'igraph'}. Best is trial 190 with value: 0.547811394867538.\n",
      "[I 2025-09-11 20:47:26,765] Trial 222 finished with value: 0.5085305143943618 and parameters: {'n_neighbors': 185, 'dim_reduction': 'pca', 'pca_solver': 'auto', 'pca_components': 11, 'resolution': 0.2727817711111919, 'method': 'louvain', 'dist_metric': 'euclidean', 'louv_clustering_imp': 'vtraag', 'leid_clustering_imp': 'igraph'}. Best is trial 190 with value: 0.547811394867538.\n",
      "[I 2025-09-11 20:48:55,641] Trial 223 finished with value: 0.5153097412827655 and parameters: {'n_neighbors': 185, 'dim_reduction': 'pca', 'pca_solver': 'auto', 'pca_components': 10, 'resolution': 0.2688803555732536, 'method': 'louvain', 'dist_metric': 'euclidean', 'louv_clustering_imp': 'vtraag', 'leid_clustering_imp': 'igraph'}. Best is trial 190 with value: 0.547811394867538.\n",
      "[I 2025-09-11 20:49:15,146] Trial 224 finished with value: 0.5341994300607714 and parameters: {'n_neighbors': 184, 'dim_reduction': 'pca', 'pca_solver': 'auto', 'pca_components': 10, 'resolution': 0.2658834064108979, 'method': 'louvain', 'dist_metric': 'euclidean', 'louv_clustering_imp': 'vtraag', 'leid_clustering_imp': 'igraph'}. Best is trial 190 with value: 0.547811394867538.\n",
      "[I 2025-09-11 20:49:18,329] Trial 225 finished with value: 0.5369144068100732 and parameters: {'n_neighbors': 200, 'dim_reduction': 'pca', 'pca_solver': 'arpack', 'pca_components': 10, 'resolution': 0.10148726381019518, 'method': 'louvain', 'dist_metric': 'euclidean', 'louv_clustering_imp': 'vtraag', 'leid_clustering_imp': 'igraph'}. Best is trial 190 with value: 0.547811394867538.\n",
      "[I 2025-09-11 20:49:22,151] Trial 226 finished with value: 0.5277662465777021 and parameters: {'n_neighbors': 200, 'dim_reduction': 'pca', 'pca_solver': 'arpack', 'pca_components': 12, 'resolution': 0.1781861953890481, 'method': 'louvain', 'dist_metric': 'euclidean', 'louv_clustering_imp': 'vtraag', 'leid_clustering_imp': 'igraph'}. Best is trial 190 with value: 0.547811394867538.\n",
      "[I 2025-09-11 20:49:25,444] Trial 227 finished with value: 0.4975602446782604 and parameters: {'n_neighbors': 197, 'dim_reduction': 'pca', 'pca_solver': 'arpack', 'pca_components': 12, 'resolution': 1.429462206604701, 'method': 'louvain', 'dist_metric': 'euclidean', 'louv_clustering_imp': 'vtraag', 'leid_clustering_imp': 'igraph'}. Best is trial 190 with value: 0.547811394867538.\n",
      "[I 2025-09-11 20:51:08,930] Trial 228 finished with value: 0.5038560418023182 and parameters: {'n_neighbors': 197, 'dim_reduction': 'pca', 'pca_solver': 'arpack', 'pca_components': 12, 'resolution': 0.1773820315485053, 'method': 'louvain', 'dist_metric': 'euclidean', 'louv_clustering_imp': 'vtraag', 'leid_clustering_imp': 'igraph'}. Best is trial 190 with value: 0.547811394867538.\n",
      "[I 2025-09-11 20:51:19,338] Trial 231 finished with value: 0.5378572006598661 and parameters: {'n_neighbors': 190, 'dim_reduction': 'pca', 'pca_solver': 'arpack', 'pca_components': 12, 'resolution': 0.10670929255143713, 'method': 'louvain', 'dist_metric': 'euclidean', 'louv_clustering_imp': 'vtraag', 'leid_clustering_imp': 'igraph'}. Best is trial 190 with value: 0.547811394867538.\n",
      "[I 2025-09-11 20:51:19,909] Trial 230 finished with value: 0.5332143545226167 and parameters: {'n_neighbors': 189, 'dim_reduction': 'pca', 'pca_solver': 'auto', 'pca_components': 12, 'resolution': 0.10209557251946369, 'method': 'louvain', 'dist_metric': 'euclidean', 'louv_clustering_imp': 'vtraag', 'leid_clustering_imp': 'igraph'}. Best is trial 190 with value: 0.547811394867538.\n",
      "[I 2025-09-11 20:51:20,765] Trial 232 finished with value: 0.5378572006598661 and parameters: {'n_neighbors': 190, 'dim_reduction': 'pca', 'pca_solver': 'arpack', 'pca_components': 10, 'resolution': 0.10362589034745294, 'method': 'louvain', 'dist_metric': 'euclidean', 'louv_clustering_imp': 'vtraag', 'leid_clustering_imp': 'igraph'}. Best is trial 190 with value: 0.547811394867538.\n",
      "[I 2025-09-11 20:51:27,542] Trial 229 finished with value: 0.5288408985843865 and parameters: {'n_neighbors': 196, 'dim_reduction': 'pca', 'pca_solver': 'auto', 'pca_components': 13, 'resolution': 0.10270900041886961, 'method': 'louvain', 'dist_metric': 'euclidean', 'louv_clustering_imp': 'vtraag', 'leid_clustering_imp': 'igraph'}. Best is trial 190 with value: 0.547811394867538.\n",
      "[I 2025-09-11 20:53:08,248] Trial 233 finished with value: 0.5378572006598661 and parameters: {'n_neighbors': 190, 'dim_reduction': 'pca', 'pca_solver': 'auto', 'pca_components': 10, 'resolution': 0.10675713515125254, 'method': 'louvain', 'dist_metric': 'euclidean', 'louv_clustering_imp': 'vtraag', 'leid_clustering_imp': 'igraph'}. Best is trial 190 with value: 0.547811394867538.\n",
      "[I 2025-09-11 20:53:14,633] Trial 234 finished with value: 0.5301350187108106 and parameters: {'n_neighbors': 190, 'dim_reduction': 'pca', 'pca_solver': 'arpack', 'pca_components': 10, 'resolution': 0.11293737551986618, 'method': 'louvain', 'dist_metric': 'euclidean', 'louv_clustering_imp': 'vtraag', 'leid_clustering_imp': 'igraph'}. Best is trial 190 with value: 0.547811394867538.\n",
      "[I 2025-09-11 20:53:20,335] Trial 236 finished with value: 0.5378572006598661 and parameters: {'n_neighbors': 190, 'dim_reduction': 'pca', 'pca_solver': 'arpack', 'pca_components': 10, 'resolution': 0.10392410417088505, 'method': 'louvain', 'dist_metric': 'euclidean', 'louv_clustering_imp': 'vtraag', 'leid_clustering_imp': 'igraph'}. Best is trial 190 with value: 0.547811394867538.\n",
      "[I 2025-09-11 20:53:22,795] Trial 237 finished with value: 0.5074895697095149 and parameters: {'n_neighbors': 181, 'dim_reduction': 'pca', 'pca_solver': 'arpack', 'pca_components': 10, 'resolution': 0.1048195577122828, 'method': 'louvain', 'dist_metric': 'euclidean', 'louv_clustering_imp': 'vtraag', 'leid_clustering_imp': 'igraph'}. Best is trial 190 with value: 0.547811394867538.\n",
      "[I 2025-09-11 20:53:28,869] Trial 235 finished with value: 0.5378572006598661 and parameters: {'n_neighbors': 190, 'dim_reduction': 'pca', 'pca_solver': 'arpack', 'pca_components': 10, 'resolution': 0.10176616905712653, 'method': 'louvain', 'dist_metric': 'euclidean', 'louv_clustering_imp': 'vtraag', 'leid_clustering_imp': 'igraph'}. Best is trial 190 with value: 0.547811394867538.\n",
      "[I 2025-09-11 20:55:09,769] Trial 238 finished with value: 0.4946423579822411 and parameters: {'n_neighbors': 188, 'dim_reduction': 'pca', 'pca_solver': 'auto', 'pca_components': 10, 'resolution': 0.11963171614506804, 'method': 'louvain', 'dist_metric': 'euclidean', 'louv_clustering_imp': 'vtraag', 'leid_clustering_imp': 'igraph'}. Best is trial 190 with value: 0.547811394867538.\n",
      "[I 2025-09-11 20:55:11,765] Trial 239 finished with value: 0.5077895185917333 and parameters: {'n_neighbors': 176, 'dim_reduction': 'pca', 'pca_solver': 'arpack', 'pca_components': 10, 'resolution': 0.10155451919778055, 'method': 'louvain', 'dist_metric': 'euclidean', 'louv_clustering_imp': 'vtraag', 'leid_clustering_imp': 'igraph'}. Best is trial 190 with value: 0.547811394867538.\n",
      "[I 2025-09-11 20:55:21,288] Trial 240 finished with value: 0.5450384826304095 and parameters: {'n_neighbors': 182, 'dim_reduction': 'pca', 'pca_solver': 'arpack', 'pca_components': 10, 'resolution': 0.10459601990638491, 'method': 'louvain', 'dist_metric': 'euclidean', 'louv_clustering_imp': 'vtraag', 'leid_clustering_imp': 'igraph'}. Best is trial 190 with value: 0.547811394867538.\n",
      "[I 2025-09-11 20:55:21,544] Trial 241 finished with value: 0.5450384826304095 and parameters: {'n_neighbors': 182, 'dim_reduction': 'pca', 'pca_solver': 'arpack', 'pca_components': 13, 'resolution': 0.10354370228459867, 'method': 'louvain', 'dist_metric': 'euclidean', 'louv_clustering_imp': 'vtraag', 'leid_clustering_imp': 'igraph'}. Best is trial 190 with value: 0.547811394867538.\n",
      "[I 2025-09-11 20:55:24,093] Trial 242 finished with value: 0.5450384826304095 and parameters: {'n_neighbors': 182, 'dim_reduction': 'pca', 'pca_solver': 'arpack', 'pca_components': 10, 'resolution': 0.11541418181338496, 'method': 'louvain', 'dist_metric': 'euclidean', 'louv_clustering_imp': 'vtraag', 'leid_clustering_imp': 'igraph'}. Best is trial 190 with value: 0.547811394867538.\n",
      "[I 2025-09-11 20:57:07,277] Trial 243 finished with value: 0.5092814297479422 and parameters: {'n_neighbors': 175, 'dim_reduction': 'pca', 'pca_solver': 'arpack', 'pca_components': 12, 'resolution': 0.10203690863464825, 'method': 'louvain', 'dist_metric': 'euclidean', 'louv_clustering_imp': 'vtraag', 'leid_clustering_imp': 'igraph'}. Best is trial 190 with value: 0.547811394867538.\n",
      "[I 2025-09-11 20:57:15,586] Trial 244 finished with value: 0.5299298543746099 and parameters: {'n_neighbors': 193, 'dim_reduction': 'pca', 'pca_solver': 'arpack', 'pca_components': 13, 'resolution': 0.1002340524631202, 'method': 'louvain', 'dist_metric': 'euclidean', 'louv_clustering_imp': 'vtraag', 'leid_clustering_imp': 'igraph'}. Best is trial 190 with value: 0.547811394867538.\n",
      "[I 2025-09-11 20:57:19,000] Trial 246 finished with value: 0.5203950237407391 and parameters: {'n_neighbors': 180, 'dim_reduction': 'pca', 'pca_solver': 'arpack', 'pca_components': 12, 'resolution': 0.10119751901683259, 'method': 'louvain', 'dist_metric': 'euclidean', 'louv_clustering_imp': 'vtraag', 'leid_clustering_imp': 'igraph'}. Best is trial 190 with value: 0.547811394867538.\n",
      "[I 2025-09-11 20:57:22,134] Trial 245 finished with value: 0.5074895697095149 and parameters: {'n_neighbors': 181, 'dim_reduction': 'pca', 'pca_solver': 'arpack', 'pca_components': 12, 'resolution': 0.11281439581117444, 'method': 'louvain', 'dist_metric': 'euclidean', 'louv_clustering_imp': 'vtraag', 'leid_clustering_imp': 'igraph'}. Best is trial 190 with value: 0.547811394867538.\n",
      "[I 2025-09-11 20:57:22,853] Trial 247 finished with value: 0.5117423484688297 and parameters: {'n_neighbors': 180, 'dim_reduction': 'pca', 'pca_solver': 'arpack', 'pca_components': 12, 'resolution': 0.11690360834792032, 'method': 'louvain', 'dist_metric': 'euclidean', 'louv_clustering_imp': 'vtraag', 'leid_clustering_imp': 'igraph'}. Best is trial 190 with value: 0.547811394867538.\n",
      "[I 2025-09-11 20:58:20,022] Trial 248 finished with value: 0.5191351102055484 and parameters: {'n_neighbors': 178, 'dim_reduction': 'pca', 'pca_solver': 'arpack', 'pca_components': 12, 'resolution': 0.10587982430188875, 'method': 'louvain', 'dist_metric': 'euclidean', 'louv_clustering_imp': 'vtraag', 'leid_clustering_imp': 'igraph'}. Best is trial 190 with value: 0.547811394867538.\n",
      "[I 2025-09-11 20:59:06,056] Trial 253 finished with value: -1.0 and parameters: {'n_neighbors': 183, 'dim_reduction': 'pca', 'pca_solver': 'arpack', 'pca_components': 10, 'resolution': 0.148075612010344, 'method': 'louvain', 'dist_metric': 'cosine', 'louv_clustering_imp': 'vtraag', 'leid_clustering_imp': 'igraph'}. Best is trial 190 with value: 0.547811394867538.\n",
      "[I 2025-09-11 20:59:14,539] Trial 249 finished with value: 0.5203950237407391 and parameters: {'n_neighbors': 180, 'dim_reduction': 'pca', 'pca_solver': 'arpack', 'pca_components': 12, 'resolution': 0.1018669196048778, 'method': 'louvain', 'dist_metric': 'euclidean', 'louv_clustering_imp': 'vtraag', 'leid_clustering_imp': 'igraph'}. Best is trial 190 with value: 0.547811394867538.\n",
      "[I 2025-09-11 20:59:20,788] Trial 251 finished with value: 0.5185273000916868 and parameters: {'n_neighbors': 183, 'dim_reduction': 'pca', 'pca_solver': 'arpack', 'pca_components': 10, 'resolution': 0.10143613919042715, 'method': 'louvain', 'dist_metric': 'euclidean', 'louv_clustering_imp': 'vtraag', 'leid_clustering_imp': 'igraph'}. Best is trial 190 with value: 0.547811394867538.\n",
      "[I 2025-09-11 20:59:23,196] Trial 250 finished with value: 0.5450384826304095 and parameters: {'n_neighbors': 182, 'dim_reduction': 'pca', 'pca_solver': 'arpack', 'pca_components': 10, 'resolution': 0.10515145681527903, 'method': 'louvain', 'dist_metric': 'euclidean', 'louv_clustering_imp': 'vtraag', 'leid_clustering_imp': 'igraph'}. Best is trial 190 with value: 0.547811394867538.\n",
      "[I 2025-09-11 20:59:25,344] Trial 252 finished with value: 0.5117791433835919 and parameters: {'n_neighbors': 184, 'dim_reduction': 'pca', 'pca_solver': 'arpack', 'pca_components': 10, 'resolution': 0.1010715287953268, 'method': 'louvain', 'dist_metric': 'euclidean', 'louv_clustering_imp': 'vtraag', 'leid_clustering_imp': 'igraph'}. Best is trial 190 with value: 0.547811394867538.\n"
     ]
    },
    {
     "name": "stderr",
     "output_type": "stream",
     "text": [
      "`resolution` parameter has no effect for flavor \"igraph\"\n",
      "`resolution` parameter has no effect for flavor \"igraph\"\n",
      "`resolution` parameter has no effect for flavor \"igraph\"\n",
      "`resolution` parameter has no effect for flavor \"igraph\"\n"
     ]
    },
    {
     "name": "stdout",
     "output_type": "stream",
     "text": [
      "[I 2025-09-11 21:00:59,474] Trial 254 finished with value: 0.5217598406575202 and parameters: {'n_neighbors': 185, 'dim_reduction': 'pca', 'pca_solver': 'arpack', 'pca_components': 10, 'resolution': 0.14445317736880384, 'method': 'louvain', 'dist_metric': 'euclidean', 'louv_clustering_imp': 'vtraag', 'leid_clustering_imp': 'igraph'}. Best is trial 190 with value: 0.547811394867538.\n",
      "[I 2025-09-11 21:01:00,868] Trial 255 finished with value: 0.5021423472728689 and parameters: {'n_neighbors': 186, 'dim_reduction': 'pca', 'pca_solver': 'arpack', 'pca_components': 10, 'resolution': 0.14552971064842668, 'method': 'louvain', 'dist_metric': 'euclidean', 'louv_clustering_imp': 'igraph', 'leid_clustering_imp': 'igraph'}. Best is trial 190 with value: 0.547811394867538.\n",
      "[I 2025-09-11 21:01:06,023] Trial 256 finished with value: 0.503770461191206 and parameters: {'n_neighbors': 186, 'dim_reduction': 'pca', 'pca_solver': 'arpack', 'pca_components': 14, 'resolution': 0.14687708112269446, 'method': 'louvain', 'dist_metric': 'euclidean', 'louv_clustering_imp': 'igraph', 'leid_clustering_imp': 'igraph'}. Best is trial 190 with value: 0.547811394867538.\n",
      "[I 2025-09-11 21:01:13,368] Trial 257 finished with value: 0.49827956436539267 and parameters: {'n_neighbors': 187, 'dim_reduction': 'pca', 'pca_solver': 'arpack', 'pca_components': 10, 'resolution': 0.1437144727395325, 'method': 'louvain', 'dist_metric': 'euclidean', 'louv_clustering_imp': 'igraph', 'leid_clustering_imp': 'igraph'}. Best is trial 190 with value: 0.547811394867538.\n",
      "[I 2025-09-11 21:01:14,436] Trial 258 finished with value: 0.4977170936300579 and parameters: {'n_neighbors': 175, 'dim_reduction': 'pca', 'pca_solver': 'arpack', 'pca_components': 13, 'resolution': 0.14160423453507606, 'method': 'louvain', 'dist_metric': 'euclidean', 'louv_clustering_imp': 'igraph', 'leid_clustering_imp': 'igraph'}. Best is trial 190 with value: 0.547811394867538.\n",
      "[I 2025-09-11 21:02:37,941] Trial 259 finished with value: 0.4868759122523899 and parameters: {'n_neighbors': 176, 'dim_reduction': 'pca', 'pca_solver': 'arpack', 'pca_components': 13, 'resolution': 0.14588053411249474, 'method': 'leiden', 'dist_metric': 'euclidean', 'louv_clustering_imp': 'vtraag', 'leid_clustering_imp': 'igraph'}. Best is trial 190 with value: 0.547811394867538.\n",
      "[I 2025-09-11 21:02:41,682] Trial 261 finished with value: 0.5058749047609894 and parameters: {'n_neighbors': 173, 'dim_reduction': 'pca', 'pca_solver': 'arpack', 'pca_components': 13, 'resolution': 0.15456824734671248, 'method': 'louvain', 'dist_metric': 'euclidean', 'louv_clustering_imp': 'vtraag', 'leid_clustering_imp': 'igraph'}. Best is trial 190 with value: 0.547811394867538.\n",
      "[I 2025-09-11 21:02:45,668] Trial 260 finished with value: 0.4862799717199747 and parameters: {'n_neighbors': 194, 'dim_reduction': 'pca', 'pca_solver': 'arpack', 'pca_components': 13, 'resolution': 0.14094171370399144, 'method': 'leiden', 'dist_metric': 'euclidean', 'louv_clustering_imp': 'vtraag', 'leid_clustering_imp': 'igraph'}. Best is trial 190 with value: 0.547811394867538.\n",
      "[I 2025-09-11 21:02:46,904] Trial 262 finished with value: 0.49504744703159986 and parameters: {'n_neighbors': 175, 'dim_reduction': 'pca', 'pca_solver': 'arpack', 'pca_components': 13, 'resolution': 0.1443101732116439, 'method': 'leiden', 'dist_metric': 'euclidean', 'louv_clustering_imp': 'vtraag', 'leid_clustering_imp': 'igraph'}. Best is trial 190 with value: 0.547811394867538.\n",
      "[I 2025-09-11 21:02:53,964] Trial 263 finished with value: 0.4867356756596066 and parameters: {'n_neighbors': 194, 'dim_reduction': 'pca', 'pca_solver': 'arpack', 'pca_components': 13, 'resolution': 0.14510172426613704, 'method': 'leiden', 'dist_metric': 'euclidean', 'louv_clustering_imp': 'vtraag', 'leid_clustering_imp': 'igraph'}. Best is trial 190 with value: 0.547811394867538.\n",
      "[I 2025-09-11 21:04:42,294] Trial 265 finished with value: 0.5299298543746099 and parameters: {'n_neighbors': 193, 'dim_reduction': 'pca', 'pca_solver': 'arpack', 'pca_components': 12, 'resolution': 0.10447586849020718, 'method': 'louvain', 'dist_metric': 'euclidean', 'louv_clustering_imp': 'vtraag', 'leid_clustering_imp': 'igraph'}. Best is trial 190 with value: 0.547811394867538.\n",
      "[I 2025-09-11 21:04:42,611] Trial 264 finished with value: 0.5140693733903364 and parameters: {'n_neighbors': 194, 'dim_reduction': 'pca', 'pca_solver': 'arpack', 'pca_components': 13, 'resolution': 0.1007939627423183, 'method': 'louvain', 'dist_metric': 'euclidean', 'louv_clustering_imp': 'vtraag', 'leid_clustering_imp': 'igraph'}. Best is trial 190 with value: 0.547811394867538.\n",
      "[I 2025-09-11 21:04:53,198] Trial 266 finished with value: 0.5140693733903364 and parameters: {'n_neighbors': 194, 'dim_reduction': 'pca', 'pca_solver': 'arpack', 'pca_components': 11, 'resolution': 0.10348476399145319, 'method': 'louvain', 'dist_metric': 'euclidean', 'louv_clustering_imp': 'vtraag', 'leid_clustering_imp': 'igraph'}. Best is trial 190 with value: 0.547811394867538.\n",
      "[I 2025-09-11 21:04:53,781] Trial 267 finished with value: 0.5140693733903364 and parameters: {'n_neighbors': 194, 'dim_reduction': 'pca', 'pca_solver': 'arpack', 'pca_components': 11, 'resolution': 0.10057503958377814, 'method': 'louvain', 'dist_metric': 'euclidean', 'louv_clustering_imp': 'vtraag', 'leid_clustering_imp': 'igraph'}. Best is trial 190 with value: 0.547811394867538.\n",
      "[I 2025-09-11 21:05:00,736] Trial 268 finished with value: 0.49351119469342875 and parameters: {'n_neighbors': 192, 'dim_reduction': 'pca', 'pca_solver': 'arpack', 'pca_components': 11, 'resolution': 0.10571283939191073, 'method': 'louvain', 'dist_metric': 'euclidean', 'louv_clustering_imp': 'vtraag', 'leid_clustering_imp': 'igraph'}. Best is trial 190 with value: 0.547811394867538.\n",
      "[I 2025-09-11 21:05:05,123] Trial 272 finished with value: -1.0 and parameters: {'n_neighbors': 85, 'dim_reduction': 'pca', 'pca_solver': 'arpack', 'pca_components': 10, 'resolution': 0.16675635427918623, 'method': 'louvain', 'dist_metric': 'cosine', 'louv_clustering_imp': 'vtraag', 'leid_clustering_imp': 'igraph'}. Best is trial 190 with value: 0.547811394867538.\n",
      "[I 2025-09-11 21:05:09,655] Trial 273 finished with value: -1.0 and parameters: {'n_neighbors': 85, 'dim_reduction': 'pca', 'pca_solver': 'arpack', 'pca_components': 14, 'resolution': 0.16293637100008598, 'method': 'louvain', 'dist_metric': 'cosine', 'louv_clustering_imp': 'vtraag', 'leid_clustering_imp': 'igraph'}. Best is trial 190 with value: 0.547811394867538.\n",
      "[I 2025-09-11 21:06:11,568] Trial 269 finished with value: 0.49351119469342875 and parameters: {'n_neighbors': 192, 'dim_reduction': 'pca', 'pca_solver': 'arpack', 'pca_components': 11, 'resolution': 0.10595936221714146, 'method': 'louvain', 'dist_metric': 'euclidean', 'louv_clustering_imp': 'vtraag', 'leid_clustering_imp': 'igraph'}. Best is trial 190 with value: 0.547811394867538.\n",
      "[I 2025-09-11 21:06:49,207] Trial 271 finished with value: 0.5156298884571174 and parameters: {'n_neighbors': 191, 'dim_reduction': 'pca', 'pca_solver': 'arpack', 'pca_components': 10, 'resolution': 0.16606973802647854, 'method': 'louvain', 'dist_metric': 'euclidean', 'louv_clustering_imp': 'vtraag', 'leid_clustering_imp': 'igraph'}. Best is trial 190 with value: 0.547811394867538.\n",
      "[I 2025-09-11 21:06:49,885] Trial 270 finished with value: 0.49351119469342875 and parameters: {'n_neighbors': 192, 'dim_reduction': 'pca', 'pca_solver': 'arpack', 'pca_components': 96, 'resolution': 0.10542846847469993, 'method': 'louvain', 'dist_metric': 'euclidean', 'louv_clustering_imp': 'vtraag', 'leid_clustering_imp': 'igraph'}. Best is trial 190 with value: 0.547811394867538.\n",
      "[I 2025-09-11 21:07:00,504] Trial 275 finished with value: 0.5220676895588984 and parameters: {'n_neighbors': 190, 'dim_reduction': 'pca', 'pca_solver': 'arpack', 'pca_components': 14, 'resolution': 0.13353297941595307, 'method': 'louvain', 'dist_metric': 'euclidean', 'louv_clustering_imp': 'vtraag', 'leid_clustering_imp': 'igraph'}. Best is trial 190 with value: 0.547811394867538.\n",
      "[I 2025-09-11 21:07:03,558] Trial 274 finished with value: 0.5191321825966013 and parameters: {'n_neighbors': 190, 'dim_reduction': 'pca', 'pca_solver': 'arpack', 'pca_components': 14, 'resolution': 0.16294988444508232, 'method': 'louvain', 'dist_metric': 'euclidean', 'louv_clustering_imp': 'vtraag', 'leid_clustering_imp': 'igraph'}. Best is trial 190 with value: 0.547811394867538.\n",
      "[I 2025-09-11 21:07:29,048] Trial 276 finished with value: 0.5281152955790055 and parameters: {'n_neighbors': 197, 'dim_reduction': 'pca', 'pca_solver': 'arpack', 'pca_components': 14, 'resolution': 0.14166363816821467, 'method': 'louvain', 'dist_metric': 'euclidean', 'louv_clustering_imp': 'vtraag', 'leid_clustering_imp': 'igraph'}. Best is trial 190 with value: 0.547811394867538.\n",
      "[I 2025-09-11 21:08:54,362] Trial 277 finished with value: 0.5033365137469963 and parameters: {'n_neighbors': 196, 'dim_reduction': 'pca', 'pca_solver': 'arpack', 'pca_components': 14, 'resolution': 0.13452740708527375, 'method': 'louvain', 'dist_metric': 'euclidean', 'louv_clustering_imp': 'vtraag', 'leid_clustering_imp': 'igraph'}. Best is trial 190 with value: 0.547811394867538.\n",
      "[I 2025-09-11 21:08:58,400] Trial 278 finished with value: 0.5281152955790055 and parameters: {'n_neighbors': 197, 'dim_reduction': 'pca', 'pca_solver': 'arpack', 'pca_components': 14, 'resolution': 0.14132399847322966, 'method': 'louvain', 'dist_metric': 'euclidean', 'louv_clustering_imp': 'vtraag', 'leid_clustering_imp': 'igraph'}. Best is trial 190 with value: 0.547811394867538.\n",
      "[I 2025-09-11 21:09:05,669] Trial 279 finished with value: 0.5164822605239747 and parameters: {'n_neighbors': 197, 'dim_reduction': 'pca', 'pca_solver': 'arpack', 'pca_components': 37, 'resolution': 0.16624551360274403, 'method': 'louvain', 'dist_metric': 'euclidean', 'louv_clustering_imp': 'vtraag', 'leid_clustering_imp': 'igraph'}. Best is trial 190 with value: 0.547811394867538.\n",
      "[I 2025-09-11 21:09:08,520] Trial 280 finished with value: 0.5063141575827216 and parameters: {'n_neighbors': 197, 'dim_reduction': 'pca', 'pca_solver': 'arpack', 'pca_components': 12, 'resolution': 0.13262943883131714, 'method': 'louvain', 'dist_metric': 'euclidean', 'louv_clustering_imp': 'vtraag', 'leid_clustering_imp': 'igraph'}. Best is trial 190 with value: 0.547811394867538.\n",
      "[I 2025-09-11 21:09:12,326] Trial 281 finished with value: 0.5191729625032155 and parameters: {'n_neighbors': 183, 'dim_reduction': 'pca', 'pca_solver': 'arpack', 'pca_components': 41, 'resolution': 0.1352482332975732, 'method': 'louvain', 'dist_metric': 'euclidean', 'louv_clustering_imp': 'vtraag', 'leid_clustering_imp': 'igraph'}. Best is trial 190 with value: 0.547811394867538.\n",
      "[I 2025-09-11 21:10:58,017] Trial 282 finished with value: 0.5117791433835919 and parameters: {'n_neighbors': 184, 'dim_reduction': 'pca', 'pca_solver': 'arpack', 'pca_components': 12, 'resolution': 0.10016852420347258, 'method': 'louvain', 'dist_metric': 'euclidean', 'louv_clustering_imp': 'vtraag', 'leid_clustering_imp': 'igraph'}. Best is trial 190 with value: 0.547811394867538.\n",
      "[I 2025-09-11 21:11:01,193] Trial 283 finished with value: 0.5191729625032155 and parameters: {'n_neighbors': 183, 'dim_reduction': 'pca', 'pca_solver': 'arpack', 'pca_components': 15, 'resolution': 0.1364959985389772, 'method': 'louvain', 'dist_metric': 'euclidean', 'louv_clustering_imp': 'vtraag', 'leid_clustering_imp': 'igraph'}. Best is trial 190 with value: 0.547811394867538.\n",
      "[I 2025-09-11 21:11:09,047] Trial 284 finished with value: 0.521117834272244 and parameters: {'n_neighbors': 182, 'dim_reduction': 'pca', 'pca_solver': 'arpack', 'pca_components': 15, 'resolution': 0.13084741219705326, 'method': 'louvain', 'dist_metric': 'euclidean', 'louv_clustering_imp': 'vtraag', 'leid_clustering_imp': 'igraph'}. Best is trial 190 with value: 0.547811394867538.\n",
      "[I 2025-09-11 21:11:13,324] Trial 285 finished with value: 0.5450384826304095 and parameters: {'n_neighbors': 182, 'dim_reduction': 'pca', 'pca_solver': 'arpack', 'pca_components': 15, 'resolution': 0.10164236906846522, 'method': 'louvain', 'dist_metric': 'euclidean', 'louv_clustering_imp': 'vtraag', 'leid_clustering_imp': 'igraph'}. Best is trial 190 with value: 0.547811394867538.\n",
      "[I 2025-09-11 21:11:13,900] Trial 286 finished with value: 0.4946423579822411 and parameters: {'n_neighbors': 188, 'dim_reduction': 'pca', 'pca_solver': 'arpack', 'pca_components': 15, 'resolution': 0.10075898717986127, 'method': 'louvain', 'dist_metric': 'euclidean', 'louv_clustering_imp': 'vtraag', 'leid_clustering_imp': 'igraph'}. Best is trial 190 with value: 0.547811394867538.\n",
      "[I 2025-09-11 21:12:58,027] Trial 287 finished with value: 0.5120668334377415 and parameters: {'n_neighbors': 180, 'dim_reduction': 'pca', 'pca_solver': 'arpack', 'pca_components': 15, 'resolution': 1.0131656981862356, 'method': 'louvain', 'dist_metric': 'euclidean', 'louv_clustering_imp': 'vtraag', 'leid_clustering_imp': 'igraph'}. Best is trial 190 with value: 0.547811394867538.\n",
      "[I 2025-09-11 21:13:02,890] Trial 288 finished with value: 0.516701184397406 and parameters: {'n_neighbors': 188, 'dim_reduction': 'pca', 'pca_solver': 'arpack', 'pca_components': 10, 'resolution': 0.8840807424247963, 'method': 'louvain', 'dist_metric': 'euclidean', 'louv_clustering_imp': 'vtraag', 'leid_clustering_imp': 'igraph'}. Best is trial 190 with value: 0.547811394867538.\n",
      "[I 2025-09-11 21:13:10,306] Trial 289 finished with value: 0.5033389463717779 and parameters: {'n_neighbors': 188, 'dim_reduction': 'pca', 'pca_solver': 'arpack', 'pca_components': 10, 'resolution': 0.17163971928029245, 'method': 'louvain', 'dist_metric': 'euclidean', 'louv_clustering_imp': 'vtraag', 'leid_clustering_imp': 'igraph'}. Best is trial 190 with value: 0.547811394867538.\n",
      "[I 2025-09-11 21:13:15,075] Trial 290 finished with value: 0.5191351102055484 and parameters: {'n_neighbors': 178, 'dim_reduction': 'pca', 'pca_solver': 'randomized', 'pca_components': 10, 'resolution': 0.12963368339038506, 'method': 'louvain', 'dist_metric': 'euclidean', 'louv_clustering_imp': 'vtraag', 'leid_clustering_imp': 'igraph'}. Best is trial 190 with value: 0.547811394867538.\n",
      "[I 2025-09-11 21:13:18,980] Trial 291 finished with value: 0.5203950237407391 and parameters: {'n_neighbors': 180, 'dim_reduction': 'pca', 'pca_solver': 'randomized', 'pca_components': 10, 'resolution': 0.1013815537037499, 'method': 'louvain', 'dist_metric': 'euclidean', 'louv_clustering_imp': 'vtraag', 'leid_clustering_imp': 'igraph'}. Best is trial 190 with value: 0.547811394867538.\n",
      "[I 2025-09-11 21:15:01,933] Trial 292 finished with value: 0.5195477245512337 and parameters: {'n_neighbors': 187, 'dim_reduction': 'pca', 'pca_solver': 'arpack', 'pca_components': 10, 'resolution': 0.17826569841426163, 'method': 'louvain', 'dist_metric': 'euclidean', 'louv_clustering_imp': 'vtraag', 'leid_clustering_imp': 'igraph'}. Best is trial 190 with value: 0.547811394867538.\n",
      "[I 2025-09-11 21:15:10,668] Trial 293 finished with value: 0.5231324077974501 and parameters: {'n_neighbors': 187, 'dim_reduction': 'pca', 'pca_solver': 'arpack', 'pca_components': 12, 'resolution': 0.10224602674092904, 'method': 'louvain', 'dist_metric': 'euclidean', 'louv_clustering_imp': 'vtraag', 'leid_clustering_imp': 'igraph'}. Best is trial 190 with value: 0.547811394867538.\n",
      "[I 2025-09-11 21:15:11,746] Trial 295 finished with value: 0.5196000418700377 and parameters: {'n_neighbors': 186, 'dim_reduction': 'pca', 'pca_solver': 'arpack', 'pca_components': 12, 'resolution': 0.10318701710616804, 'method': 'louvain', 'dist_metric': 'euclidean', 'louv_clustering_imp': 'vtraag', 'leid_clustering_imp': 'igraph'}. Best is trial 190 with value: 0.547811394867538.\n",
      "[I 2025-09-11 21:15:12,516] Trial 294 finished with value: 0.5038365380989516 and parameters: {'n_neighbors': 187, 'dim_reduction': 'pca', 'pca_solver': 'randomized', 'pca_components': 12, 'resolution': 0.13332513766271642, 'method': 'louvain', 'dist_metric': 'euclidean', 'louv_clustering_imp': 'vtraag', 'leid_clustering_imp': 'igraph'}. Best is trial 190 with value: 0.547811394867538.\n",
      "[I 2025-09-11 21:15:15,871] Trial 296 finished with value: 0.5178004172046063 and parameters: {'n_neighbors': 186, 'dim_reduction': 'pca', 'pca_solver': 'arpack', 'pca_components': 13, 'resolution': 0.17674327925559222, 'method': 'louvain', 'dist_metric': 'euclidean', 'louv_clustering_imp': 'vtraag', 'leid_clustering_imp': 'igraph'}. Best is trial 190 with value: 0.547811394867538.\n",
      "[I 2025-09-11 21:17:09,879] Trial 297 finished with value: 0.5196000418700377 and parameters: {'n_neighbors': 186, 'dim_reduction': 'pca', 'pca_solver': 'arpack', 'pca_components': 13, 'resolution': 0.10055360242130615, 'method': 'louvain', 'dist_metric': 'euclidean', 'louv_clustering_imp': 'vtraag', 'leid_clustering_imp': 'igraph'}. Best is trial 190 with value: 0.547811394867538.\n",
      "[I 2025-09-11 21:17:11,546] Trial 298 finished with value: 0.5057302280311499 and parameters: {'n_neighbors': 172, 'dim_reduction': 'pca', 'pca_solver': 'arpack', 'pca_components': 13, 'resolution': 0.14287842511925583, 'method': 'louvain', 'dist_metric': 'euclidean', 'louv_clustering_imp': 'vtraag', 'leid_clustering_imp': 'igraph'}. Best is trial 190 with value: 0.547811394867538.\n",
      "[I 2025-09-11 21:17:14,790] Trial 299 finished with value: 0.5063487893895193 and parameters: {'n_neighbors': 195, 'dim_reduction': 'pca', 'pca_solver': 'auto', 'pca_components': 13, 'resolution': 0.14388485693852085, 'method': 'louvain', 'dist_metric': 'euclidean', 'louv_clustering_imp': 'vtraag', 'leid_clustering_imp': 'igraph'}. Best is trial 190 with value: 0.547811394867538.\n",
      "[I 2025-09-11 21:17:24,031] Trial 300 finished with value: 0.5189041270213386 and parameters: {'n_neighbors': 194, 'dim_reduction': 'pca', 'pca_solver': 'auto', 'pca_components': 14, 'resolution': 0.19732441832996384, 'method': 'louvain', 'dist_metric': 'euclidean', 'louv_clustering_imp': 'vtraag', 'leid_clustering_imp': 'igraph'}. Best is trial 190 with value: 0.547811394867538.\n",
      "[I 2025-09-11 21:17:24,059] Trial 301 finished with value: 0.5063487893895193 and parameters: {'n_neighbors': 195, 'dim_reduction': 'pca', 'pca_solver': 'auto', 'pca_components': 14, 'resolution': 0.14189169777769786, 'method': 'louvain', 'dist_metric': 'euclidean', 'louv_clustering_imp': 'vtraag', 'leid_clustering_imp': 'igraph'}. Best is trial 190 with value: 0.547811394867538.\n",
      "[I 2025-09-11 21:19:11,811] Trial 302 finished with value: 0.5007757715522064 and parameters: {'n_neighbors': 195, 'dim_reduction': 'pca', 'pca_solver': 'auto', 'pca_components': 14, 'resolution': 1.61233992971062, 'method': 'louvain', 'dist_metric': 'euclidean', 'louv_clustering_imp': 'vtraag', 'leid_clustering_imp': 'igraph'}. Best is trial 190 with value: 0.547811394867538.\n",
      "[I 2025-09-11 21:19:17,763] Trial 304 finished with value: 0.5162291630569069 and parameters: {'n_neighbors': 192, 'dim_reduction': 'pca', 'pca_solver': 'auto', 'pca_components': 15, 'resolution': 0.2009287299744188, 'method': 'louvain', 'dist_metric': 'euclidean', 'louv_clustering_imp': 'vtraag', 'leid_clustering_imp': 'igraph'}. Best is trial 190 with value: 0.547811394867538.\n",
      "[I 2025-09-11 21:19:20,597] Trial 303 finished with value: 0.515128230563872 and parameters: {'n_neighbors': 195, 'dim_reduction': 'pca', 'pca_solver': 'auto', 'pca_components': 14, 'resolution': 0.20552802444836338, 'method': 'louvain', 'dist_metric': 'euclidean', 'louv_clustering_imp': 'vtraag', 'leid_clustering_imp': 'igraph'}. Best is trial 190 with value: 0.547811394867538.\n",
      "[I 2025-09-11 21:19:26,781] Trial 305 finished with value: 0.5249924622165106 and parameters: {'n_neighbors': 191, 'dim_reduction': 'pca', 'pca_solver': 'arpack', 'pca_components': 15, 'resolution': 0.19830726059823017, 'method': 'louvain', 'dist_metric': 'euclidean', 'louv_clustering_imp': 'vtraag', 'leid_clustering_imp': 'igraph'}. Best is trial 190 with value: 0.547811394867538.\n",
      "[I 2025-09-11 21:19:27,328] Trial 306 finished with value: 0.5245016465578506 and parameters: {'n_neighbors': 178, 'dim_reduction': 'pca', 'pca_solver': 'arpack', 'pca_components': 15, 'resolution': 0.19927564222702387, 'method': 'louvain', 'dist_metric': 'euclidean', 'louv_clustering_imp': 'vtraag', 'leid_clustering_imp': 'igraph'}. Best is trial 190 with value: 0.547811394867538.\n",
      "[I 2025-09-11 21:19:46,325] Trial 308 finished with value: 0.5024751132192681 and parameters: {'n_neighbors': 57, 'dim_reduction': 'pca', 'pca_solver': 'arpack', 'pca_components': 12, 'resolution': 0.16688490024548502, 'method': 'louvain', 'dist_metric': 'euclidean', 'louv_clustering_imp': 'vtraag', 'leid_clustering_imp': 'igraph'}. Best is trial 190 with value: 0.547811394867538.\n",
      "[I 2025-09-11 21:19:51,522] Trial 312 finished with value: -1.0 and parameters: {'n_neighbors': 182, 'dim_reduction': 'pca', 'pca_solver': 'arpack', 'pca_components': 10, 'resolution': 0.1374843037862604, 'method': 'louvain', 'dist_metric': 'cosine', 'louv_clustering_imp': 'vtraag', 'leid_clustering_imp': 'igraph'}. Best is trial 190 with value: 0.547811394867538.\n",
      "[I 2025-09-11 21:21:07,066] Trial 307 finished with value: 0.5170539173207985 and parameters: {'n_neighbors': 179, 'dim_reduction': 'pca', 'pca_solver': 'arpack', 'pca_components': 12, 'resolution': 0.19933435424400758, 'method': 'louvain', 'dist_metric': 'euclidean', 'louv_clustering_imp': 'vtraag', 'leid_clustering_imp': 'igraph'}. Best is trial 190 with value: 0.547811394867538.\n",
      "[I 2025-09-11 21:21:19,867] Trial 309 finished with value: 0.5191351102055484 and parameters: {'n_neighbors': 178, 'dim_reduction': 'pca', 'pca_solver': 'arpack', 'pca_components': 12, 'resolution': 0.16640555311586908, 'method': 'louvain', 'dist_metric': 'euclidean', 'louv_clustering_imp': 'vtraag', 'leid_clustering_imp': 'igraph'}. Best is trial 190 with value: 0.547811394867538.\n",
      "[I 2025-09-11 21:21:27,406] Trial 310 finished with value: 0.5191351102055484 and parameters: {'n_neighbors': 178, 'dim_reduction': 'pca', 'pca_solver': 'arpack', 'pca_components': 12, 'resolution': 0.162462453470029, 'method': 'louvain', 'dist_metric': 'euclidean', 'louv_clustering_imp': 'vtraag', 'leid_clustering_imp': 'igraph'}. Best is trial 190 with value: 0.547811394867538.\n",
      "[I 2025-09-11 21:21:28,785] Trial 311 finished with value: 0.5450384826304095 and parameters: {'n_neighbors': 182, 'dim_reduction': 'pca', 'pca_solver': 'arpack', 'pca_components': 12, 'resolution': 0.1008191865195635, 'method': 'louvain', 'dist_metric': 'euclidean', 'louv_clustering_imp': 'vtraag', 'leid_clustering_imp': 'igraph'}. Best is trial 190 with value: 0.547811394867538.\n",
      "[I 2025-09-11 21:21:35,594] Trial 313 finished with value: 0.5378572006598661 and parameters: {'n_neighbors': 190, 'dim_reduction': 'pca', 'pca_solver': 'arpack', 'pca_components': 12, 'resolution': 0.10067993045868187, 'method': 'louvain', 'dist_metric': 'euclidean', 'louv_clustering_imp': 'vtraag', 'leid_clustering_imp': 'igraph'}. Best is trial 190 with value: 0.547811394867538.\n",
      "[I 2025-09-11 21:23:21,345] Trial 314 finished with value: 0.5175508758978188 and parameters: {'n_neighbors': 191, 'dim_reduction': 'pca', 'pca_solver': 'arpack', 'pca_components': 10, 'resolution': 0.13714323147048815, 'method': 'louvain', 'dist_metric': 'euclidean', 'louv_clustering_imp': 'vtraag', 'leid_clustering_imp': 'igraph'}. Best is trial 190 with value: 0.547811394867538.\n",
      "[I 2025-09-11 21:23:23,251] Trial 315 finished with value: 0.5155785146638161 and parameters: {'n_neighbors': 191, 'dim_reduction': 'pca', 'pca_solver': 'arpack', 'pca_components': 10, 'resolution': 0.10006615154451969, 'method': 'louvain', 'dist_metric': 'euclidean', 'louv_clustering_imp': 'vtraag', 'leid_clustering_imp': 'igraph'}. Best is trial 190 with value: 0.547811394867538.\n",
      "[I 2025-09-11 21:23:24,580] Trial 316 finished with value: 0.5332143545226167 and parameters: {'n_neighbors': 189, 'dim_reduction': 'pca', 'pca_solver': 'arpack', 'pca_components': 10, 'resolution': 0.10154415426425246, 'method': 'louvain', 'dist_metric': 'euclidean', 'louv_clustering_imp': 'vtraag', 'leid_clustering_imp': 'igraph'}. Best is trial 190 with value: 0.547811394867538.\n",
      "[I 2025-09-11 21:23:35,103] Trial 317 finished with value: 0.5378572006598661 and parameters: {'n_neighbors': 190, 'dim_reduction': 'pca', 'pca_solver': 'arpack', 'pca_components': 10, 'resolution': 0.10049913344153868, 'method': 'louvain', 'dist_metric': 'euclidean', 'louv_clustering_imp': 'vtraag', 'leid_clustering_imp': 'igraph'}. Best is trial 190 with value: 0.547811394867538.\n",
      "[I 2025-09-11 21:23:35,947] Trial 318 finished with value: 0.5185273000916868 and parameters: {'n_neighbors': 183, 'dim_reduction': 'pca', 'pca_solver': 'arpack', 'pca_components': 33, 'resolution': 0.10078877910429626, 'method': 'louvain', 'dist_metric': 'euclidean', 'louv_clustering_imp': 'vtraag', 'leid_clustering_imp': 'igraph'}. Best is trial 190 with value: 0.547811394867538.\n",
      "[I 2025-09-11 21:25:23,630] Trial 320 finished with value: 0.5259938773970437 and parameters: {'n_neighbors': 183, 'dim_reduction': 'pca', 'pca_solver': 'arpack', 'pca_components': 12, 'resolution': 0.127720284527263, 'method': 'louvain', 'dist_metric': 'euclidean', 'louv_clustering_imp': 'vtraag', 'leid_clustering_imp': 'igraph'}. Best is trial 190 with value: 0.547811394867538.\n",
      "[I 2025-09-11 21:25:24,796] Trial 319 finished with value: 0.5450384826304095 and parameters: {'n_neighbors': 182, 'dim_reduction': 'pca', 'pca_solver': 'arpack', 'pca_components': 17, 'resolution': 0.10358077134926869, 'method': 'louvain', 'dist_metric': 'euclidean', 'louv_clustering_imp': 'vtraag', 'leid_clustering_imp': 'igraph'}. Best is trial 190 with value: 0.547811394867538.\n",
      "[I 2025-09-11 21:25:29,381] Trial 321 finished with value: 0.5185273000916868 and parameters: {'n_neighbors': 183, 'dim_reduction': 'pca', 'pca_solver': 'arpack', 'pca_components': 16, 'resolution': 0.10408469081016115, 'method': 'louvain', 'dist_metric': 'euclidean', 'louv_clustering_imp': 'vtraag', 'leid_clustering_imp': 'igraph'}. Best is trial 190 with value: 0.547811394867538.\n",
      "[I 2025-09-11 21:25:31,354] Trial 322 finished with value: 0.5185273000916868 and parameters: {'n_neighbors': 183, 'dim_reduction': 'pca', 'pca_solver': 'auto', 'pca_components': 12, 'resolution': 0.10119390129624213, 'method': 'louvain', 'dist_metric': 'euclidean', 'louv_clustering_imp': 'vtraag', 'leid_clustering_imp': 'igraph'}. Best is trial 190 with value: 0.547811394867538.\n",
      "[I 2025-09-11 21:25:33,867] Trial 323 finished with value: 0.5185273000916868 and parameters: {'n_neighbors': 183, 'dim_reduction': 'pca', 'pca_solver': 'auto', 'pca_components': 12, 'resolution': 0.10381655846467473, 'method': 'louvain', 'dist_metric': 'euclidean', 'louv_clustering_imp': 'vtraag', 'leid_clustering_imp': 'igraph'}. Best is trial 190 with value: 0.547811394867538.\n"
     ]
    },
    {
     "name": "stderr",
     "output_type": "stream",
     "text": [
      "`resolution` parameter has no effect for flavor \"igraph\"\n",
      "`resolution` parameter has no effect for flavor \"igraph\"\n"
     ]
    },
    {
     "name": "stdout",
     "output_type": "stream",
     "text": [
      "[I 2025-09-11 21:27:10,800] Trial 325 finished with value: 0.5193762031055451 and parameters: {'n_neighbors': 171, 'dim_reduction': 'pca', 'pca_solver': 'auto', 'pca_components': 17, 'resolution': 0.10188935445890612, 'method': 'louvain', 'dist_metric': 'euclidean', 'louv_clustering_imp': 'vtraag', 'leid_clustering_imp': 'igraph'}. Best is trial 190 with value: 0.547811394867538.\n",
      "[I 2025-09-11 21:27:14,798] Trial 324 finished with value: 0.5185273000916868 and parameters: {'n_neighbors': 183, 'dim_reduction': 'pca', 'pca_solver': 'auto', 'pca_components': 12, 'resolution': 0.10132987724291216, 'method': 'louvain', 'dist_metric': 'euclidean', 'louv_clustering_imp': 'vtraag', 'leid_clustering_imp': 'igraph'}. Best is trial 190 with value: 0.547811394867538.\n",
      "[I 2025-09-11 21:27:23,585] Trial 328 finished with value: 0.49667396986311696 and parameters: {'n_neighbors': 177, 'dim_reduction': 'pca', 'pca_solver': 'arpack', 'pca_components': 10, 'resolution': 0.132369391448073, 'method': 'louvain', 'dist_metric': 'euclidean', 'louv_clustering_imp': 'igraph', 'leid_clustering_imp': 'igraph'}. Best is trial 190 with value: 0.547811394867538.\n",
      "[I 2025-09-11 21:27:26,427] Trial 327 finished with value: 0.4950566830520617 and parameters: {'n_neighbors': 173, 'dim_reduction': 'pca', 'pca_solver': 'auto', 'pca_components': 10, 'resolution': 0.1001223142824013, 'method': 'louvain', 'dist_metric': 'euclidean', 'louv_clustering_imp': 'igraph', 'leid_clustering_imp': 'igraph'}. Best is trial 190 with value: 0.547811394867538.\n",
      "[I 2025-09-11 21:27:29,356] Trial 326 finished with value: 0.5092814297479422 and parameters: {'n_neighbors': 175, 'dim_reduction': 'pca', 'pca_solver': 'auto', 'pca_components': 11, 'resolution': 0.10521579817715807, 'method': 'louvain', 'dist_metric': 'euclidean', 'louv_clustering_imp': 'vtraag', 'leid_clustering_imp': 'igraph'}. Best is trial 190 with value: 0.547811394867538.\n",
      "[I 2025-09-11 21:27:35,598] Trial 331 finished with value: -1.0 and parameters: {'n_neighbors': 188, 'dim_reduction': 'pca', 'pca_solver': 'arpack', 'pca_components': 10, 'resolution': 0.13783181570804157, 'method': 'louvain', 'dist_metric': 'cosine', 'louv_clustering_imp': 'vtraag', 'leid_clustering_imp': 'igraph'}. Best is trial 190 with value: 0.547811394867538.\n",
      "[I 2025-09-11 21:27:38,856] Trial 332 finished with value: -1.0 and parameters: {'n_neighbors': 188, 'dim_reduction': 'pca', 'pca_solver': 'arpack', 'pca_components': 11, 'resolution': 0.14269234292116456, 'method': 'leiden', 'dist_metric': 'cosine', 'louv_clustering_imp': 'vtraag', 'leid_clustering_imp': 'igraph'}. Best is trial 190 with value: 0.547811394867538.\n"
     ]
    },
    {
     "name": "stderr",
     "output_type": "stream",
     "text": [
      "`resolution` parameter has no effect for flavor \"igraph\"\n"
     ]
    },
    {
     "name": "stdout",
     "output_type": "stream",
     "text": [
      "[I 2025-09-11 21:28:22,096] Trial 329 finished with value: 0.5038341411542591 and parameters: {'n_neighbors': 188, 'dim_reduction': 'pca', 'pca_solver': 'arpack', 'pca_components': 10, 'resolution': 0.10100667374249128, 'method': 'louvain', 'dist_metric': 'euclidean', 'louv_clustering_imp': 'igraph', 'leid_clustering_imp': 'igraph'}. Best is trial 190 with value: 0.547811394867538.\n",
      "[I 2025-09-11 21:28:46,500] Trial 330 finished with value: 0.5221541462491333 and parameters: {'n_neighbors': 174, 'dim_reduction': 'pca', 'pca_solver': 'arpack', 'pca_components': 10, 'resolution': 0.13574921440950075, 'method': 'louvain', 'dist_metric': 'euclidean', 'louv_clustering_imp': 'vtraag', 'leid_clustering_imp': 'igraph'}. Best is trial 190 with value: 0.547811394867538.\n",
      "[I 2025-09-11 21:29:20,146] Trial 333 finished with value: 0.49476871531136124 and parameters: {'n_neighbors': 188, 'dim_reduction': 'pca', 'pca_solver': 'arpack', 'pca_components': 17, 'resolution': 0.14498952736944196, 'method': 'leiden', 'dist_metric': 'euclidean', 'louv_clustering_imp': 'vtraag', 'leid_clustering_imp': 'igraph'}. Best is trial 190 with value: 0.547811394867538.\n",
      "[I 2025-09-11 21:29:25,083] Trial 335 finished with value: 0.5216394855214688 and parameters: {'n_neighbors': 180, 'dim_reduction': 'pca', 'pca_solver': 'arpack', 'pca_components': 17, 'resolution': 0.15170238691597693, 'method': 'louvain', 'dist_metric': 'euclidean', 'louv_clustering_imp': 'vtraag', 'leid_clustering_imp': 'igraph'}. Best is trial 190 with value: 0.547811394867538.\n",
      "[I 2025-09-11 21:29:27,125] Trial 334 finished with value: 0.5063392910157503 and parameters: {'n_neighbors': 188, 'dim_reduction': 'pca', 'pca_solver': 'arpack', 'pca_components': 12, 'resolution': 0.1473059256878335, 'method': 'louvain', 'dist_metric': 'euclidean', 'louv_clustering_imp': 'vtraag', 'leid_clustering_imp': 'igraph'}. Best is trial 190 with value: 0.547811394867538.\n",
      "[I 2025-09-11 21:30:04,476] Trial 336 finished with value: 0.48710950643526923 and parameters: {'n_neighbors': 181, 'dim_reduction': 'pca', 'pca_solver': 'arpack', 'pca_components': 17, 'resolution': 0.1664138427363842, 'method': 'louvain', 'dist_metric': 'euclidean', 'louv_clustering_imp': 'vtraag', 'leid_clustering_imp': 'igraph'}. Best is trial 190 with value: 0.547811394867538.\n",
      "[I 2025-09-11 21:30:56,973] Trial 340 finished with value: 0.5136491889974963 and parameters: {'n_neighbors': 99, 'dim_reduction': 'pca', 'pca_solver': 'arpack', 'pca_components': 14, 'resolution': 0.1679843344121556, 'method': 'louvain', 'dist_metric': 'euclidean', 'louv_clustering_imp': 'vtraag', 'leid_clustering_imp': 'igraph'}. Best is trial 190 with value: 0.547811394867538.\n",
      "[I 2025-09-11 21:31:03,788] Trial 337 finished with value: 0.48710950643526923 and parameters: {'n_neighbors': 181, 'dim_reduction': 'pca', 'pca_solver': 'arpack', 'pca_components': 17, 'resolution': 0.1651493533165032, 'method': 'louvain', 'dist_metric': 'euclidean', 'louv_clustering_imp': 'vtraag', 'leid_clustering_imp': 'igraph'}. Best is trial 190 with value: 0.547811394867538.\n",
      "[I 2025-09-11 21:31:04,939] Trial 338 finished with value: 0.521203339695094 and parameters: {'n_neighbors': 180, 'dim_reduction': 'pca', 'pca_solver': 'arpack', 'pca_components': 13, 'resolution': 0.1644911146362516, 'method': 'louvain', 'dist_metric': 'euclidean', 'louv_clustering_imp': 'vtraag', 'leid_clustering_imp': 'igraph'}. Best is trial 190 with value: 0.547811394867538.\n",
      "[I 2025-09-11 21:31:15,800] Trial 339 finished with value: 0.5211569578237458 and parameters: {'n_neighbors': 185, 'dim_reduction': 'pca', 'pca_solver': 'arpack', 'pca_components': 13, 'resolution': 0.16520191219527197, 'method': 'louvain', 'dist_metric': 'euclidean', 'louv_clustering_imp': 'vtraag', 'leid_clustering_imp': 'igraph'}. Best is trial 190 with value: 0.547811394867538.\n",
      "[I 2025-09-11 21:31:37,786] Trial 341 finished with value: 0.5162236485328727 and parameters: {'n_neighbors': 185, 'dim_reduction': 'pca', 'pca_solver': 'arpack', 'pca_components': 14, 'resolution': 0.10094136737813807, 'method': 'louvain', 'dist_metric': 'euclidean', 'louv_clustering_imp': 'vtraag', 'leid_clustering_imp': 'igraph'}. Best is trial 190 with value: 0.547811394867538.\n",
      "[I 2025-09-11 21:31:45,311] Trial 345 finished with value: 0.5079507648183612 and parameters: {'n_neighbors': 27, 'dim_reduction': 'pca', 'pca_solver': 'auto', 'pca_components': 100, 'resolution': 0.13071762522784738, 'method': 'louvain', 'dist_metric': 'euclidean', 'louv_clustering_imp': 'vtraag', 'leid_clustering_imp': 'igraph'}. Best is trial 190 with value: 0.547811394867538.\n",
      "[I 2025-09-11 21:32:52,470] Trial 342 finished with value: 0.513281269116088 and parameters: {'n_neighbors': 167, 'dim_reduction': 'pca', 'pca_solver': 'arpack', 'pca_components': 13, 'resolution': 0.13287187811010337, 'method': 'louvain', 'dist_metric': 'euclidean', 'louv_clustering_imp': 'vtraag', 'leid_clustering_imp': 'igraph'}. Best is trial 190 with value: 0.547811394867538.\n",
      "[I 2025-09-11 21:33:01,830] Trial 343 finished with value: 0.5162236485328727 and parameters: {'n_neighbors': 185, 'dim_reduction': 'pca', 'pca_solver': 'arpack', 'pca_components': 13, 'resolution': 0.10196422582617201, 'method': 'louvain', 'dist_metric': 'euclidean', 'louv_clustering_imp': 'vtraag', 'leid_clustering_imp': 'igraph'}. Best is trial 190 with value: 0.547811394867538.\n",
      "[I 2025-09-11 21:33:16,721] Trial 344 finished with value: 0.5117791433835919 and parameters: {'n_neighbors': 184, 'dim_reduction': 'pca', 'pca_solver': 'arpack', 'pca_components': 12, 'resolution': 0.10290550741655563, 'method': 'louvain', 'dist_metric': 'euclidean', 'louv_clustering_imp': 'vtraag', 'leid_clustering_imp': 'igraph'}. Best is trial 190 with value: 0.547811394867538.\n",
      "[I 2025-09-11 21:33:26,547] Trial 347 finished with value: 0.5378572006598661 and parameters: {'n_neighbors': 190, 'dim_reduction': 'pca', 'pca_solver': 'arpack', 'pca_components': 12, 'resolution': 0.10054936987106249, 'method': 'louvain', 'dist_metric': 'euclidean', 'louv_clustering_imp': 'vtraag', 'leid_clustering_imp': 'igraph'}. Best is trial 190 with value: 0.547811394867538.\n",
      "[I 2025-09-11 21:33:28,178] Trial 346 finished with value: 0.5220676895588984 and parameters: {'n_neighbors': 190, 'dim_reduction': 'pca', 'pca_solver': 'auto', 'pca_components': 12, 'resolution': 0.13401935875536033, 'method': 'louvain', 'dist_metric': 'euclidean', 'louv_clustering_imp': 'vtraag', 'leid_clustering_imp': 'igraph'}. Best is trial 190 with value: 0.547811394867538.\n",
      "[I 2025-09-11 21:35:20,620] Trial 350 finished with value: 0.5249924622165106 and parameters: {'n_neighbors': 191, 'dim_reduction': 'pca', 'pca_solver': 'auto', 'pca_components': 10, 'resolution': 0.1971908851448166, 'method': 'louvain', 'dist_metric': 'euclidean', 'louv_clustering_imp': 'vtraag', 'leid_clustering_imp': 'igraph'}. Best is trial 190 with value: 0.547811394867538.\n",
      "[I 2025-09-11 21:35:20,962] Trial 348 finished with value: 0.5171179213766749 and parameters: {'n_neighbors': 190, 'dim_reduction': 'pca', 'pca_solver': 'auto', 'pca_components': 12, 'resolution': 0.20231667680761378, 'method': 'louvain', 'dist_metric': 'euclidean', 'louv_clustering_imp': 'vtraag', 'leid_clustering_imp': 'igraph'}. Best is trial 190 with value: 0.547811394867538.\n",
      "[I 2025-09-11 21:35:25,236] Trial 349 finished with value: 0.5378572006598661 and parameters: {'n_neighbors': 190, 'dim_reduction': 'pca', 'pca_solver': 'auto', 'pca_components': 15, 'resolution': 0.10106117787991754, 'method': 'louvain', 'dist_metric': 'euclidean', 'louv_clustering_imp': 'vtraag', 'leid_clustering_imp': 'igraph'}. Best is trial 190 with value: 0.547811394867538.\n",
      "[I 2025-09-11 21:35:27,367] Trial 352 finished with value: 0.5171179213766749 and parameters: {'n_neighbors': 190, 'dim_reduction': 'pca', 'pca_solver': 'arpack', 'pca_components': 10, 'resolution': 0.20118669899951536, 'method': 'louvain', 'dist_metric': 'euclidean', 'louv_clustering_imp': 'vtraag', 'leid_clustering_imp': 'igraph'}. Best is trial 190 with value: 0.547811394867538.\n",
      "[I 2025-09-11 21:35:31,901] Trial 351 finished with value: 0.5212339526557696 and parameters: {'n_neighbors': 190, 'dim_reduction': 'pca', 'pca_solver': 'arpack', 'pca_components': 10, 'resolution': 0.20763613908119066, 'method': 'louvain', 'dist_metric': 'euclidean', 'louv_clustering_imp': 'vtraag', 'leid_clustering_imp': 'igraph'}. Best is trial 190 with value: 0.547811394867538.\n",
      "[I 2025-09-11 21:37:19,007] Trial 353 finished with value: 0.5267564171453826 and parameters: {'n_neighbors': 176, 'dim_reduction': 'pca', 'pca_solver': 'arpack', 'pca_components': 16, 'resolution': 0.20652751169744238, 'method': 'louvain', 'dist_metric': 'euclidean', 'louv_clustering_imp': 'vtraag', 'leid_clustering_imp': 'igraph'}. Best is trial 190 with value: 0.547811394867538.\n",
      "[I 2025-09-11 21:37:23,418] Trial 354 finished with value: 0.5056479804438294 and parameters: {'n_neighbors': 177, 'dim_reduction': 'pca', 'pca_solver': 'arpack', 'pca_components': 15, 'resolution': 0.1317992588093578, 'method': 'louvain', 'dist_metric': 'euclidean', 'louv_clustering_imp': 'vtraag', 'leid_clustering_imp': 'igraph'}. Best is trial 190 with value: 0.547811394867538.\n",
      "[I 2025-09-11 21:37:24,617] Trial 357 finished with value: 0.5056479804438294 and parameters: {'n_neighbors': 177, 'dim_reduction': 'pca', 'pca_solver': 'arpack', 'pca_components': 16, 'resolution': 0.140357611453585, 'method': 'louvain', 'dist_metric': 'euclidean', 'louv_clustering_imp': 'vtraag', 'leid_clustering_imp': 'igraph'}. Best is trial 190 with value: 0.547811394867538.\n",
      "[I 2025-09-11 21:37:33,208] Trial 356 finished with value: 0.5191351102055484 and parameters: {'n_neighbors': 178, 'dim_reduction': 'pca', 'pca_solver': 'randomized', 'pca_components': 15, 'resolution': 0.13813421107207807, 'method': 'louvain', 'dist_metric': 'euclidean', 'louv_clustering_imp': 'vtraag', 'leid_clustering_imp': 'igraph'}. Best is trial 190 with value: 0.547811394867538.\n",
      "[I 2025-09-11 21:37:37,346] Trial 355 finished with value: 0.5169921234414241 and parameters: {'n_neighbors': 178, 'dim_reduction': 'pca', 'pca_solver': 'arpack', 'pca_components': 15, 'resolution': 0.171553574311791, 'method': 'louvain', 'dist_metric': 'euclidean', 'louv_clustering_imp': 'vtraag', 'leid_clustering_imp': 'igraph'}. Best is trial 190 with value: 0.547811394867538.\n",
      "[I 2025-09-11 21:38:51,991] Trial 358 finished with value: 0.5117423484688297 and parameters: {'n_neighbors': 180, 'dim_reduction': 'pca', 'pca_solver': 'randomized', 'pca_components': 19, 'resolution': 0.13536355197160949, 'method': 'louvain', 'dist_metric': 'euclidean', 'louv_clustering_imp': 'vtraag', 'leid_clustering_imp': 'igraph'}. Best is trial 190 with value: 0.547811394867538.\n",
      "[I 2025-09-11 21:39:21,240] Trial 360 finished with value: 0.5178004172046063 and parameters: {'n_neighbors': 186, 'dim_reduction': 'pca', 'pca_solver': 'arpack', 'pca_components': 15, 'resolution': 0.1732752152461997, 'method': 'louvain', 'dist_metric': 'euclidean', 'louv_clustering_imp': 'vtraag', 'leid_clustering_imp': 'igraph'}. Best is trial 190 with value: 0.547811394867538.\n",
      "[I 2025-09-11 21:39:26,765] Trial 359 finished with value: 0.5060212679013689 and parameters: {'n_neighbors': 186, 'dim_reduction': 'pca', 'pca_solver': 'arpack', 'pca_components': 15, 'resolution': 0.16689446829566795, 'method': 'louvain', 'dist_metric': 'euclidean', 'louv_clustering_imp': 'vtraag', 'leid_clustering_imp': 'igraph'}. Best is trial 190 with value: 0.547811394867538.\n",
      "[I 2025-09-11 21:39:27,916] Trial 362 finished with value: 0.5211569578237458 and parameters: {'n_neighbors': 185, 'dim_reduction': 'pca', 'pca_solver': 'arpack', 'pca_components': 11, 'resolution': 0.17306512101501317, 'method': 'louvain', 'dist_metric': 'euclidean', 'louv_clustering_imp': 'vtraag', 'leid_clustering_imp': 'igraph'}. Best is trial 190 with value: 0.547811394867538.\n",
      "[I 2025-09-11 21:39:31,738] Trial 361 finished with value: 0.5178004172046063 and parameters: {'n_neighbors': 186, 'dim_reduction': 'pca', 'pca_solver': 'arpack', 'pca_components': 19, 'resolution': 0.17199604435808655, 'method': 'louvain', 'dist_metric': 'euclidean', 'louv_clustering_imp': 'vtraag', 'leid_clustering_imp': 'igraph'}. Best is trial 190 with value: 0.547811394867538.\n",
      "[I 2025-09-11 21:41:08,734] Trial 363 finished with value: 0.5196000418700377 and parameters: {'n_neighbors': 186, 'dim_reduction': 'pca', 'pca_solver': 'arpack', 'pca_components': 11, 'resolution': 0.10194577294530853, 'method': 'louvain', 'dist_metric': 'euclidean', 'louv_clustering_imp': 'vtraag', 'leid_clustering_imp': 'igraph'}. Best is trial 190 with value: 0.547811394867538.\n",
      "[I 2025-09-11 21:41:18,958] Trial 364 finished with value: 0.5162236485328727 and parameters: {'n_neighbors': 185, 'dim_reduction': 'pca', 'pca_solver': 'arpack', 'pca_components': 11, 'resolution': 0.10330377861497643, 'method': 'louvain', 'dist_metric': 'euclidean', 'louv_clustering_imp': 'vtraag', 'leid_clustering_imp': 'igraph'}. Best is trial 190 with value: 0.547811394867538.\n",
      "[I 2025-09-11 21:41:19,523] Trial 365 finished with value: 0.5012210505002052 and parameters: {'n_neighbors': 183, 'dim_reduction': 'pca', 'pca_solver': 'auto', 'pca_components': 11, 'resolution': 0.7974015991990423, 'method': 'louvain', 'dist_metric': 'euclidean', 'louv_clustering_imp': 'vtraag', 'leid_clustering_imp': 'igraph'}. Best is trial 190 with value: 0.547811394867538.\n",
      "[I 2025-09-11 21:41:26,362] Trial 367 finished with value: 0.5126155128525972 and parameters: {'n_neighbors': 182, 'dim_reduction': 'pca', 'pca_solver': 'auto', 'pca_components': 11, 'resolution': 1.1623330524553928, 'method': 'louvain', 'dist_metric': 'euclidean', 'louv_clustering_imp': 'vtraag', 'leid_clustering_imp': 'igraph'}. Best is trial 190 with value: 0.547811394867538.\n",
      "[I 2025-09-11 21:41:26,612] Trial 366 finished with value: 0.5450384826304095 and parameters: {'n_neighbors': 182, 'dim_reduction': 'pca', 'pca_solver': 'auto', 'pca_components': 12, 'resolution': 0.10347658204910656, 'method': 'louvain', 'dist_metric': 'euclidean', 'louv_clustering_imp': 'vtraag', 'leid_clustering_imp': 'igraph'}. Best is trial 190 with value: 0.547811394867538.\n",
      "[I 2025-09-11 21:41:31,474] Trial 370 finished with value: -1.0 and parameters: {'n_neighbors': 191, 'dim_reduction': 'pca', 'pca_solver': 'auto', 'pca_components': 13, 'resolution': 0.14351906831047234, 'method': 'louvain', 'dist_metric': 'cosine', 'louv_clustering_imp': 'vtraag', 'leid_clustering_imp': 'igraph'}. Best is trial 190 with value: 0.547811394867538.\n",
      "[I 2025-09-11 21:41:37,133] Trial 371 finished with value: -1.0 and parameters: {'n_neighbors': 192, 'dim_reduction': 'pca', 'pca_solver': 'arpack', 'pca_components': 13, 'resolution': 0.10020626677526398, 'method': 'leiden', 'dist_metric': 'cosine', 'louv_clustering_imp': 'vtraag', 'leid_clustering_imp': 'igraph'}. Best is trial 190 with value: 0.547811394867538.\n",
      "[I 2025-09-11 21:41:38,931] Trial 372 finished with value: -1.0 and parameters: {'n_neighbors': 170, 'dim_reduction': 'pca', 'pca_solver': 'auto', 'pca_components': 10, 'resolution': 0.10052138527413353, 'method': 'leiden', 'dist_metric': 'cosine', 'louv_clustering_imp': 'vtraag', 'leid_clustering_imp': 'igraph'}. Best is trial 190 with value: 0.547811394867538.\n",
      "[I 2025-09-11 21:42:57,420] Trial 368 finished with value: 0.5450384826304095 and parameters: {'n_neighbors': 182, 'dim_reduction': 'pca', 'pca_solver': 'auto', 'pca_components': 12, 'resolution': 0.10053397800589847, 'method': 'louvain', 'dist_metric': 'euclidean', 'louv_clustering_imp': 'vtraag', 'leid_clustering_imp': 'igraph'}. Best is trial 190 with value: 0.547811394867538.\n",
      "[I 2025-09-11 21:43:01,826] Trial 375 finished with value: 0.5037896167288488 and parameters: {'n_neighbors': 72, 'dim_reduction': 'pca', 'pca_solver': 'auto', 'pca_components': 10, 'resolution': 0.13826495633709554, 'method': 'louvain', 'dist_metric': 'euclidean', 'louv_clustering_imp': 'vtraag', 'leid_clustering_imp': 'igraph'}. Best is trial 190 with value: 0.547811394867538.\n",
      "[I 2025-09-11 21:43:08,686] Trial 369 finished with value: 0.521117834272244 and parameters: {'n_neighbors': 182, 'dim_reduction': 'pca', 'pca_solver': 'auto', 'pca_components': 13, 'resolution': 0.1355563464216376, 'method': 'louvain', 'dist_metric': 'euclidean', 'louv_clustering_imp': 'vtraag', 'leid_clustering_imp': 'igraph'}. Best is trial 190 with value: 0.547811394867538.\n",
      "[I 2025-09-11 21:43:14,018] Trial 373 finished with value: 0.48500737978709507 and parameters: {'n_neighbors': 172, 'dim_reduction': 'pca', 'pca_solver': 'auto', 'pca_components': 10, 'resolution': 0.10006347269449097, 'method': 'leiden', 'dist_metric': 'euclidean', 'louv_clustering_imp': 'vtraag', 'leid_clustering_imp': 'igraph'}. Best is trial 190 with value: 0.547811394867538.\n",
      "[I 2025-09-11 21:43:14,861] Trial 374 finished with value: 0.5057302280311499 and parameters: {'n_neighbors': 172, 'dim_reduction': 'pca', 'pca_solver': 'auto', 'pca_components': 10, 'resolution': 0.1393767899098689, 'method': 'louvain', 'dist_metric': 'euclidean', 'louv_clustering_imp': 'vtraag', 'leid_clustering_imp': 'igraph'}. Best is trial 190 with value: 0.547811394867538.\n",
      "[I 2025-09-11 21:44:54,920] Trial 376 finished with value: 0.5221541462491333 and parameters: {'n_neighbors': 174, 'dim_reduction': 'pca', 'pca_solver': 'auto', 'pca_components': 14, 'resolution': 0.13635858280223262, 'method': 'louvain', 'dist_metric': 'euclidean', 'louv_clustering_imp': 'vtraag', 'leid_clustering_imp': 'igraph'}. Best is trial 190 with value: 0.547811394867538.\n",
      "[I 2025-09-11 21:44:58,528] Trial 377 finished with value: 0.513432587385848 and parameters: {'n_neighbors': 181, 'dim_reduction': 'pca', 'pca_solver': 'auto', 'pca_components': 14, 'resolution': 0.1372669163156302, 'method': 'louvain', 'dist_metric': 'euclidean', 'louv_clustering_imp': 'vtraag', 'leid_clustering_imp': 'igraph'}. Best is trial 190 with value: 0.547811394867538.\n",
      "[I 2025-09-11 21:45:01,736] Trial 378 finished with value: 0.5127882295506895 and parameters: {'n_neighbors': 173, 'dim_reduction': 'pca', 'pca_solver': 'auto', 'pca_components': 15, 'resolution': 0.13778891111606933, 'method': 'louvain', 'dist_metric': 'euclidean', 'louv_clustering_imp': 'vtraag', 'leid_clustering_imp': 'igraph'}. Best is trial 190 with value: 0.547811394867538.\n",
      "[I 2025-09-11 21:45:08,784] Trial 379 finished with value: 0.48710950643526923 and parameters: {'n_neighbors': 181, 'dim_reduction': 'pca', 'pca_solver': 'auto', 'pca_components': 16, 'resolution': 0.16497037158965824, 'method': 'louvain', 'dist_metric': 'euclidean', 'louv_clustering_imp': 'vtraag', 'leid_clustering_imp': 'igraph'}. Best is trial 190 with value: 0.547811394867538.\n",
      "[I 2025-09-11 21:45:12,759] Trial 380 finished with value: 0.5059245322173989 and parameters: {'n_neighbors': 180, 'dim_reduction': 'pca', 'pca_solver': 'auto', 'pca_components': 15, 'resolution': 1.2774707709298767, 'method': 'louvain', 'dist_metric': 'euclidean', 'louv_clustering_imp': 'vtraag', 'leid_clustering_imp': 'igraph'}. Best is trial 190 with value: 0.547811394867538.\n",
      "[I 2025-09-11 21:45:29,079] Trial 385 finished with value: 0.5028026924769838 and parameters: {'n_neighbors': 34, 'dim_reduction': 'pca', 'pca_solver': 'auto', 'pca_components': 18, 'resolution': 0.19576679303792038, 'method': 'louvain', 'dist_metric': 'euclidean', 'louv_clustering_imp': 'vtraag', 'leid_clustering_imp': 'igraph'}. Best is trial 190 with value: 0.547811394867538.\n"
     ]
    },
    {
     "name": "stderr",
     "output_type": "stream",
     "text": [
      "`resolution` parameter has no effect for flavor \"igraph\"\n",
      "`resolution` parameter has no effect for flavor \"igraph\"\n"
     ]
    },
    {
     "name": "stdout",
     "output_type": "stream",
     "text": [
      "[I 2025-09-11 21:46:34,724] Trial 381 finished with value: 0.5059288703008121 and parameters: {'n_neighbors': 180, 'dim_reduction': 'pca', 'pca_solver': 'auto', 'pca_components': 18, 'resolution': 1.3272578615489425, 'method': 'louvain', 'dist_metric': 'euclidean', 'louv_clustering_imp': 'vtraag', 'leid_clustering_imp': 'igraph'}. Best is trial 190 with value: 0.547811394867538.\n"
     ]
    },
    {
     "name": "stderr",
     "output_type": "stream",
     "text": [
      "`resolution` parameter has no effect for flavor \"igraph\"\n"
     ]
    },
    {
     "name": "stdout",
     "output_type": "stream",
     "text": [
      "[I 2025-09-11 21:46:53,747] Trial 382 finished with value: 0.5152726371438864 and parameters: {'n_neighbors': 180, 'dim_reduction': 'pca', 'pca_solver': 'auto', 'pca_components': 16, 'resolution': 0.18200583195278708, 'method': 'louvain', 'dist_metric': 'euclidean', 'louv_clustering_imp': 'vtraag', 'leid_clustering_imp': 'igraph'}. Best is trial 190 with value: 0.547811394867538.\n",
      "[I 2025-09-11 21:46:57,321] Trial 383 finished with value: 0.49352027247648833 and parameters: {'n_neighbors': 180, 'dim_reduction': 'pca', 'pca_solver': 'auto', 'pca_components': 17, 'resolution': 0.21910384879695316, 'method': 'louvain', 'dist_metric': 'euclidean', 'louv_clustering_imp': 'igraph', 'leid_clustering_imp': 'igraph'}. Best is trial 190 with value: 0.547811394867538.\n",
      "[I 2025-09-11 21:46:59,735] Trial 384 finished with value: 0.506668249446707 and parameters: {'n_neighbors': 178, 'dim_reduction': 'pca', 'pca_solver': 'auto', 'pca_components': 92, 'resolution': 0.2006569221617458, 'method': 'louvain', 'dist_metric': 'euclidean', 'louv_clustering_imp': 'igraph', 'leid_clustering_imp': 'igraph'}. Best is trial 190 with value: 0.547811394867538.\n",
      "[I 2025-09-11 21:47:06,467] Trial 386 finished with value: 0.5129530124133185 and parameters: {'n_neighbors': 188, 'dim_reduction': 'pca', 'pca_solver': 'auto', 'pca_components': 12, 'resolution': 0.17219743577224078, 'method': 'louvain', 'dist_metric': 'euclidean', 'louv_clustering_imp': 'igraph', 'leid_clustering_imp': 'igraph'}. Best is trial 190 with value: 0.547811394867538.\n"
     ]
    },
    {
     "name": "stderr",
     "output_type": "stream",
     "text": [
      "`resolution` parameter has no effect for flavor \"igraph\"\n"
     ]
    },
    {
     "name": "stdout",
     "output_type": "stream",
     "text": [
      "[I 2025-09-11 21:47:41,019] Trial 387 finished with value: 0.512666483985924 and parameters: {'n_neighbors': 188, 'dim_reduction': 'pca', 'pca_solver': 'auto', 'pca_components': 12, 'resolution': 0.22456931519232837, 'method': 'louvain', 'dist_metric': 'euclidean', 'louv_clustering_imp': 'igraph', 'leid_clustering_imp': 'igraph'}. Best is trial 190 with value: 0.547811394867538.\n"
     ]
    },
    {
     "name": "stderr",
     "output_type": "stream",
     "text": [
      "`resolution` parameter has no effect for flavor \"igraph\"\n"
     ]
    },
    {
     "name": "stdout",
     "output_type": "stream",
     "text": [
      "[I 2025-09-11 21:49:08,626] Trial 389 finished with value: 0.49108206458434617 and parameters: {'n_neighbors': 188, 'dim_reduction': 'pca', 'pca_solver': 'auto', 'pca_components': 12, 'resolution': 1.9937418148745798, 'method': 'louvain', 'dist_metric': 'euclidean', 'louv_clustering_imp': 'vtraag', 'leid_clustering_imp': 'igraph'}. Best is trial 190 with value: 0.547811394867538.\n",
      "[I 2025-09-11 21:49:11,378] Trial 390 finished with value: 0.49053855499937676 and parameters: {'n_neighbors': 188, 'dim_reduction': 'pca', 'pca_solver': 'auto', 'pca_components': 12, 'resolution': 0.1343038457062479, 'method': 'louvain', 'dist_metric': 'euclidean', 'louv_clustering_imp': 'vtraag', 'leid_clustering_imp': 'igraph'}. Best is trial 190 with value: 0.547811394867538.\n",
      "[I 2025-09-11 21:49:11,756] Trial 388 finished with value: 0.49344688286678595 and parameters: {'n_neighbors': 188, 'dim_reduction': 'pca', 'pca_solver': 'auto', 'pca_components': 12, 'resolution': 0.21780062422866836, 'method': 'louvain', 'dist_metric': 'euclidean', 'louv_clustering_imp': 'igraph', 'leid_clustering_imp': 'igraph'}. Best is trial 190 with value: 0.547811394867538.\n",
      "[I 2025-09-11 21:49:16,938] Trial 391 finished with value: 0.5265875714183613 and parameters: {'n_neighbors': 187, 'dim_reduction': 'pca', 'pca_solver': 'auto', 'pca_components': 23, 'resolution': 0.12835176253008926, 'method': 'louvain', 'dist_metric': 'euclidean', 'louv_clustering_imp': 'vtraag', 'leid_clustering_imp': 'igraph'}. Best is trial 190 with value: 0.547811394867538.\n",
      "[I 2025-09-11 21:49:25,917] Trial 392 finished with value: 0.5162236485328727 and parameters: {'n_neighbors': 185, 'dim_reduction': 'pca', 'pca_solver': 'auto', 'pca_components': 12, 'resolution': 0.101500889556407, 'method': 'louvain', 'dist_metric': 'euclidean', 'louv_clustering_imp': 'vtraag', 'leid_clustering_imp': 'igraph'}. Best is trial 190 with value: 0.547811394867538.\n",
      "[I 2025-09-11 21:51:06,094] Trial 394 finished with value: 0.4996629206745935 and parameters: {'n_neighbors': 184, 'dim_reduction': 'pca', 'pca_solver': 'arpack', 'pca_components': 14, 'resolution': 1.3840854103683837, 'method': 'louvain', 'dist_metric': 'euclidean', 'louv_clustering_imp': 'vtraag', 'leid_clustering_imp': 'igraph'}. Best is trial 190 with value: 0.547811394867538.\n",
      "[I 2025-09-11 21:51:06,551] Trial 393 finished with value: 0.5196000418700377 and parameters: {'n_neighbors': 186, 'dim_reduction': 'pca', 'pca_solver': 'auto', 'pca_components': 12, 'resolution': 0.13439652885435843, 'method': 'louvain', 'dist_metric': 'euclidean', 'louv_clustering_imp': 'vtraag', 'leid_clustering_imp': 'igraph'}. Best is trial 190 with value: 0.547811394867538.\n",
      "[I 2025-09-11 21:51:15,941] Trial 395 finished with value: 0.5185273000916868 and parameters: {'n_neighbors': 183, 'dim_reduction': 'pca', 'pca_solver': 'arpack', 'pca_components': 14, 'resolution': 0.10011686216667752, 'method': 'louvain', 'dist_metric': 'euclidean', 'louv_clustering_imp': 'vtraag', 'leid_clustering_imp': 'igraph'}. Best is trial 190 with value: 0.547811394867538.\n",
      "[I 2025-09-11 21:51:17,756] Trial 396 finished with value: 0.5051527037189821 and parameters: {'n_neighbors': 183, 'dim_reduction': 'pca', 'pca_solver': 'arpack', 'pca_components': 14, 'resolution': 0.16313607251394763, 'method': 'louvain', 'dist_metric': 'euclidean', 'louv_clustering_imp': 'vtraag', 'leid_clustering_imp': 'igraph'}. Best is trial 190 with value: 0.547811394867538.\n",
      "[I 2025-09-11 21:51:20,668] Trial 397 finished with value: 0.5003780156476361 and parameters: {'n_neighbors': 176, 'dim_reduction': 'pca', 'pca_solver': 'arpack', 'pca_components': 14, 'resolution': 1.7144953771297455, 'method': 'louvain', 'dist_metric': 'euclidean', 'louv_clustering_imp': 'vtraag', 'leid_clustering_imp': 'igraph'}. Best is trial 190 with value: 0.547811394867538.\n",
      "[I 2025-09-11 21:53:04,333] Trial 399 finished with value: 0.5092814297479422 and parameters: {'n_neighbors': 175, 'dim_reduction': 'pca', 'pca_solver': 'arpack', 'pca_components': 14, 'resolution': 0.10088578207374867, 'method': 'louvain', 'dist_metric': 'euclidean', 'louv_clustering_imp': 'vtraag', 'leid_clustering_imp': 'igraph'}. Best is trial 190 with value: 0.547811394867538.\n",
      "[I 2025-09-11 21:53:08,002] Trial 398 finished with value: 0.5069504837398421 and parameters: {'n_neighbors': 192, 'dim_reduction': 'pca', 'pca_solver': 'arpack', 'pca_components': 14, 'resolution': 0.1704553850579213, 'method': 'louvain', 'dist_metric': 'euclidean', 'louv_clustering_imp': 'vtraag', 'leid_clustering_imp': 'igraph'}. Best is trial 190 with value: 0.547811394867538.\n",
      "[I 2025-09-11 21:53:12,591] Trial 400 finished with value: 0.5003780156476361 and parameters: {'n_neighbors': 176, 'dim_reduction': 'pca', 'pca_solver': 'randomized', 'pca_components': 10, 'resolution': 1.7117357331965173, 'method': 'louvain', 'dist_metric': 'euclidean', 'louv_clustering_imp': 'vtraag', 'leid_clustering_imp': 'igraph'}. Best is trial 190 with value: 0.547811394867538.\n",
      "[I 2025-09-11 21:53:15,750] Trial 402 finished with value: 0.5317025905562717 and parameters: {'n_neighbors': 193, 'dim_reduction': 'pca', 'pca_solver': 'randomized', 'pca_components': 10, 'resolution': 0.16723448711144703, 'method': 'louvain', 'dist_metric': 'euclidean', 'louv_clustering_imp': 'vtraag', 'leid_clustering_imp': 'igraph'}. Best is trial 190 with value: 0.547811394867538.\n",
      "[I 2025-09-11 21:53:21,435] Trial 401 finished with value: 0.5299298543746099 and parameters: {'n_neighbors': 193, 'dim_reduction': 'pca', 'pca_solver': 'arpack', 'pca_components': 10, 'resolution': 0.10070054070222784, 'method': 'louvain', 'dist_metric': 'euclidean', 'louv_clustering_imp': 'vtraag', 'leid_clustering_imp': 'igraph'}. Best is trial 190 with value: 0.547811394867538.\n",
      "[I 2025-09-11 21:55:06,336] Trial 404 finished with value: 0.519486064089318 and parameters: {'n_neighbors': 166, 'dim_reduction': 'pca', 'pca_solver': 'randomized', 'pca_components': 10, 'resolution': 0.14051401992325208, 'method': 'louvain', 'dist_metric': 'euclidean', 'louv_clustering_imp': 'vtraag', 'leid_clustering_imp': 'igraph'}. Best is trial 190 with value: 0.547811394867538.\n",
      "[I 2025-09-11 21:55:11,300] Trial 405 finished with value: 0.5109232399500601 and parameters: {'n_neighbors': 193, 'dim_reduction': 'pca', 'pca_solver': 'arpack', 'pca_components': 10, 'resolution': 0.16368016637532692, 'method': 'louvain', 'dist_metric': 'euclidean', 'louv_clustering_imp': 'vtraag', 'leid_clustering_imp': 'igraph'}. Best is trial 190 with value: 0.547811394867538.\n",
      "[I 2025-09-11 21:55:13,880] Trial 403 finished with value: 0.501293496170131 and parameters: {'n_neighbors': 192, 'dim_reduction': 'pca', 'pca_solver': 'arpack', 'pca_components': 10, 'resolution': 0.179345144904033, 'method': 'louvain', 'dist_metric': 'euclidean', 'louv_clustering_imp': 'vtraag', 'leid_clustering_imp': 'igraph'}. Best is trial 190 with value: 0.547811394867538.\n",
      "[I 2025-09-11 21:55:18,909] Trial 407 finished with value: 0.506228106512139 and parameters: {'n_neighbors': 194, 'dim_reduction': 'pca', 'pca_solver': 'randomized', 'pca_components': 10, 'resolution': 0.14174890164382623, 'method': 'louvain', 'dist_metric': 'euclidean', 'louv_clustering_imp': 'vtraag', 'leid_clustering_imp': 'igraph'}. Best is trial 190 with value: 0.547811394867538.\n",
      "[I 2025-09-11 21:55:24,546] Trial 406 finished with value: 0.5027593838207082 and parameters: {'n_neighbors': 193, 'dim_reduction': 'pca', 'pca_solver': 'randomized', 'pca_components': 10, 'resolution': 0.9183552837846308, 'method': 'louvain', 'dist_metric': 'euclidean', 'louv_clustering_imp': 'vtraag', 'leid_clustering_imp': 'igraph'}. Best is trial 190 with value: 0.547811394867538.\n",
      "[I 2025-09-11 21:57:05,091] Trial 408 finished with value: 0.5109232399500601 and parameters: {'n_neighbors': 193, 'dim_reduction': 'pca', 'pca_solver': 'randomized', 'pca_components': 10, 'resolution': 0.16425614931487115, 'method': 'louvain', 'dist_metric': 'euclidean', 'louv_clustering_imp': 'vtraag', 'leid_clustering_imp': 'igraph'}. Best is trial 190 with value: 0.547811394867538.\n",
      "[I 2025-09-11 21:57:12,204] Trial 410 finished with value: 0.506228106512139 and parameters: {'n_neighbors': 194, 'dim_reduction': 'pca', 'pca_solver': 'randomized', 'pca_components': 12, 'resolution': 0.13517405361371218, 'method': 'louvain', 'dist_metric': 'euclidean', 'louv_clustering_imp': 'vtraag', 'leid_clustering_imp': 'igraph'}. Best is trial 190 with value: 0.547811394867538.\n",
      "[I 2025-09-11 21:57:19,258] Trial 409 finished with value: 0.506228106512139 and parameters: {'n_neighbors': 194, 'dim_reduction': 'pca', 'pca_solver': 'randomized', 'pca_components': 46, 'resolution': 0.13410758651166013, 'method': 'louvain', 'dist_metric': 'euclidean', 'louv_clustering_imp': 'vtraag', 'leid_clustering_imp': 'igraph'}. Best is trial 190 with value: 0.547811394867538.\n",
      "[I 2025-09-11 21:57:20,321] Trial 412 finished with value: 0.5220676895588984 and parameters: {'n_neighbors': 190, 'dim_reduction': 'pca', 'pca_solver': 'randomized', 'pca_components': 12, 'resolution': 0.13479189539526706, 'method': 'louvain', 'dist_metric': 'euclidean', 'louv_clustering_imp': 'vtraag', 'leid_clustering_imp': 'igraph'}. Best is trial 190 with value: 0.547811394867538.\n",
      "[I 2025-09-11 21:57:22,764] Trial 411 finished with value: 0.5220676895588984 and parameters: {'n_neighbors': 190, 'dim_reduction': 'pca', 'pca_solver': 'randomized', 'pca_components': 12, 'resolution': 0.1392302536454105, 'method': 'louvain', 'dist_metric': 'euclidean', 'louv_clustering_imp': 'vtraag', 'leid_clustering_imp': 'igraph'}. Best is trial 190 with value: 0.547811394867538.\n",
      "[I 2025-09-11 21:57:39,632] Trial 415 finished with value: 0.48711009771154185 and parameters: {'n_neighbors': 19, 'dim_reduction': 'pca', 'pca_solver': 'randomized', 'pca_components': 13, 'resolution': 0.1362520431437191, 'method': 'louvain', 'dist_metric': 'euclidean', 'louv_clustering_imp': 'vtraag', 'leid_clustering_imp': 'igraph'}. Best is trial 190 with value: 0.547811394867538.\n",
      "[I 2025-09-11 21:57:40,774] Trial 417 finished with value: 0.4872162022571028 and parameters: {'n_neighbors': 15, 'dim_reduction': 'pca', 'pca_solver': 'arpack', 'pca_components': 12, 'resolution': 0.10365786752042604, 'method': 'louvain', 'dist_metric': 'euclidean', 'louv_clustering_imp': 'vtraag', 'leid_clustering_imp': 'igraph'}. Best is trial 190 with value: 0.547811394867538.\n",
      "[I 2025-09-11 21:59:00,356] Trial 413 finished with value: 0.4970310694343306 and parameters: {'n_neighbors': 188, 'dim_reduction': 'pca', 'pca_solver': 'arpack', 'pca_components': 32, 'resolution': 1.2067024566244973, 'method': 'louvain', 'dist_metric': 'euclidean', 'louv_clustering_imp': 'vtraag', 'leid_clustering_imp': 'igraph'}. Best is trial 190 with value: 0.547811394867538.\n",
      "[I 2025-09-11 21:59:17,342] Trial 414 finished with value: 0.5332143545226167 and parameters: {'n_neighbors': 189, 'dim_reduction': 'pca', 'pca_solver': 'randomized', 'pca_components': 12, 'resolution': 0.1029056801629829, 'method': 'louvain', 'dist_metric': 'euclidean', 'louv_clustering_imp': 'vtraag', 'leid_clustering_imp': 'igraph'}. Best is trial 190 with value: 0.547811394867538.\n",
      "[I 2025-09-11 21:59:26,926] Trial 418 finished with value: 0.5231864095598368 and parameters: {'n_neighbors': 93, 'dim_reduction': 'pca', 'pca_solver': 'arpack', 'pca_components': 16, 'resolution': 0.10489472358752167, 'method': 'louvain', 'dist_metric': 'euclidean', 'louv_clustering_imp': 'vtraag', 'leid_clustering_imp': 'igraph'}. Best is trial 190 with value: 0.547811394867538.\n",
      "[I 2025-09-11 21:59:27,261] Trial 416 finished with value: 0.5332143545226167 and parameters: {'n_neighbors': 189, 'dim_reduction': 'pca', 'pca_solver': 'arpack', 'pca_components': 12, 'resolution': 0.1024215800230989, 'method': 'louvain', 'dist_metric': 'euclidean', 'louv_clustering_imp': 'vtraag', 'leid_clustering_imp': 'igraph'}. Best is trial 190 with value: 0.547811394867538.\n",
      "[I 2025-09-11 21:59:32,325] Trial 419 finished with value: 0.5185273000916868 and parameters: {'n_neighbors': 183, 'dim_reduction': 'pca', 'pca_solver': 'arpack', 'pca_components': 20, 'resolution': 0.10283716713283743, 'method': 'louvain', 'dist_metric': 'euclidean', 'louv_clustering_imp': 'vtraag', 'leid_clustering_imp': 'igraph'}. Best is trial 190 with value: 0.547811394867538.\n",
      "[I 2025-09-11 22:00:23,833] Trial 420 finished with value: 0.5162236485328727 and parameters: {'n_neighbors': 185, 'dim_reduction': 'pca', 'pca_solver': 'arpack', 'pca_components': 16, 'resolution': 0.10315768383683269, 'method': 'louvain', 'dist_metric': 'euclidean', 'louv_clustering_imp': 'vtraag', 'leid_clustering_imp': 'igraph'}. Best is trial 190 with value: 0.547811394867538.\n",
      "[I 2025-09-11 22:01:14,323] Trial 421 finished with value: 0.5030604091982754 and parameters: {'n_neighbors': 183, 'dim_reduction': 'pca', 'pca_solver': 'arpack', 'pca_components': 16, 'resolution': 0.1822593411103684, 'method': 'louvain', 'dist_metric': 'euclidean', 'louv_clustering_imp': 'vtraag', 'leid_clustering_imp': 'igraph'}. Best is trial 190 with value: 0.547811394867538.\n",
      "[I 2025-09-11 22:01:19,630] Trial 422 finished with value: 0.48774670614346255 and parameters: {'n_neighbors': 185, 'dim_reduction': 'pca', 'pca_solver': 'arpack', 'pca_components': 20, 'resolution': 0.18523059715553544, 'method': 'louvain', 'dist_metric': 'euclidean', 'louv_clustering_imp': 'vtraag', 'leid_clustering_imp': 'igraph'}. Best is trial 190 with value: 0.547811394867538.\n",
      "[I 2025-09-11 22:01:19,963] Trial 423 finished with value: 0.5185273000916868 and parameters: {'n_neighbors': 183, 'dim_reduction': 'pca', 'pca_solver': 'arpack', 'pca_components': 16, 'resolution': 0.10243112551927777, 'method': 'louvain', 'dist_metric': 'euclidean', 'louv_clustering_imp': 'vtraag', 'leid_clustering_imp': 'igraph'}. Best is trial 190 with value: 0.547811394867538.\n",
      "[I 2025-09-11 22:01:26,183] Trial 424 finished with value: 0.5185273000916868 and parameters: {'n_neighbors': 183, 'dim_reduction': 'pca', 'pca_solver': 'arpack', 'pca_components': 16, 'resolution': 0.10079809655764713, 'method': 'louvain', 'dist_metric': 'euclidean', 'louv_clustering_imp': 'vtraag', 'leid_clustering_imp': 'igraph'}. Best is trial 190 with value: 0.547811394867538.\n",
      "[I 2025-09-11 22:01:29,967] Trial 428 finished with value: -1.0 and parameters: {'n_neighbors': 178, 'dim_reduction': 'pca', 'pca_solver': 'arpack', 'pca_components': 14, 'resolution': 0.2209931036595234, 'method': 'leiden', 'dist_metric': 'cosine', 'louv_clustering_imp': 'vtraag', 'leid_clustering_imp': 'igraph'}. Best is trial 190 with value: 0.547811394867538.\n",
      "[I 2025-09-11 22:01:58,932] Trial 429 finished with value: 0.48463441256492723 and parameters: {'n_neighbors': 43, 'dim_reduction': 'pca', 'pca_solver': 'arpack', 'pca_components': 14, 'resolution': 0.2296367775111363, 'method': 'leiden', 'dist_metric': 'euclidean', 'louv_clustering_imp': 'vtraag', 'leid_clustering_imp': 'igraph'}. Best is trial 190 with value: 0.547811394867538.\n",
      "[I 2025-09-11 22:02:18,730] Trial 425 finished with value: 0.5153259723043608 and parameters: {'n_neighbors': 181, 'dim_reduction': 'pca', 'pca_solver': 'arpack', 'pca_components': 14, 'resolution': 0.18806309991088088, 'method': 'louvain', 'dist_metric': 'euclidean', 'louv_clustering_imp': 'vtraag', 'leid_clustering_imp': 'igraph'}. Best is trial 190 with value: 0.547811394867538.\n",
      "[I 2025-09-11 22:02:52,116] Trial 426 finished with value: 0.5193590259400118 and parameters: {'n_neighbors': 179, 'dim_reduction': 'pca', 'pca_solver': 'arpack', 'pca_components': 18, 'resolution': 0.17585953318367062, 'method': 'louvain', 'dist_metric': 'euclidean', 'louv_clustering_imp': 'vtraag', 'leid_clustering_imp': 'igraph'}. Best is trial 190 with value: 0.547811394867538.\n",
      "[I 2025-09-11 22:02:59,605] Trial 427 finished with value: 0.4917941022840375 and parameters: {'n_neighbors': 179, 'dim_reduction': 'pca', 'pca_solver': 'arpack', 'pca_components': 14, 'resolution': 0.13632780486297458, 'method': 'leiden', 'dist_metric': 'euclidean', 'louv_clustering_imp': 'vtraag', 'leid_clustering_imp': 'igraph'}. Best is trial 190 with value: 0.547811394867538.\n",
      "[I 2025-09-11 22:03:03,942] Trial 430 finished with value: 0.5163466544788411 and parameters: {'n_neighbors': 189, 'dim_reduction': 'pca', 'pca_solver': 'arpack', 'pca_components': 12, 'resolution': 0.15521194293534446, 'method': 'louvain', 'dist_metric': 'euclidean', 'louv_clustering_imp': 'vtraag', 'leid_clustering_imp': 'igraph'}. Best is trial 190 with value: 0.547811394867538.\n",
      "[I 2025-09-11 22:04:07,929] Trial 432 finished with value: 0.5163466544788411 and parameters: {'n_neighbors': 189, 'dim_reduction': 'pca', 'pca_solver': 'arpack', 'pca_components': 12, 'resolution': 0.14642929337887187, 'method': 'louvain', 'dist_metric': 'euclidean', 'louv_clustering_imp': 'vtraag', 'leid_clustering_imp': 'igraph'}. Best is trial 190 with value: 0.547811394867538.\n",
      "[I 2025-09-11 22:04:10,129] Trial 431 finished with value: 0.5163466544788411 and parameters: {'n_neighbors': 189, 'dim_reduction': 'pca', 'pca_solver': 'arpack', 'pca_components': 12, 'resolution': 0.160832826585812, 'method': 'louvain', 'dist_metric': 'euclidean', 'louv_clustering_imp': 'vtraag', 'leid_clustering_imp': 'igraph'}. Best is trial 190 with value: 0.547811394867538.\n",
      "[I 2025-09-11 22:04:52,660] Trial 433 finished with value: 0.5063392910157503 and parameters: {'n_neighbors': 188, 'dim_reduction': 'pca', 'pca_solver': 'arpack', 'pca_components': 12, 'resolution': 0.14745332932272928, 'method': 'louvain', 'dist_metric': 'euclidean', 'louv_clustering_imp': 'vtraag', 'leid_clustering_imp': 'igraph'}. Best is trial 190 with value: 0.547811394867538.\n",
      "[I 2025-09-11 22:05:00,165] Trial 434 finished with value: 0.5063392910157503 and parameters: {'n_neighbors': 188, 'dim_reduction': 'pca', 'pca_solver': 'arpack', 'pca_components': 12, 'resolution': 0.1418438889564709, 'method': 'louvain', 'dist_metric': 'euclidean', 'louv_clustering_imp': 'vtraag', 'leid_clustering_imp': 'igraph'}. Best is trial 190 with value: 0.547811394867538.\n",
      "[I 2025-09-11 22:05:00,350] Trial 435 finished with value: 0.49877480990116707 and parameters: {'n_neighbors': 197, 'dim_reduction': 'pca', 'pca_solver': 'arpack', 'pca_components': 12, 'resolution': 1.5070200516711716, 'method': 'louvain', 'dist_metric': 'euclidean', 'louv_clustering_imp': 'vtraag', 'leid_clustering_imp': 'igraph'}. Best is trial 190 with value: 0.547811394867538.\n",
      "[I 2025-09-11 22:05:39,535] Trial 436 finished with value: 0.5416865740003373 and parameters: {'n_neighbors': 197, 'dim_reduction': 'pca', 'pca_solver': 'auto', 'pca_components': 12, 'resolution': 0.1006308959211545, 'method': 'louvain', 'dist_metric': 'euclidean', 'louv_clustering_imp': 'vtraag', 'leid_clustering_imp': 'igraph'}. Best is trial 190 with value: 0.547811394867538.\n",
      "[I 2025-09-11 22:06:21,017] Trial 437 finished with value: 0.5053589954058253 and parameters: {'n_neighbors': 197, 'dim_reduction': 'pca', 'pca_solver': 'auto', 'pca_components': 12, 'resolution': 0.6727760493016842, 'method': 'louvain', 'dist_metric': 'euclidean', 'louv_clustering_imp': 'vtraag', 'leid_clustering_imp': 'igraph'}. Best is trial 190 with value: 0.547811394867538.\n",
      "[I 2025-09-11 22:06:56,023] Trial 438 finished with value: 0.5062963168319738 and parameters: {'n_neighbors': 196, 'dim_reduction': 'pca', 'pca_solver': 'auto', 'pca_components': 10, 'resolution': 0.6917572998567671, 'method': 'louvain', 'dist_metric': 'euclidean', 'louv_clustering_imp': 'vtraag', 'leid_clustering_imp': 'igraph'}. Best is trial 190 with value: 0.547811394867538.\n",
      "[I 2025-09-11 22:06:56,658] Trial 440 finished with value: 0.5077895185917333 and parameters: {'n_neighbors': 176, 'dim_reduction': 'pca', 'pca_solver': 'auto', 'pca_components': 10, 'resolution': 0.10056873150694103, 'method': 'louvain', 'dist_metric': 'euclidean', 'louv_clustering_imp': 'vtraag', 'leid_clustering_imp': 'igraph'}. Best is trial 190 with value: 0.547811394867538.\n",
      "[I 2025-09-11 22:07:06,994] Trial 439 finished with value: 0.547811394867538 and parameters: {'n_neighbors': 196, 'dim_reduction': 'pca', 'pca_solver': 'auto', 'pca_components': 10, 'resolution': 0.10044802119316887, 'method': 'louvain', 'dist_metric': 'euclidean', 'louv_clustering_imp': 'vtraag', 'leid_clustering_imp': 'igraph'}. Best is trial 190 with value: 0.547811394867538.\n",
      "[I 2025-09-11 22:07:10,517] Trial 441 finished with value: 0.5060898490862473 and parameters: {'n_neighbors': 196, 'dim_reduction': 'pca', 'pca_solver': 'auto', 'pca_components': 10, 'resolution': 0.2043244425083985, 'method': 'louvain', 'dist_metric': 'euclidean', 'louv_clustering_imp': 'vtraag', 'leid_clustering_imp': 'igraph'}. Best is trial 190 with value: 0.547811394867538.\n",
      "[I 2025-09-11 22:07:17,135] Trial 445 finished with value: -1.0 and parameters: {'n_neighbors': 196, 'dim_reduction': 'pca', 'pca_solver': 'auto', 'pca_components': 18, 'resolution': 0.20359686748635303, 'method': 'louvain', 'dist_metric': 'cosine', 'louv_clustering_imp': 'vtraag', 'leid_clustering_imp': 'igraph'}. Best is trial 190 with value: 0.547811394867538.\n",
      "[I 2025-09-11 22:07:45,687] Trial 442 finished with value: 0.518604514067516 and parameters: {'n_neighbors': 196, 'dim_reduction': 'pca', 'pca_solver': 'auto', 'pca_components': 10, 'resolution': 0.13010575615402079, 'method': 'louvain', 'dist_metric': 'euclidean', 'louv_clustering_imp': 'vtraag', 'leid_clustering_imp': 'igraph'}. Best is trial 190 with value: 0.547811394867538.\n",
      "[I 2025-09-11 22:08:57,743] Trial 444 finished with value: 0.5060898490862473 and parameters: {'n_neighbors': 196, 'dim_reduction': 'pca', 'pca_solver': 'auto', 'pca_components': 38, 'resolution': 0.20575750011261512, 'method': 'louvain', 'dist_metric': 'euclidean', 'louv_clustering_imp': 'vtraag', 'leid_clustering_imp': 'igraph'}. Best is trial 190 with value: 0.547811394867538.\n",
      "[I 2025-09-11 22:09:15,490] Trial 443 finished with value: 0.5033365137469963 and parameters: {'n_neighbors': 196, 'dim_reduction': 'pca', 'pca_solver': 'auto', 'pca_components': 18, 'resolution': 0.13412241804349492, 'method': 'louvain', 'dist_metric': 'euclidean', 'louv_clustering_imp': 'vtraag', 'leid_clustering_imp': 'igraph'}. Best is trial 190 with value: 0.547811394867538.\n",
      "[I 2025-09-11 22:09:19,041] Trial 446 finished with value: 0.5033365137469963 and parameters: {'n_neighbors': 196, 'dim_reduction': 'pca', 'pca_solver': 'auto', 'pca_components': 18, 'resolution': 0.13517120648234335, 'method': 'louvain', 'dist_metric': 'euclidean', 'louv_clustering_imp': 'vtraag', 'leid_clustering_imp': 'igraph'}. Best is trial 190 with value: 0.547811394867538.\n",
      "[I 2025-09-11 22:09:24,249] Trial 447 finished with value: 0.518604514067516 and parameters: {'n_neighbors': 196, 'dim_reduction': 'pca', 'pca_solver': 'auto', 'pca_components': 14, 'resolution': 0.1326513552388396, 'method': 'louvain', 'dist_metric': 'euclidean', 'louv_clustering_imp': 'vtraag', 'leid_clustering_imp': 'igraph'}. Best is trial 190 with value: 0.547811394867538.\n",
      "[I 2025-09-11 22:09:32,656] Trial 448 finished with value: 0.5317409686376537 and parameters: {'n_neighbors': 198, 'dim_reduction': 'pca', 'pca_solver': 'auto', 'pca_components': 14, 'resolution': 0.16811916472474264, 'method': 'louvain', 'dist_metric': 'euclidean', 'louv_clustering_imp': 'vtraag', 'leid_clustering_imp': 'igraph'}. Best is trial 190 with value: 0.547811394867538.\n",
      "[I 2025-09-11 22:11:20,071] Trial 449 finished with value: 0.5124980549970379 and parameters: {'n_neighbors': 200, 'dim_reduction': 'pca', 'pca_solver': 'auto', 'pca_components': 14, 'resolution': 0.13330602518248516, 'method': 'louvain', 'dist_metric': 'euclidean', 'louv_clustering_imp': 'vtraag', 'leid_clustering_imp': 'igraph'}. Best is trial 190 with value: 0.547811394867538.\n",
      "[I 2025-09-11 22:11:28,057] Trial 451 finished with value: 0.501293496170131 and parameters: {'n_neighbors': 192, 'dim_reduction': 'pca', 'pca_solver': 'auto', 'pca_components': 14, 'resolution': 0.17330243305015958, 'method': 'louvain', 'dist_metric': 'euclidean', 'louv_clustering_imp': 'vtraag', 'leid_clustering_imp': 'igraph'}. Best is trial 190 with value: 0.547811394867538.\n",
      "[I 2025-09-11 22:11:28,473] Trial 450 finished with value: 0.4958330202720166 and parameters: {'n_neighbors': 192, 'dim_reduction': 'pca', 'pca_solver': 'auto', 'pca_components': 14, 'resolution': 0.16873215429308214, 'method': 'louvain', 'dist_metric': 'euclidean', 'louv_clustering_imp': 'vtraag', 'leid_clustering_imp': 'igraph'}. Best is trial 190 with value: 0.547811394867538.\n",
      "[I 2025-09-11 22:11:32,245] Trial 452 finished with value: 0.5277662465777021 and parameters: {'n_neighbors': 200, 'dim_reduction': 'pca', 'pca_solver': 'auto', 'pca_components': 15, 'resolution': 0.17437735474385213, 'method': 'louvain', 'dist_metric': 'euclidean', 'louv_clustering_imp': 'vtraag', 'leid_clustering_imp': 'igraph'}. Best is trial 190 with value: 0.547811394867538.\n",
      "[I 2025-09-11 22:11:38,272] Trial 453 finished with value: 0.5277662465777021 and parameters: {'n_neighbors': 200, 'dim_reduction': 'pca', 'pca_solver': 'auto', 'pca_components': 15, 'resolution': 0.16716016439592118, 'method': 'louvain', 'dist_metric': 'euclidean', 'louv_clustering_imp': 'vtraag', 'leid_clustering_imp': 'igraph'}. Best is trial 190 with value: 0.547811394867538.\n",
      "[I 2025-09-11 22:13:21,336] Trial 454 finished with value: 0.5115854440577506 and parameters: {'n_neighbors': 170, 'dim_reduction': 'pca', 'pca_solver': 'auto', 'pca_components': 16, 'resolution': 0.10034869819030907, 'method': 'louvain', 'dist_metric': 'euclidean', 'louv_clustering_imp': 'vtraag', 'leid_clustering_imp': 'leidenalg'}. Best is trial 190 with value: 0.547811394867538.\n",
      "[I 2025-09-11 22:13:25,729] Trial 455 finished with value: 0.51155387957839 and parameters: {'n_neighbors': 173, 'dim_reduction': 'pca', 'pca_solver': 'auto', 'pca_components': 16, 'resolution': 0.10072765009604785, 'method': 'louvain', 'dist_metric': 'euclidean', 'louv_clustering_imp': 'vtraag', 'leid_clustering_imp': 'leidenalg'}. Best is trial 190 with value: 0.547811394867538.\n",
      "[I 2025-09-11 22:13:30,500] Trial 458 finished with value: 0.5115854440577506 and parameters: {'n_neighbors': 170, 'dim_reduction': 'pca', 'pca_solver': 'auto', 'pca_components': 12, 'resolution': 0.10136174228095299, 'method': 'louvain', 'dist_metric': 'euclidean', 'louv_clustering_imp': 'vtraag', 'leid_clustering_imp': 'leidenalg'}. Best is trial 190 with value: 0.547811394867538.\n",
      "[I 2025-09-11 22:13:33,658] Trial 457 finished with value: 0.5075446982269037 and parameters: {'n_neighbors': 185, 'dim_reduction': 'pca', 'pca_solver': 'auto', 'pca_components': 12, 'resolution': 0.12634928895887576, 'method': 'louvain', 'dist_metric': 'euclidean', 'louv_clustering_imp': 'vtraag', 'leid_clustering_imp': 'leidenalg'}. Best is trial 190 with value: 0.547811394867538.\n",
      "[I 2025-09-11 22:13:37,882] Trial 456 finished with value: 0.5128202980205238 and parameters: {'n_neighbors': 171, 'dim_reduction': 'pca', 'pca_solver': 'auto', 'pca_components': 16, 'resolution': 0.1318164343972148, 'method': 'louvain', 'dist_metric': 'euclidean', 'louv_clustering_imp': 'vtraag', 'leid_clustering_imp': 'leidenalg'}. Best is trial 190 with value: 0.547811394867538.\n",
      "[I 2025-09-11 22:15:06,808] Trial 462 finished with value: 0.5104472566620379 and parameters: {'n_neighbors': 119, 'dim_reduction': 'pca', 'pca_solver': 'auto', 'pca_components': 10, 'resolution': 0.2421889286680543, 'method': 'louvain', 'dist_metric': 'euclidean', 'louv_clustering_imp': 'vtraag', 'leid_clustering_imp': 'igraph'}. Best is trial 190 with value: 0.547811394867538.\n",
      "[I 2025-09-11 22:15:09,174] Trial 459 finished with value: 0.5196000418700377 and parameters: {'n_neighbors': 186, 'dim_reduction': 'pca', 'pca_solver': 'auto', 'pca_components': 12, 'resolution': 0.10175057989529777, 'method': 'louvain', 'dist_metric': 'euclidean', 'louv_clustering_imp': 'vtraag', 'leid_clustering_imp': 'igraph'}. Best is trial 190 with value: 0.547811394867538.\n",
      "[I 2025-09-11 22:15:09,609] Trial 463 finished with value: 0.5148538494832096 and parameters: {'n_neighbors': 114, 'dim_reduction': 'pca', 'pca_solver': 'auto', 'pca_components': 22, 'resolution': 0.2353868248480859, 'method': 'louvain', 'dist_metric': 'euclidean', 'louv_clustering_imp': 'vtraag', 'leid_clustering_imp': 'igraph'}. Best is trial 190 with value: 0.547811394867538.\n",
      "[I 2025-09-11 22:15:15,952] Trial 460 finished with value: 0.5117791433835919 and parameters: {'n_neighbors': 184, 'dim_reduction': 'pca', 'pca_solver': 'auto', 'pca_components': 12, 'resolution': 0.102263132797604, 'method': 'louvain', 'dist_metric': 'euclidean', 'louv_clustering_imp': 'vtraag', 'leid_clustering_imp': 'igraph'}. Best is trial 190 with value: 0.547811394867538.\n",
      "[I 2025-09-11 22:15:20,156] Trial 465 finished with value: -1.0 and parameters: {'n_neighbors': 181, 'dim_reduction': 'pca', 'pca_solver': 'arpack', 'pca_components': 10, 'resolution': 0.16391701382762314, 'method': 'louvain', 'dist_metric': 'cosine', 'louv_clustering_imp': 'vtraag', 'leid_clustering_imp': 'igraph'}. Best is trial 190 with value: 0.547811394867538.\n",
      "[I 2025-09-11 22:15:21,249] Trial 461 finished with value: 0.5217598406575202 and parameters: {'n_neighbors': 185, 'dim_reduction': 'pca', 'pca_solver': 'auto', 'pca_components': 11, 'resolution': 0.13551350390647685, 'method': 'louvain', 'dist_metric': 'euclidean', 'louv_clustering_imp': 'vtraag', 'leid_clustering_imp': 'igraph'}. Best is trial 190 with value: 0.547811394867538.\n",
      "[I 2025-09-11 22:15:28,316] Trial 466 finished with value: -1.0 and parameters: {'n_neighbors': 181, 'dim_reduction': 'pca', 'pca_solver': 'arpack', 'pca_components': 10, 'resolution': 0.16112676452667976, 'method': 'louvain', 'dist_metric': 'cosine', 'louv_clustering_imp': 'vtraag', 'leid_clustering_imp': 'igraph'}. Best is trial 190 with value: 0.547811394867538.\n",
      "[I 2025-09-11 22:15:33,873] Trial 467 finished with value: -1.0 and parameters: {'n_neighbors': 180, 'dim_reduction': 'pca', 'pca_solver': 'arpack', 'pca_components': 10, 'resolution': 0.1583565573322299, 'method': 'louvain', 'dist_metric': 'cosine', 'louv_clustering_imp': 'vtraag', 'leid_clustering_imp': 'igraph'}. Best is trial 190 with value: 0.547811394867538.\n",
      "[I 2025-09-11 22:16:39,937] Trial 464 finished with value: 0.4940881838935754 and parameters: {'n_neighbors': 182, 'dim_reduction': 'pca', 'pca_solver': 'arpack', 'pca_components': 12, 'resolution': 1.0478144289694389, 'method': 'louvain', 'dist_metric': 'euclidean', 'louv_clustering_imp': 'vtraag', 'leid_clustering_imp': 'igraph'}. Best is trial 190 with value: 0.547811394867538.\n",
      "[I 2025-09-11 22:17:24,747] Trial 469 finished with value: 0.5162291630569069 and parameters: {'n_neighbors': 192, 'dim_reduction': 'pca', 'pca_solver': 'arpack', 'pca_components': 13, 'resolution': 0.19986266550912252, 'method': 'louvain', 'dist_metric': 'euclidean', 'louv_clustering_imp': 'vtraag', 'leid_clustering_imp': 'igraph'}. Best is trial 190 with value: 0.547811394867538.\n",
      "[I 2025-09-11 22:17:24,977] Trial 468 finished with value: 0.5175508758978188 and parameters: {'n_neighbors': 191, 'dim_reduction': 'pca', 'pca_solver': 'arpack', 'pca_components': 13, 'resolution': 0.13732230111336907, 'method': 'louvain', 'dist_metric': 'euclidean', 'louv_clustering_imp': 'vtraag', 'leid_clustering_imp': 'igraph'}. Best is trial 190 with value: 0.547811394867538.\n",
      "[I 2025-09-11 22:17:25,331] Trial 470 finished with value: 0.5210118395832116 and parameters: {'n_neighbors': 191, 'dim_reduction': 'pca', 'pca_solver': 'arpack', 'pca_components': 13, 'resolution': 0.209590299801998, 'method': 'louvain', 'dist_metric': 'euclidean', 'louv_clustering_imp': 'vtraag', 'leid_clustering_imp': 'igraph'}. Best is trial 190 with value: 0.547811394867538.\n",
      "[I 2025-09-11 22:17:35,536] Trial 471 finished with value: 0.5210118395832116 and parameters: {'n_neighbors': 191, 'dim_reduction': 'pca', 'pca_solver': 'arpack', 'pca_components': 13, 'resolution': 0.20608385978451715, 'method': 'louvain', 'dist_metric': 'euclidean', 'louv_clustering_imp': 'vtraag', 'leid_clustering_imp': 'igraph'}. Best is trial 190 with value: 0.547811394867538.\n",
      "[I 2025-09-11 22:18:06,787] Trial 472 finished with value: 0.5155785146638161 and parameters: {'n_neighbors': 191, 'dim_reduction': 'pca', 'pca_solver': 'arpack', 'pca_components': 13, 'resolution': 0.10043532156870018, 'method': 'louvain', 'dist_metric': 'euclidean', 'louv_clustering_imp': 'vtraag', 'leid_clustering_imp': 'igraph'}. Best is trial 190 with value: 0.547811394867538.\n"
     ]
    },
    {
     "name": "stderr",
     "output_type": "stream",
     "text": [
      "`resolution` parameter has no effect for flavor \"igraph\"\n",
      "`resolution` parameter has no effect for flavor \"igraph\"\n"
     ]
    },
    {
     "name": "stdout",
     "output_type": "stream",
     "text": [
      "[I 2025-09-11 22:19:32,944] Trial 475 finished with value: 0.5191351102055484 and parameters: {'n_neighbors': 178, 'dim_reduction': 'pca', 'pca_solver': 'arpack', 'pca_components': 11, 'resolution': 0.10125465607130474, 'method': 'louvain', 'dist_metric': 'euclidean', 'louv_clustering_imp': 'vtraag', 'leid_clustering_imp': 'igraph'}. Best is trial 190 with value: 0.547811394867538.\n",
      "[I 2025-09-11 22:19:35,803] Trial 474 finished with value: 0.4876910482679408 and parameters: {'n_neighbors': 177, 'dim_reduction': 'pca', 'pca_solver': 'arpack', 'pca_components': 13, 'resolution': 0.13217703938957898, 'method': 'louvain', 'dist_metric': 'euclidean', 'louv_clustering_imp': 'igraph', 'leid_clustering_imp': 'igraph'}. Best is trial 190 with value: 0.547811394867538.\n",
      "[I 2025-09-11 22:19:37,236] Trial 473 finished with value: 0.5175508758978188 and parameters: {'n_neighbors': 191, 'dim_reduction': 'pca', 'pca_solver': 'arpack', 'pca_components': 13, 'resolution': 0.13676519994170383, 'method': 'louvain', 'dist_metric': 'euclidean', 'louv_clustering_imp': 'vtraag', 'leid_clustering_imp': 'igraph'}. Best is trial 190 with value: 0.547811394867538.\n",
      "[I 2025-09-11 22:19:38,533] Trial 476 finished with value: 0.5191351102055484 and parameters: {'n_neighbors': 178, 'dim_reduction': 'pca', 'pca_solver': 'arpack', 'pca_components': 11, 'resolution': 0.13420018422138658, 'method': 'louvain', 'dist_metric': 'euclidean', 'louv_clustering_imp': 'vtraag', 'leid_clustering_imp': 'igraph'}. Best is trial 190 with value: 0.547811394867538.\n",
      "[I 2025-09-11 22:19:45,803] Trial 477 finished with value: 0.4966427630894505 and parameters: {'n_neighbors': 178, 'dim_reduction': 'pca', 'pca_solver': 'auto', 'pca_components': 10, 'resolution': 0.10162511450763007, 'method': 'louvain', 'dist_metric': 'euclidean', 'louv_clustering_imp': 'igraph', 'leid_clustering_imp': 'igraph'}. Best is trial 190 with value: 0.547811394867538.\n"
     ]
    },
    {
     "name": "stderr",
     "output_type": "stream",
     "text": [
      "`resolution` parameter has no effect for flavor \"igraph\"\n"
     ]
    },
    {
     "name": "stdout",
     "output_type": "stream",
     "text": [
      "[I 2025-09-11 22:20:06,344] Trial 480 finished with value: 0.2901266167800889 and parameters: {'n_neighbors': 6, 'dim_reduction': 'pca', 'pca_solver': 'auto', 'pca_components': 17, 'resolution': 0.10064759684336262, 'method': 'louvain', 'dist_metric': 'euclidean', 'louv_clustering_imp': 'vtraag', 'leid_clustering_imp': 'igraph'}. Best is trial 190 with value: 0.547811394867538.\n",
      "[I 2025-09-11 22:20:13,604] Trial 478 finished with value: 0.4961359528340423 and parameters: {'n_neighbors': 59, 'dim_reduction': 'pca', 'pca_solver': 'auto', 'pca_components': 15, 'resolution': 0.1345374844248876, 'method': 'louvain', 'dist_metric': 'euclidean', 'louv_clustering_imp': 'igraph', 'leid_clustering_imp': 'igraph'}. Best is trial 190 with value: 0.547811394867538.\n",
      "[I 2025-09-11 22:20:17,373] Trial 479 finished with value: 0.5094768250595711 and parameters: {'n_neighbors': 63, 'dim_reduction': 'pca', 'pca_solver': 'auto', 'pca_components': 17, 'resolution': 0.16603833906960974, 'method': 'louvain', 'dist_metric': 'euclidean', 'louv_clustering_imp': 'vtraag', 'leid_clustering_imp': 'igraph'}. Best is trial 190 with value: 0.547811394867538.\n",
      "[I 2025-09-11 22:21:09,489] Trial 481 finished with value: 0.5178004172046063 and parameters: {'n_neighbors': 186, 'dim_reduction': 'pca', 'pca_solver': 'auto', 'pca_components': 10, 'resolution': 0.17275586148817565, 'method': 'louvain', 'dist_metric': 'euclidean', 'louv_clustering_imp': 'vtraag', 'leid_clustering_imp': 'igraph'}. Best is trial 190 with value: 0.547811394867538.\n",
      "[I 2025-09-11 22:21:40,361] Trial 482 finished with value: 0.5178004172046063 and parameters: {'n_neighbors': 186, 'dim_reduction': 'pca', 'pca_solver': 'auto', 'pca_components': 17, 'resolution': 0.1735328891393897, 'method': 'louvain', 'dist_metric': 'euclidean', 'louv_clustering_imp': 'vtraag', 'leid_clustering_imp': 'igraph'}. Best is trial 190 with value: 0.547811394867538.\n",
      "[I 2025-09-11 22:21:46,680] Trial 483 finished with value: 0.49020442001555076 and parameters: {'n_neighbors': 186, 'dim_reduction': 'pca', 'pca_solver': 'auto', 'pca_components': 15, 'resolution': 0.17744503399175343, 'method': 'leiden', 'dist_metric': 'euclidean', 'louv_clustering_imp': 'vtraag', 'leid_clustering_imp': 'igraph'}. Best is trial 190 with value: 0.547811394867538.\n",
      "[I 2025-09-11 22:21:48,370] Trial 484 finished with value: 0.4841264400047932 and parameters: {'n_neighbors': 186, 'dim_reduction': 'pca', 'pca_solver': 'arpack', 'pca_components': 15, 'resolution': 0.17951739828665125, 'method': 'leiden', 'dist_metric': 'euclidean', 'louv_clustering_imp': 'vtraag', 'leid_clustering_imp': 'igraph'}. Best is trial 190 with value: 0.547811394867538.\n",
      "[I 2025-09-11 22:21:57,264] Trial 485 finished with value: 0.4808428312810465 and parameters: {'n_neighbors': 187, 'dim_reduction': 'pca', 'pca_solver': 'arpack', 'pca_components': 81, 'resolution': 0.186366177900527, 'method': 'leiden', 'dist_metric': 'euclidean', 'louv_clustering_imp': 'vtraag', 'leid_clustering_imp': 'igraph'}. Best is trial 190 with value: 0.547811394867538.\n",
      "[I 2025-09-11 22:22:54,878] Trial 486 finished with value: 0.4971122241641983 and parameters: {'n_neighbors': 186, 'dim_reduction': 'pca', 'pca_solver': 'arpack', 'pca_components': 15, 'resolution': 0.1866076561263112, 'method': 'louvain', 'dist_metric': 'euclidean', 'louv_clustering_imp': 'vtraag', 'leid_clustering_imp': 'igraph'}. Best is trial 190 with value: 0.547811394867538.\n",
      "[I 2025-09-11 22:23:38,645] Trial 487 finished with value: 0.48667249356103126 and parameters: {'n_neighbors': 186, 'dim_reduction': 'pca', 'pca_solver': 'arpack', 'pca_components': 15, 'resolution': 0.13798753464985467, 'method': 'leiden', 'dist_metric': 'euclidean', 'louv_clustering_imp': 'vtraag', 'leid_clustering_imp': 'igraph'}. Best is trial 190 with value: 0.547811394867538.\n",
      "[I 2025-09-11 22:23:43,678] Trial 488 finished with value: 0.5140693733903364 and parameters: {'n_neighbors': 194, 'dim_reduction': 'pca', 'pca_solver': 'arpack', 'pca_components': 11, 'resolution': 0.1003937640325863, 'method': 'louvain', 'dist_metric': 'euclidean', 'louv_clustering_imp': 'vtraag', 'leid_clustering_imp': 'igraph'}. Best is trial 190 with value: 0.547811394867538.\n",
      "[I 2025-09-11 22:23:46,281] Trial 489 finished with value: 0.5299298543746099 and parameters: {'n_neighbors': 193, 'dim_reduction': 'pca', 'pca_solver': 'arpack', 'pca_components': 41, 'resolution': 0.10013165195444439, 'method': 'louvain', 'dist_metric': 'euclidean', 'louv_clustering_imp': 'vtraag', 'leid_clustering_imp': 'igraph'}. Best is trial 190 with value: 0.547811394867538.\n",
      "[I 2025-09-11 22:23:51,786] Trial 490 finished with value: 0.5063487893895193 and parameters: {'n_neighbors': 195, 'dim_reduction': 'pca', 'pca_solver': 'arpack', 'pca_components': 20, 'resolution': 0.13835078249904514, 'method': 'louvain', 'dist_metric': 'euclidean', 'louv_clustering_imp': 'vtraag', 'leid_clustering_imp': 'igraph'}. Best is trial 190 with value: 0.547811394867538.\n",
      "[I 2025-09-11 22:24:21,757] Trial 491 finished with value: 0.506228106512139 and parameters: {'n_neighbors': 194, 'dim_reduction': 'pca', 'pca_solver': 'arpack', 'pca_components': 11, 'resolution': 0.1370605490452513, 'method': 'louvain', 'dist_metric': 'euclidean', 'louv_clustering_imp': 'vtraag', 'leid_clustering_imp': 'igraph'}. Best is trial 190 with value: 0.547811394867538.\n",
      "[I 2025-09-11 22:25:31,170] Trial 493 finished with value: 0.5092814297479422 and parameters: {'n_neighbors': 175, 'dim_reduction': 'pca', 'pca_solver': 'arpack', 'pca_components': 10, 'resolution': 0.10035545075573205, 'method': 'louvain', 'dist_metric': 'euclidean', 'louv_clustering_imp': 'vtraag', 'leid_clustering_imp': 'igraph'}. Best is trial 190 with value: 0.547811394867538.\n",
      "[I 2025-09-11 22:25:51,175] Trial 492 finished with value: 0.5403449603525557 and parameters: {'n_neighbors': 195, 'dim_reduction': 'pca', 'pca_solver': 'arpack', 'pca_components': 11, 'resolution': 0.10178381011964838, 'method': 'louvain', 'dist_metric': 'euclidean', 'louv_clustering_imp': 'vtraag', 'leid_clustering_imp': 'igraph'}. Best is trial 190 with value: 0.547811394867538.\n",
      "[I 2025-09-11 22:25:53,773] Trial 494 finished with value: 0.5221541462491333 and parameters: {'n_neighbors': 174, 'dim_reduction': 'pca', 'pca_solver': 'arpack', 'pca_components': 20, 'resolution': 0.13851516541155323, 'method': 'louvain', 'dist_metric': 'euclidean', 'louv_clustering_imp': 'vtraag', 'leid_clustering_imp': 'igraph'}. Best is trial 190 with value: 0.547811394867538.\n",
      "[I 2025-09-11 22:25:59,537] Trial 495 finished with value: 0.5057297347146158 and parameters: {'n_neighbors': 182, 'dim_reduction': 'pca', 'pca_solver': 'arpack', 'pca_components': 10, 'resolution': 0.21995081912925965, 'method': 'louvain', 'dist_metric': 'euclidean', 'louv_clustering_imp': 'vtraag', 'leid_clustering_imp': 'igraph'}. Best is trial 190 with value: 0.547811394867538.\n",
      "[I 2025-09-11 22:26:04,558] Trial 496 finished with value: 0.5057297347146158 and parameters: {'n_neighbors': 182, 'dim_reduction': 'pca', 'pca_solver': 'auto', 'pca_components': 10, 'resolution': 0.24099469914911795, 'method': 'louvain', 'dist_metric': 'euclidean', 'louv_clustering_imp': 'vtraag', 'leid_clustering_imp': 'igraph'}. Best is trial 190 with value: 0.547811394867538.\n",
      "[I 2025-09-11 22:26:20,449] Trial 497 finished with value: 0.4980971145348959 and parameters: {'n_neighbors': 76, 'dim_reduction': 'pca', 'pca_solver': 'auto', 'pca_components': 12, 'resolution': 0.23176806963441385, 'method': 'louvain', 'dist_metric': 'euclidean', 'louv_clustering_imp': 'vtraag', 'leid_clustering_imp': 'igraph'}. Best is trial 190 with value: 0.547811394867538.\n",
      "[I 2025-09-11 22:26:23,547] Trial 498 finished with value: 0.4945186308857766 and parameters: {'n_neighbors': 77, 'dim_reduction': 'pca', 'pca_solver': 'arpack', 'pca_components': 12, 'resolution': 0.23868247642887835, 'method': 'louvain', 'dist_metric': 'euclidean', 'louv_clustering_imp': 'vtraag', 'leid_clustering_imp': 'igraph'}. Best is trial 190 with value: 0.547811394867538.\n",
      "[I 2025-09-11 22:26:53,618] Trial 499 finished with value: 0.516282201004666 and parameters: {'n_neighbors': 200, 'dim_reduction': 'pca', 'pca_solver': 'arpack', 'pca_components': 12, 'resolution': 0.14133864789213266, 'method': 'louvain', 'dist_metric': 'euclidean', 'louv_clustering_imp': 'vtraag', 'leid_clustering_imp': 'igraph'}. Best is trial 190 with value: 0.547811394867538.\n"
     ]
    }
   ],
   "source": [
    "cfret_cluster_results = assess_heterogeneity(\n",
    "    profiles=cfret_profile_df,\n",
    "    meta=cfret_meta,\n",
    "    features=cfret_feats,\n",
    "    n_trials=500,\n",
    "    n_jobs=5,\n",
    "    study_name=\"cfret_heterogeneity\",\n",
    "    seed=0,\n",
    ")"
   ]
  },
  {
   "cell_type": "code",
   "execution_count": null,
   "id": "9e88fdda",
   "metadata": {},
   "outputs": [
    {
     "data": {
      "text/plain": [
       "{'study': <optuna.study.study.Study at 0x76d74c949eb0>,\n",
       " 'cluster_labels': array(['1', '1', '0', ..., '0', '5', '0'], shape=(20865,), dtype=object),\n",
       " 'best_score': 0.547811394867538,\n",
       " 'best_params': {'n_neighbors': 196,\n",
       "  'dim_reduction': 'pca',\n",
       "  'pca_solver': 'arpack',\n",
       "  'pca_components': 14,\n",
       "  'resolution': 0.10058072197144338,\n",
       "  'method': 'louvain',\n",
       "  'dist_metric': 'euclidean',\n",
       "  'louv_clustering_imp': 'vtraag',\n",
       "  'leid_clustering_imp': 'igraph'},\n",
       " 'n_clusters': 6,\n",
       " 'n_trials': 500}"
      ]
     },
     "execution_count": 14,
     "metadata": {},
     "output_type": "execute_result"
    }
   ],
   "source": [
    "cfret_cluster_results[\"cluster_labels\"] = cfret_cluster_results[\n",
    "    \"cluster_labels\"\n",
    "].astype(int)"
   ]
  },
  {
   "cell_type": "code",
   "execution_count": 16,
   "id": "22f2a698",
   "metadata": {},
   "outputs": [],
   "source": [
    "with open(results_dir / \"cfret_heterogenic_clusters_results.json\", \"w\") as f:\n",
    "    json.dump(\n",
    "        {\n",
    "            \"best_score\": cfret_cluster_results[\"best_score\"],\n",
    "            \"best_params\": cfret_cluster_results[\"best_params\"],\n",
    "            \"n_clusters\": cfret_cluster_results[\"n_clusters\"],\n",
    "            \"n_trials\": cfret_cluster_results[\"n_trials\"],\n",
    "            \"cfret_cluster_results\": cfret_cluster_results[\"cluster_labels\"].tolist(),\n",
    "        },\n",
    "        f,\n",
    "        indent=4,\n",
    "    )"
   ]
  },
  {
   "cell_type": "markdown",
   "id": "d3769f8c",
   "metadata": {},
   "source": [
    "### Assessing heterogeneity for CPJUMP1 CRISPR data"
   ]
  },
  {
   "cell_type": "code",
   "execution_count": null,
   "id": "8c958e9b",
   "metadata": {},
   "outputs": [],
   "source": [
    "# split metadata and features for cpjump1\n",
    "cpjump1_meta = [\n",
    "    \"index\",\n",
    "    \"Metadata_broad_sample\",\n",
    "    \"Metadata_ImageNumber\",\n",
    "    \"Metadata_Plate\",\n",
    "    \"Metadata_Site\",\n",
    "    \"Metadata_Well\",\n",
    "    \"Metadata_TableNumber\",\n",
    "    \"Metadata_ObjectNumber_cytoplasm\",\n",
    "    \"Metadata_Cytoplasm_Parent_Cells\",\n",
    "    \"Metadata_Cytoplasm_Parent_Nuclei\",\n",
    "    \"Metadata_ObjectNumber_cells\",\n",
    "    \"Metadata_ObjectNumber\",\n",
    "    \"Metadata_gene\",\n",
    "    \"Metadata_pert_type\",\n",
    "    \"Metadata_control_type\",\n",
    "    \"Metadata_target_sequence\",\n",
    "    \"Metadata_negcon_control_type\",\n",
    "    \"__index_level_0__\",\n",
    "]\n",
    "\n",
    "# split metadata and features for cpjump1\n",
    "cpjump1_feats = cpjump1_trt_crispr_df.drop(cpjump1_meta).columns"
   ]
  },
  {
   "cell_type": "code",
   "execution_count": null,
   "id": "70d92ca7",
   "metadata": {},
   "outputs": [],
   "source": [
    "cpjump1_cluster_results = assess_heterogeneity(\n",
    "    profiles=cpjump1_trt_crispr_df,\n",
    "    meta=cpjump1_meta,\n",
    "    features=cpjump1_feats,\n",
    "    n_trials=10,\n",
    "    n_jobs=1,\n",
    "    study_name=\"cpjump1_heterogeneity\",\n",
    "    seed=0,\n",
    ")\n",
    "with open(results_dir / \"cpjump1_heterogenic_clusters_results.json\", \"w\") as f:\n",
    "    json.dump(cpjump1_cluster_results, f)"
   ]
  }
 ],
 "metadata": {
  "kernelspec": {
   "display_name": "buscar",
   "language": "python",
   "name": "python3"
  },
  "language_info": {
   "codemirror_mode": {
    "name": "ipython",
    "version": 3
   },
   "file_extension": ".py",
   "mimetype": "text/x-python",
   "name": "python",
   "nbconvert_exporter": "python",
   "pygments_lexer": "ipython3",
   "version": "3.12.11"
  }
 },
 "nbformat": 4,
 "nbformat_minor": 5
}
