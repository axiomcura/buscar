{
 "cells": [
  {
   "cell_type": "markdown",
   "id": "54aea5c2",
   "metadata": {},
   "source": [
    "# 2.assess-heterogeneity \n",
    "\n",
    "This section of the notebook uses buscar's clustering module to assess single-cell heterogeneity. We'll focus on three specific datasets: **CFReT**, **MitoCheck**, and **CPJUMP (crispir)**. The goal is to use our clustering algorithms to identify cellular heterogeneity at the single-cell level. \n",
    "\n",
    "A key advantage of using these datasets is that they include ground-truth labels. This allows us to evaluate whether our clustering algorithms are identifying biologically meaningful groups in a data-driven way, and to assess the accuracy of our approach."
   ]
  },
  {
   "cell_type": "code",
   "execution_count": 2,
   "id": "5333b9c0",
   "metadata": {},
   "outputs": [],
   "source": [
    "import sys\n",
    "import pathlib\n",
    "\n",
    "import json\n",
    "import polars as pl\n",
    "\n",
    "sys.path.append(\"../../\")\n",
    "from utils.heterogeneity import optimized_clustering\n",
    "from utils.io_utils import load_profiles"
   ]
  },
  {
   "cell_type": "markdown",
   "id": "4d459f74",
   "metadata": {},
   "source": [
    "Setting parameter grid search for the optimized clustering "
   ]
  },
  {
   "cell_type": "code",
   "execution_count": 7,
   "id": "1f1803d4",
   "metadata": {},
   "outputs": [],
   "source": [
    "cluster_search_param_grid = {\n",
    "    # Clustering resolution: how granular the clusters should be\n",
    "    \"cluster_resolution\": {\"type\": \"float\", \"low\": 0.1, \"high\": 3.0},\n",
    "    # Number of neighbors for graph construction\n",
    "    \"n_neighbors\": {\"type\": \"int\", \"low\": 5, \"high\": 50},\n",
    "    # Clustering algorithm\n",
    "    \"cluster_method\": {\"type\": \"categorical\", \"choices\": [\"leiden\", \"louvain\"]},\n",
    "    # Distance metric for neighbor computation\n",
    "    \"neighbor_distance_metric\": {\n",
    "        \"type\": \"categorical\",\n",
    "        \"choices\": [\"euclidean\", \"cosine\", \"manhattan\"],\n",
    "    },\n",
    "    # Dimensionality reduction approach\n",
    "    \"dim_reduction\": {\"type\": \"categorical\", \"choices\": [\"PCA\", \"raw\"]},\n",
    "}"
   ]
  },
  {
   "cell_type": "markdown",
   "id": "29f21fd9",
   "metadata": {},
   "source": [
    "Setting paths"
   ]
  },
  {
   "cell_type": "code",
   "execution_count": 3,
   "id": "cf6a3c28",
   "metadata": {},
   "outputs": [],
   "source": [
    "# set module and data directory paths\n",
    "download_module_path = pathlib.Path(\"../0.download-data/\").resolve(strict=True)\n",
    "sc_profiles_path = (download_module_path / \"data\" / \"sc-profiles\").resolve(strict=True)\n",
    "\n",
    "\n",
    "# setting profiles paths\n",
    "cfret_profiles_path = (\n",
    "    sc_profiles_path / \"cfret\" / \"localhost230405150001_sc_feature_selected.parquet\"\n",
    ").resolve(strict=True)\n",
    "cpjump1_trt_crispr_profiles_path = (\n",
    "    sc_profiles_path\n",
    "    / \"cpjump1\"\n",
    "    / \"trt-profiles\"\n",
    "    / \"cpjump1_crispr_trt_profiles.parquet\"\n",
    ").resolve(strict=True)\n",
    "mitocheck_trt_profiles_path = (\n",
    "    sc_profiles_path / \"mitocheck\" / \"mitocheck_concat_profiles.parquet\"\n",
    ").resolve(strict=True)\n",
    "\n",
    "# create signature output paths\n",
    "results_dir = pathlib.Path(\"./results/cluster-labels\").resolve()\n",
    "results_dir.mkdir(exist_ok=True, parents=True)"
   ]
  },
  {
   "cell_type": "markdown",
   "id": "631ea3a5",
   "metadata": {},
   "source": [
    "Loading datasets"
   ]
  },
  {
   "cell_type": "code",
   "execution_count": 4,
   "id": "74bfe56f",
   "metadata": {},
   "outputs": [],
   "source": [
    "# load all profiles\n",
    "mitocheck_trt_profile_df = load_profiles(mitocheck_trt_profiles_path)\n",
    "cfret_profile_df = load_profiles(cfret_profiles_path)\n",
    "cpjump1_trt_crispr_df = load_profiles(cpjump1_trt_crispr_profiles_path)"
   ]
  },
  {
   "cell_type": "markdown",
   "id": "e91f0ea3",
   "metadata": {},
   "source": [
    "## Clustering profiles"
   ]
  },
  {
   "cell_type": "markdown",
   "id": "6d679241",
   "metadata": {},
   "source": [
    "### Assessing heterogeneity for MitoCheck data"
   ]
  },
  {
   "cell_type": "code",
   "execution_count": null,
   "id": "3c0fd9f3",
   "metadata": {},
   "outputs": [],
   "source": [
    "# separate metadata based on phenotypic class\n",
    "# split metadata and features\n",
    "mito_meta = [\n",
    "    \"Mitocheck_Phenotypic_Class\",\n",
    "    \"Cell_UUID\",\n",
    "    \"Location_Center_X\",\n",
    "    \"Location_Center_Y\",\n",
    "    \"Metadata_Plate\",\n",
    "    \"Metadata_Well\",\n",
    "    \"Metadata_Frame\",\n",
    "    \"Metadata_Site\",\n",
    "    \"Metadata_Plate_Map_Name\",\n",
    "    \"Metadata_DNA\",\n",
    "    \"Metadata_Gene\",\n",
    "    \"Metadata_Gene_Replicate\",\n",
    "    \"Metadata_Object_Outline\",\n",
    "]\n",
    "\n",
    "mito_features = mitocheck_trt_profile_df.drop(mito_meta).columns"
   ]
  },
  {
   "cell_type": "code",
   "execution_count": null,
   "id": "d4b06373",
   "metadata": {},
   "outputs": [],
   "source": [
    "mitocheck_cluster_results = optimized_clustering(\n",
    "    profiles=mitocheck_trt_profile_df,\n",
    "    meta=mito_meta,\n",
    "    features=mito_features,\n",
    "    n_trials=500,\n",
    "    n_jobs=1,\n",
    "    study_name=\"mitocheck_heterogeneity\",\n",
    "    seed=0,\n",
    ")\n",
    "with open(results_dir / \"mitocheck_heterogenic_clusters_results.json\", \"w\") as f:\n",
    "    json.dump(mitocheck_cluster_results, f)"
   ]
  },
  {
   "cell_type": "markdown",
   "id": "8b57431f",
   "metadata": {},
   "source": [
    "### Assessing heterogeneity for CFReT data"
   ]
  },
  {
   "cell_type": "code",
   "execution_count": null,
   "id": "109ce77b",
   "metadata": {},
   "outputs": [],
   "source": [
    "# only selected treatment profiles from cfret\n",
    "cfret_trt = cfret_profile_df.filter(pl.col(\"Metadata_treatment\") != \"DMSO\")\n",
    "\n",
    "# split metadata and features for cfret\n",
    "cfret_meta = [\n",
    "    \"Metadata_WellRow\",\n",
    "    \"Metadata_WellCol\",\n",
    "    \"Metadata_heart_number\",\n",
    "    \"Metadata_cell_type\",\n",
    "    \"Metadata_heart_failure_type\",\n",
    "    \"Metadata_treatment\",\n",
    "    \"Metadata_Nuclei_Location_Center_X\",\n",
    "    \"Metadata_Nuclei_Location_Center_Y\",\n",
    "    \"Metadata_Cells_Location_Center_X\",\n",
    "    \"Metadata_Cells_Location_Center_Y\",\n",
    "    \"Metadata_Image_Count_Cells\",\n",
    "    \"Metadata_ImageNumber\",\n",
    "    \"Metadata_Plate\",\n",
    "    \"Metadata_Well\",\n",
    "    \"Metadata_Cells_Number_Object_Number\",\n",
    "    \"Metadata_Cytoplasm_Parent_Cells\",\n",
    "    \"Metadata_Cytoplasm_Parent_Nuclei\",\n",
    "    \"Metadata_Nuclei_Number_Object_Number\",\n",
    "    \"Metadata_Site\",\n",
    "]\n",
    "\n",
    "cfret_feats = cfret_trt.drop(cfret_meta).columns"
   ]
  },
  {
   "cell_type": "code",
   "execution_count": null,
   "id": "dadc6155",
   "metadata": {},
   "outputs": [],
   "source": [
    "cfret_cluster_results = optimized_clustering(\n",
    "    profiles=cfret_trt,\n",
    "    morph_features=cfret_feats,\n",
    "    meta_features=cfret_meta,\n",
    "    treatment_col=\"Metadata_treatment\",\n",
    "    param_grid=cluster_search_param_grid,\n",
    "    n_trials=500,\n",
    ")\n",
    "cfret_cluster_results"
   ]
  },
  {
   "cell_type": "markdown",
   "id": "d3769f8c",
   "metadata": {},
   "source": [
    "### Assessing heterogeneity for CPJUMP1 CRISPR data"
   ]
  },
  {
   "cell_type": "code",
   "execution_count": null,
   "id": "8c958e9b",
   "metadata": {},
   "outputs": [],
   "source": [
    "# split metadata and features for cpjump1\n",
    "cpjump1_meta = [\n",
    "    \"index\",\n",
    "    \"Metadata_broad_sample\",\n",
    "    \"Metadata_ImageNumber\",\n",
    "    \"Metadata_Plate\",\n",
    "    \"Metadata_Site\",\n",
    "    \"Metadata_Well\",\n",
    "    \"Metadata_TableNumber\",\n",
    "    \"Metadata_ObjectNumber_cytoplasm\",\n",
    "    \"Metadata_Cytoplasm_Parent_Cells\",\n",
    "    \"Metadata_Cytoplasm_Parent_Nuclei\",\n",
    "    \"Metadata_ObjectNumber_cells\",\n",
    "    \"Metadata_ObjectNumber\",\n",
    "    \"Metadata_gene\",\n",
    "    \"Metadata_pert_type\",\n",
    "    \"Metadata_control_type\",\n",
    "    \"Metadata_target_sequence\",\n",
    "    \"Metadata_negcon_control_type\",\n",
    "    \"__index_level_0__\",\n",
    "]\n",
    "\n",
    "# split metadata and features for cpjump1\n",
    "cpjump1_feats = cpjump1_trt_crispr_df.drop(cpjump1_meta).columns"
   ]
  },
  {
   "cell_type": "code",
   "execution_count": null,
   "id": "70d92ca7",
   "metadata": {},
   "outputs": [],
   "source": [
    "cpjump1_cluster_results = assess_heterogeneity(\n",
    "    profiles=cpjump1_trt_crispr_df,\n",
    "    meta=cpjump1_meta,\n",
    "    features=cpjump1_feats,\n",
    "    n_trials=10,\n",
    "    n_jobs=1,\n",
    "    study_name=\"cpjump1_heterogeneity\",\n",
    "    seed=0,\n",
    ")\n",
    "with open(results_dir / \"cpjump1_heterogenic_clusters_results.json\", \"w\") as f:\n",
    "    json.dump(cpjump1_cluster_results, f)"
   ]
  }
 ],
 "metadata": {
  "kernelspec": {
   "display_name": "buscar",
   "language": "python",
   "name": "python3"
  },
  "language_info": {
   "codemirror_mode": {
    "name": "ipython",
    "version": 3
   },
   "file_extension": ".py",
   "mimetype": "text/x-python",
   "name": "python",
   "nbconvert_exporter": "python",
   "pygments_lexer": "ipython3",
   "version": "3.12.11"
  }
 },
 "nbformat": 4,
 "nbformat_minor": 5
}
