{
 "cells": [
  {
   "cell_type": "markdown",
   "id": "a0af77a7",
   "metadata": {},
   "source": [
    "## 4. Measuring Phenotypic Activity\n",
    "\n",
    "In this notebook, we measure the **phenotypic activity** of compounds by comparing them against the negative control. To do this, we focus on the treatment-specific clusters identified earlier, which allow us to capture the **heterogeneous effects** that each treatment produces across different subpopulations of cells. We also make use of the *on* and *off* signatures.\n",
    "\n",
    "Our approach is based on the **Earth Mover’s Distance (EMD)**, a distance metric provides an understanding of how much “work” is needed to transform one distribution (cells treated with a compound) into another (e.g., the healthy cell state as a control).\n",
    "\n",
    "We calculate EMD on two sets of features: those defining the *on-signature* and those defining the *off-signature*. This can be interpreted as follows:\n",
    "\n",
    "* **On-signature scores:**\n",
    "\n",
    "  * High EMD → the treatment/perturbation produces strong differences in morphology features associated with the targeted cell state.\n",
    "  * Low EMD → the targeted features resemble the controls, suggesting potential evidence of reversal.\n",
    "\n",
    "* **Off-signature scores:**\n",
    "\n",
    "  * High EMD → strong off-target effects, since these features are unrelated to the specific cell state.\n",
    "  * Low EMD → minimal off-target effects, indicating the compound acts more selectively.\n",
    "\n",
    "In this notebook, we provide an example from the CFReT dataset to investigate the reversal of cardiac fibrosis. Our goal is to determine whether the treated group (drug_x) contains subpopulations that resemble the control group. Clusters with low EMD scores for both the “on” and “off” signatures suggest that a potential reversal is occurring within specific subpopulations of cells. In contrast, clusters with high “off” scores and low “on” scores indicate that, while the targeted morphological signatures appear to resemble a healthier state, many non-targeted morphological features remain altered and are not associated with a specific cellular state."
   ]
  },
  {
   "cell_type": "code",
   "execution_count": 1,
   "id": "efaec44f",
   "metadata": {},
   "outputs": [],
   "source": [
    "import sys\n",
    "import pathlib\n",
    "\n",
    "import polars as pl\n",
    "\n",
    "sys.path.append(\"../../\")\n",
    "from utils.metrics import measure_phenotypic_activity\n",
    "from utils import io_utils"
   ]
  },
  {
   "cell_type": "markdown",
   "id": "c3e546f8",
   "metadata": {},
   "source": [
    "helper functions"
   ]
  },
  {
   "cell_type": "markdown",
   "id": "a8e603e0",
   "metadata": {},
   "source": [
    "setting import and output paths"
   ]
  },
  {
   "cell_type": "code",
   "execution_count": 8,
   "id": "11f230da",
   "metadata": {},
   "outputs": [],
   "source": [
    "# setting directories\n",
    "data_dir = pathlib.Path(\"../0.download-data/data/sc-profiles\").resolve(strict=True)\n",
    "results_dir = pathlib.Path(\"./results\").resolve(strict=True)\n",
    "signatures_dir = (results_dir / \"signature_results\").resolve(strict=True)\n",
    "cluster_labels_dir = (results_dir / \"cluster-labels\").resolve(strict=True)\n",
    "\n",
    "# setting cpjump1 profile paths, signatures, cluster labels\n",
    "cpjump1_negcon_profiles_path = (\n",
    "    (data_dir / \"cpjump1\" / \"negcon\").resolve(strict=True).glob(\"*.parquet\")\n",
    ")\n",
    "cpjump1_trt_profiles_path = (\n",
    "    data_dir / \"cpjump1\" / \"trt-profiles\" / \"cpjump1_crispr_trt_profiles.parquet\"\n",
    ").resolve(strict=True)\n",
    "cpjump1_signatures_path = (\n",
    "    results_dir / \"signature_results\" / \"ks_test_cpjump1_consensus_signatures.json\"\n",
    ").resolve(strict=True)\n",
    "\n",
    "# setting cfret1 profile paths, signatures, cluster labels\n",
    "cfret_profiles_path = (\n",
    "    data_dir / \"cfret\" / \"localhost230405150001_sc_feature_selected.parquet\"\n",
    ").resolve(strict=True)\n",
    "cfret_signatures_path = (signatures_dir / \"ks_test_cfret_signatures.json\").resolve(\n",
    "    strict=True\n",
    ")\n",
    "cfret_cluster_labels_path = (\n",
    "    cluster_labels_dir / \"cfret_heterogenic_clusters_results.json\"\n",
    ").resolve(strict=True)\n",
    "\n",
    "# setting mitocheck profile paths, signatures, cluster labels\n",
    "# mitocheck_negcon_profiles_path = (\n",
    "#     data_dir / \"mitocheck\" / \"negcon_mitocheck_cp_profiles.parquet\"\n",
    "# ).resolve(strict=True)\n",
    "# mitocheck_trt_profiles_path = (\n",
    "#     data_dir / \"mitocheck\" / \"treated_mitocheck_cp_profiles.parquet\"\n",
    "# ).resolve(strict=True)\n",
    "# mitocheck_signatures_path = (\n",
    "#     signatures_dir / \"ks_test_mitocheck_signatures.json\"\n",
    "# ).resolve(strict=True)\n",
    "# mitocheck_cluster_labels_path = (\n",
    "#     cluster_labels_dir / \"mitocheck_cluster_results.pkl\"\n",
    "# ).resolve(strict=True)\n",
    "\n",
    "# setting output paths\n",
    "metric_out_dir = (results_dir / \"metrics\").resolve()\n",
    "metric_out_dir.mkdir(exist_ok=True)"
   ]
  },
  {
   "cell_type": "code",
   "execution_count": 15,
   "id": "a0ffe675",
   "metadata": {},
   "outputs": [],
   "source": [
    "# load cfret profiles\n",
    "cfret_profiles = pl.read_parquet(cfret_profiles_path)\n",
    "\n",
    "# load mitocheck\n",
    "# mitocheck_negcon_profiles = pl.read_parquet(mitocheck_negcon_profiles_path)\n",
    "# mitocheck_trt_profiles = pl.read_parquet(mitocheck_trt_profiles_path)\n",
    "\n",
    "# load signatures (pickle files)\n",
    "# mitocheck_sigs = io_utils.load_configs(mitocheck_signatures_path)\n",
    "cfret_sigs = io_utils.load_configs(cfret_signatures_path)\n",
    "\n",
    "# load cluster labels (pickle files)\n",
    "# mitocheck_cluster_labels = io_utils.load_configs(mitocheck_cluster_labels_path)\n",
    "cfret_cluster_labels = io_utils.load_configs(cfret_cluster_labels_path)"
   ]
  },
  {
   "cell_type": "code",
   "execution_count": 16,
   "id": "deef46c0",
   "metadata": {},
   "outputs": [],
   "source": [
    "# adding cluster labels to the profiles\n",
    "# mitocheck_negcon_profiles = mitocheck_negcon_profiles.with_columns(\n",
    "#     pl.lit(0).alias(\"Metadata_cluster\")\n",
    "# )\n",
    "# mitocheck_trt_profiles = mitocheck_trt_profiles.with_columns(\n",
    "#     pl.Series(\"Metadata_cluster\", mitocheck_cluster_labels[\"cluster_labels\"])\n",
    "# )\n",
    "\n",
    "\n",
    "cfret_profiles = cfret_profiles.with_columns(\n",
    "    pl.Series(\"Metadata_cluster\", cfret_cluster_labels[\"cfret_cluster_results\"])\n",
    ")\n",
    "negcon_cfret_profiles = cfret_profiles.filter(pl.col(\"Metadata_treatment\") == \"DMSO\")\n",
    "treated_cfret_profiles = cfret_profiles.filter(pl.col(\"Metadata_treatment\") != \"DMSO\")"
   ]
  },
  {
   "cell_type": "markdown",
   "id": "7de5667b",
   "metadata": {},
   "source": [
    "## Measuring phenotypic activity"
   ]
  },
  {
   "cell_type": "code",
   "execution_count": 17,
   "id": "1613c8d6",
   "metadata": {},
   "outputs": [],
   "source": [
    "cfret_phenotypic_activity = measure_phenotypic_activity(\n",
    "    ref_profile=negcon_cfret_profiles,\n",
    "    exp_profiles=treated_cfret_profiles,\n",
    "    on_signature=cfret_sigs[\"cfret_negcon_TGFRi_poscon\"][\"signatures\"][\"on\"],\n",
    "    off_signature=cfret_sigs[\"cfret_negcon_TGFRi_poscon\"][\"signatures\"][\"off\"],\n",
    "    method=\"emd\",\n",
    "    treatment_col=\"Metadata_treatment\",\n",
    "    emd_dist_matrix_method=\"euclidean\",\n",
    ")"
   ]
  },
  {
   "cell_type": "code",
   "execution_count": 22,
   "id": "51834181",
   "metadata": {},
   "outputs": [],
   "source": [
    "# save phenotypic activity scores\n",
    "cfret_phenotypic_activity.sort(\n",
    "    [\"on_dist\", \"off_dist\"], descending=[False, False]\n",
    ").write_csv(metric_out_dir / \"cfret_phenotypic_activity_scores.csv\")"
   ]
  },
  {
   "cell_type": "code",
   "execution_count": 20,
   "id": "20827132",
   "metadata": {},
   "outputs": [],
   "source": [
    "# sort based on on_dist and low_dist ascending order\n",
    "cfret_phenotypic_activity = cfret_phenotypic_activity.sort(\n",
    "    [\"on_dist\", \"off_dist\"], descending=[False, False]\n",
    ")\n",
    "# --- IGNORE ---"
   ]
  },
  {
   "cell_type": "code",
   "execution_count": 21,
   "id": "3cc4282b",
   "metadata": {},
   "outputs": [
    {
     "data": {
      "text/html": [
       "<div><style>\n",
       ".dataframe > thead > tr,\n",
       ".dataframe > tbody > tr {\n",
       "  text-align: right;\n",
       "  white-space: pre-wrap;\n",
       "}\n",
       "</style>\n",
       "<small>shape: (72, 5)</small><table border=\"1\" class=\"dataframe\"><thead><tr><th>ref_cluster</th><th>treatment</th><th>exp_cluster</th><th>on_dist</th><th>off_dist</th></tr><tr><td>str</td><td>str</td><td>str</td><td>f64</td><td>f64</td></tr></thead><tbody><tr><td>&quot;5&quot;</td><td>&quot;TGFRi&quot;</td><td>&quot;0&quot;</td><td>24.649985</td><td>7.201024</td></tr><tr><td>&quot;0&quot;</td><td>&quot;TGFRi&quot;</td><td>&quot;0&quot;</td><td>24.69521</td><td>7.184525</td></tr><tr><td>&quot;2&quot;</td><td>&quot;TGFRi&quot;</td><td>&quot;0&quot;</td><td>24.729591</td><td>7.206523</td></tr><tr><td>&quot;5&quot;</td><td>&quot;TGFRi&quot;</td><td>&quot;1&quot;</td><td>24.776689</td><td>7.196115</td></tr><tr><td>&quot;0&quot;</td><td>&quot;TGFRi&quot;</td><td>&quot;1&quot;</td><td>24.780459</td><td>7.189827</td></tr><tr><td>&hellip;</td><td>&hellip;</td><td>&hellip;</td><td>&hellip;</td><td>&hellip;</td></tr><tr><td>&quot;4&quot;</td><td>&quot;drug_x&quot;</td><td>&quot;3&quot;</td><td>27.957917</td><td>7.453054</td></tr><tr><td>&quot;1&quot;</td><td>&quot;drug_x&quot;</td><td>&quot;2&quot;</td><td>27.976122</td><td>7.497608</td></tr><tr><td>&quot;4&quot;</td><td>&quot;drug_x&quot;</td><td>&quot;5&quot;</td><td>27.977291</td><td>7.511904</td></tr><tr><td>&quot;1&quot;</td><td>&quot;drug_x&quot;</td><td>&quot;3&quot;</td><td>27.984008</td><td>7.465182</td></tr><tr><td>&quot;1&quot;</td><td>&quot;drug_x&quot;</td><td>&quot;5&quot;</td><td>28.018692</td><td>7.482105</td></tr></tbody></table></div>"
      ],
      "text/plain": [
       "shape: (72, 5)\n",
       "┌─────────────┬───────────┬─────────────┬───────────┬──────────┐\n",
       "│ ref_cluster ┆ treatment ┆ exp_cluster ┆ on_dist   ┆ off_dist │\n",
       "│ ---         ┆ ---       ┆ ---         ┆ ---       ┆ ---      │\n",
       "│ str         ┆ str       ┆ str         ┆ f64       ┆ f64      │\n",
       "╞═════════════╪═══════════╪═════════════╪═══════════╪══════════╡\n",
       "│ 5           ┆ TGFRi     ┆ 0           ┆ 24.649985 ┆ 7.201024 │\n",
       "│ 0           ┆ TGFRi     ┆ 0           ┆ 24.69521  ┆ 7.184525 │\n",
       "│ 2           ┆ TGFRi     ┆ 0           ┆ 24.729591 ┆ 7.206523 │\n",
       "│ 5           ┆ TGFRi     ┆ 1           ┆ 24.776689 ┆ 7.196115 │\n",
       "│ 0           ┆ TGFRi     ┆ 1           ┆ 24.780459 ┆ 7.189827 │\n",
       "│ …           ┆ …         ┆ …           ┆ …         ┆ …        │\n",
       "│ 4           ┆ drug_x    ┆ 3           ┆ 27.957917 ┆ 7.453054 │\n",
       "│ 1           ┆ drug_x    ┆ 2           ┆ 27.976122 ┆ 7.497608 │\n",
       "│ 4           ┆ drug_x    ┆ 5           ┆ 27.977291 ┆ 7.511904 │\n",
       "│ 1           ┆ drug_x    ┆ 3           ┆ 27.984008 ┆ 7.465182 │\n",
       "│ 1           ┆ drug_x    ┆ 5           ┆ 28.018692 ┆ 7.482105 │\n",
       "└─────────────┴───────────┴─────────────┴───────────┴──────────┘"
      ]
     },
     "execution_count": 21,
     "metadata": {},
     "output_type": "execute_result"
    }
   ],
   "source": [
    "cfret_phenotypic_activity"
   ]
  },
  {
   "cell_type": "code",
   "execution_count": null,
   "id": "ec03705c",
   "metadata": {},
   "outputs": [],
   "source": []
  }
 ],
 "metadata": {
  "kernelspec": {
   "display_name": "buscar",
   "language": "python",
   "name": "python3"
  },
  "language_info": {
   "codemirror_mode": {
    "name": "ipython",
    "version": 3
   },
   "file_extension": ".py",
   "mimetype": "text/x-python",
   "name": "python",
   "nbconvert_exporter": "python",
   "pygments_lexer": "ipython3",
   "version": "3.12.11"
  }
 },
 "nbformat": 4,
 "nbformat_minor": 5
}
