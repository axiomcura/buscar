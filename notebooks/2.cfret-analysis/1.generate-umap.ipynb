{
 "cells": [
  {
   "cell_type": "markdown",
   "id": "e0861a23",
   "metadata": {},
   "source": [
    "# 1.Generate umap embeddings for CFReT dataset"
   ]
  },
  {
   "cell_type": "code",
   "execution_count": 1,
   "id": "2ed7689d",
   "metadata": {},
   "outputs": [],
   "source": [
    "import sys\n",
    "import pathlib\n",
    "\n",
    "\n",
    "sys.path.append(\"../../\")\n",
    "from utils import data_utils, io_utils"
   ]
  },
  {
   "cell_type": "code",
   "execution_count": 2,
   "id": "140fbcff",
   "metadata": {},
   "outputs": [],
   "source": [
    "# setting data paths\n",
    "sc_data_dir = pathlib.Path(\"../0.download-data/data/sc-profiles/cfret\").resolve(\n",
    "    strict=True\n",
    ")\n",
    "\n",
    "# load in cfret data\n",
    "cfret_data_path = (\n",
    "    sc_data_dir / \"localhost230405150001_sc_feature_selected.parquet\"\n",
    ").resolve(strict=True)\n",
    "\n",
    "# create results directory if it doesn't exist\n",
    "results_dir = pathlib.Path(\"./results/umap\")\n",
    "results_dir.mkdir(parents=True, exist_ok=True)"
   ]
  },
  {
   "cell_type": "code",
   "execution_count": 3,
   "id": "f481487c",
   "metadata": {},
   "outputs": [],
   "source": [
    "# load cfret profiles and split metadata and morphology features\n",
    "cfret_df = io_utils.load_profiles(cfret_data_path)\n",
    "cfret_meta, cfret_feats = data_utils.split_meta_and_morphology_feats(cfret_df)"
   ]
  },
  {
   "cell_type": "code",
   "execution_count": 4,
   "id": "c8a2bb08",
   "metadata": {},
   "outputs": [
    {
     "name": "stderr",
     "output_type": "stream",
     "text": [
      "/home/erikserrano/Programs/miniconda3/envs/buscar/lib/python3.12/site-packages/umap/umap_.py:1952: UserWarning: n_jobs value 1 overridden to 1 by setting random_state. Use no seed for parallelism.\n",
      "  warn(\n"
     ]
    }
   ],
   "source": [
    "# generate umap and save as parquet\n",
    "umap_df = data_utils.generate_umap(\n",
    "    profiles=cfret_df,\n",
    "    meta_features=cfret_meta,\n",
    "    morphology_features=cfret_feats,\n",
    "    metric=\"cosine\",\n",
    "    low_memory=True,\n",
    "    nan_handling=\"drop\",\n",
    ")\n",
    "\n",
    "umap_df.write_parquet(results_dir / \"cfret_umap.parquet\")"
   ]
  }
 ],
 "metadata": {
  "kernelspec": {
   "display_name": "buscar",
   "language": "python",
   "name": "python3"
  },
  "language_info": {
   "codemirror_mode": {
    "name": "ipython",
    "version": 3
   },
   "file_extension": ".py",
   "mimetype": "text/x-python",
   "name": "python",
   "nbconvert_exporter": "python",
   "pygments_lexer": "ipython3",
   "version": "3.12.11"
  }
 },
 "nbformat": 4,
 "nbformat_minor": 5
}
